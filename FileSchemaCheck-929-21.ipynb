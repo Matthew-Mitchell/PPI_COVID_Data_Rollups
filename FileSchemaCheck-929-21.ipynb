{
 "cells": [
  {
   "cell_type": "code",
   "execution_count": 4,
   "metadata": {},
   "outputs": [],
   "source": [
    "import pandas as pd\n",
    "import glob"
   ]
  },
  {
   "cell_type": "code",
   "execution_count": 6,
   "metadata": {},
   "outputs": [
    {
     "data": {
      "text/plain": [
       "'/Users/matthewmitchell/Documents/PPI/PPI_COVID_Data_Rollups'"
      ]
     },
     "execution_count": 6,
     "metadata": {},
     "output_type": "execute_result"
    }
   ],
   "source": [
    "pwd"
   ]
  },
  {
   "cell_type": "code",
   "execution_count": 7,
   "metadata": {},
   "outputs": [
    {
     "name": "stdout",
     "output_type": "stream",
     "text": [
      "jdi_booking_stats_2021-09-11.csv\n",
      "No columns to parse from file\n",
      "\n",
      "\n",
      "jdi_booking_stats_2021-09-28.csv\n",
      "Index(['Population', 'Population_Interpolated', 'Admissions',\n",
      "       'Admissions_Interpolated', 'Releases', 'Releases_Interpolated', 'State',\n",
      "       'Jail', 'Date', 'First_Scrape', 'Last_Scrape'],\n",
      "      dtype='object')\n",
      "\n",
      "\n",
      "jdi_booking_stats_2021-03-11.csv\n",
      "No columns to parse from file\n",
      "\n",
      "\n",
      "jdi_booking_stats_2021-06-19.csv\n",
      "No columns to parse from file\n",
      "\n",
      "\n",
      "jdi_booking_stats_2021-06-17.csv\n",
      "Index(['Unnamed: 0', 'population_raw', 'population_zeroed',\n",
      "       'population_linear_interpolated', 'date', 'State-County'],\n",
      "      dtype='object')\n",
      "\n",
      "\n",
      "jdi_booking_stats_2021-03-19.csv\n",
      "No columns to parse from file\n",
      "\n",
      "\n",
      "jdi_booking_stats_2021-05-19.csv\n",
      "No columns to parse from file\n",
      "\n",
      "\n"
     ]
    }
   ],
   "source": [
    "jdi_files = glob.glob(\"jdi_booking_stats_*.csv\")\n",
    "for file in jdi_files:\n",
    "    print(file)\n",
    "    try:\n",
    "        df1 = pd.read_csv(file)\n",
    "        print(df1.columns)\n",
    "    except Exception as e:\n",
    "        print(e)\n",
    "    print('\\n')"
   ]
  },
  {
   "cell_type": "code",
   "execution_count": null,
   "metadata": {},
   "outputs": [],
   "source": [
    "df = pd.read_csv(\"jdi_booking_stats_2021-09-28.csv\"\")"
   ]
  }
 ],
 "metadata": {
  "kernelspec": {
   "display_name": "Python 3",
   "language": "python",
   "name": "python3"
  },
  "language_info": {
   "codemirror_mode": {
    "name": "ipython",
    "version": 3
   },
   "file_extension": ".py",
   "mimetype": "text/x-python",
   "name": "python",
   "nbconvert_exporter": "python",
   "pygments_lexer": "ipython3",
   "version": "3.7.4"
  }
 },
 "nbformat": 4,
 "nbformat_minor": 2
}
