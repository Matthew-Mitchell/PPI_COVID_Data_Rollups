{
 "cells": [
  {
   "cell_type": "code",
   "execution_count": 10,
   "metadata": {},
   "outputs": [],
   "source": [
    "import pandas as pd\n",
    "import datetime\n",
    "import requests"
   ]
  },
  {
   "cell_type": "markdown",
   "metadata": {},
   "source": [
    "Orion at NYU said this:\n",
    "\n",
    "What you can do for now is use these links (current month daily, previous month daily, last three months weekly, previous three months weekly):\n",
    "\n",
    "* [November](https://api.jaildatainitiative.org/dashboards/get_pops?jails=&races=&ages=&genders=&date=November)\n",
    "* [October](https://api.jaildatainitiative.org/dashboards/get_pops?jails=&races=&ages=&genders=&date=October)\n",
    "* [September - November](https://api.jaildatainitiative.org/dashboards/get_pops?jails=&races=&ages=&genders=&date=September-November)\n",
    "* [June-August](https://api.jaildatainitiative.org/dashboards/get_pops?jails=&races=&ages=&genders=&date=June-August)"
   ]
  },
  {
   "cell_type": "markdown",
   "metadata": {},
   "source": [
    "## Get New Data"
   ]
  },
  {
   "cell_type": "code",
   "execution_count": 3,
   "metadata": {},
   "outputs": [],
   "source": [
    "def pull_jdi_api(url):\n",
    "    response = requests.get(url)\n",
    "    df = pd.DataFrame(response.json()['data'])\n",
    "    df.Date = pd.to_datetime(df.Date)\n",
    "    return df"
   ]
  },
  {
   "cell_type": "code",
   "execution_count": 5,
   "metadata": {},
   "outputs": [
    {
     "data": {
      "text/html": [
       "<div>\n",
       "<style scoped>\n",
       "    .dataframe tbody tr th:only-of-type {\n",
       "        vertical-align: middle;\n",
       "    }\n",
       "\n",
       "    .dataframe tbody tr th {\n",
       "        vertical-align: top;\n",
       "    }\n",
       "\n",
       "    .dataframe thead th {\n",
       "        text-align: right;\n",
       "    }\n",
       "</style>\n",
       "<table border=\"1\" class=\"dataframe\">\n",
       "  <thead>\n",
       "    <tr style=\"text-align: right;\">\n",
       "      <th></th>\n",
       "      <th>Date</th>\n",
       "      <th>Race</th>\n",
       "      <th>Age</th>\n",
       "      <th>Gender</th>\n",
       "      <th>JailId</th>\n",
       "      <th>Population_Interpolated</th>\n",
       "      <th>Admissions_Interpolated</th>\n",
       "      <th>Releases_Interpolated</th>\n",
       "      <th>ScrapeMissing</th>\n",
       "    </tr>\n",
       "  </thead>\n",
       "  <tbody>\n",
       "    <tr>\n",
       "      <th>0</th>\n",
       "      <td>2021-11-01T00:00:00.000Z</td>\n",
       "      <td>All</td>\n",
       "      <td>All</td>\n",
       "      <td>All</td>\n",
       "      <td>FL-Hillsborough</td>\n",
       "      <td>2945.0</td>\n",
       "      <td>48.0</td>\n",
       "      <td>0.0</td>\n",
       "      <td>0</td>\n",
       "    </tr>\n",
       "    <tr>\n",
       "      <th>1</th>\n",
       "      <td>2021-11-01T00:00:00.000Z</td>\n",
       "      <td>All</td>\n",
       "      <td>All</td>\n",
       "      <td>All</td>\n",
       "      <td>TX-Collin</td>\n",
       "      <td>1148.0</td>\n",
       "      <td>40.0</td>\n",
       "      <td>36.0</td>\n",
       "      <td>0</td>\n",
       "    </tr>\n",
       "    <tr>\n",
       "      <th>2</th>\n",
       "      <td>2021-11-01T00:00:00.000Z</td>\n",
       "      <td>All</td>\n",
       "      <td>All</td>\n",
       "      <td>All</td>\n",
       "      <td>MN-Stearns</td>\n",
       "      <td>153.0</td>\n",
       "      <td>8.0</td>\n",
       "      <td>18.0</td>\n",
       "      <td>0</td>\n",
       "    </tr>\n",
       "    <tr>\n",
       "      <th>3</th>\n",
       "      <td>2021-11-01T00:00:00.000Z</td>\n",
       "      <td>All</td>\n",
       "      <td>All</td>\n",
       "      <td>All</td>\n",
       "      <td>IN-Marion</td>\n",
       "      <td>2037.0</td>\n",
       "      <td>64.0</td>\n",
       "      <td>102.0</td>\n",
       "      <td>0</td>\n",
       "    </tr>\n",
       "    <tr>\n",
       "      <th>4</th>\n",
       "      <td>2021-11-01T00:00:00.000Z</td>\n",
       "      <td>All</td>\n",
       "      <td>All</td>\n",
       "      <td>All</td>\n",
       "      <td>VA-Virginia_Beach</td>\n",
       "      <td>1190.0</td>\n",
       "      <td>13.0</td>\n",
       "      <td>17.0</td>\n",
       "      <td>0</td>\n",
       "    </tr>\n",
       "  </tbody>\n",
       "</table>\n",
       "</div>"
      ],
      "text/plain": [
       "                       Date Race  Age Gender             JailId  \\\n",
       "0  2021-11-01T00:00:00.000Z  All  All    All    FL-Hillsborough   \n",
       "1  2021-11-01T00:00:00.000Z  All  All    All          TX-Collin   \n",
       "2  2021-11-01T00:00:00.000Z  All  All    All         MN-Stearns   \n",
       "3  2021-11-01T00:00:00.000Z  All  All    All          IN-Marion   \n",
       "4  2021-11-01T00:00:00.000Z  All  All    All  VA-Virginia_Beach   \n",
       "\n",
       "   Population_Interpolated  Admissions_Interpolated  Releases_Interpolated  \\\n",
       "0                   2945.0                     48.0                    0.0   \n",
       "1                   1148.0                     40.0                   36.0   \n",
       "2                    153.0                      8.0                   18.0   \n",
       "3                   2037.0                     64.0                  102.0   \n",
       "4                   1190.0                     13.0                   17.0   \n",
       "\n",
       "   ScrapeMissing  \n",
       "0              0  \n",
       "1              0  \n",
       "2              0  \n",
       "3              0  \n",
       "4              0  "
      ]
     },
     "execution_count": 5,
     "metadata": {},
     "output_type": "execute_result"
    }
   ],
   "source": [
    "url = \"https://api.jaildatainitiative.org/dashboards/get_pops?jails=&races=&ages=&genders=&date=November\"\n",
    "response = requests.get(url)\n",
    "nov = pd.DataFrame(response.json()['data'])\n",
    "nov.head()"
   ]
  },
  {
   "cell_type": "code",
   "execution_count": 16,
   "metadata": {},
   "outputs": [],
   "source": [
    "pull_time = datetime.datetime.now().strftime(\"%m-%d-%Y-%-H%M%P\")\n",
    "filename = \"October_Data_pulled_{}.csv\".format(pull_time)\n",
    "print(\"Saving to: \", filename)\n",
    "nov.to_csv(filename,index=False)"
   ]
  },
  {
   "cell_type": "code",
   "execution_count": 6,
   "metadata": {},
   "outputs": [
    {
     "data": {
      "text/plain": [
       "0    0.959542\n",
       "1    0.040458\n",
       "Name: ScrapeMissing, dtype: float64"
      ]
     },
     "execution_count": 6,
     "metadata": {},
     "output_type": "execute_result"
    }
   ],
   "source": [
    "nov.ScrapeMissing.value_counts(normalize=True)"
   ]
  },
  {
   "cell_type": "code",
   "execution_count": 8,
   "metadata": {},
   "outputs": [
    {
     "data": {
      "text/html": [
       "<div>\n",
       "<style scoped>\n",
       "    .dataframe tbody tr th:only-of-type {\n",
       "        vertical-align: middle;\n",
       "    }\n",
       "\n",
       "    .dataframe tbody tr th {\n",
       "        vertical-align: top;\n",
       "    }\n",
       "\n",
       "    .dataframe thead th {\n",
       "        text-align: right;\n",
       "    }\n",
       "</style>\n",
       "<table border=\"1\" class=\"dataframe\">\n",
       "  <thead>\n",
       "    <tr style=\"text-align: right;\">\n",
       "      <th></th>\n",
       "      <th>Date</th>\n",
       "      <th>Race</th>\n",
       "      <th>Age</th>\n",
       "      <th>Gender</th>\n",
       "      <th>JailId</th>\n",
       "      <th>Population_Interpolated</th>\n",
       "      <th>Admissions_Interpolated</th>\n",
       "      <th>Releases_Interpolated</th>\n",
       "      <th>ScrapeMissing</th>\n",
       "    </tr>\n",
       "  </thead>\n",
       "  <tbody>\n",
       "    <tr>\n",
       "      <th>0</th>\n",
       "      <td>2021-10-01 00:00:00+00:00</td>\n",
       "      <td>All</td>\n",
       "      <td>All</td>\n",
       "      <td>All</td>\n",
       "      <td>FL-Hillsborough</td>\n",
       "      <td>2867.000000</td>\n",
       "      <td>90.00000</td>\n",
       "      <td>0.000000</td>\n",
       "      <td>0</td>\n",
       "    </tr>\n",
       "    <tr>\n",
       "      <th>1</th>\n",
       "      <td>2021-10-01 00:00:00+00:00</td>\n",
       "      <td>All</td>\n",
       "      <td>All</td>\n",
       "      <td>All</td>\n",
       "      <td>TX-Collin</td>\n",
       "      <td>1113.978261</td>\n",
       "      <td>10.73913</td>\n",
       "      <td>11.282609</td>\n",
       "      <td>1</td>\n",
       "    </tr>\n",
       "  </tbody>\n",
       "</table>\n",
       "</div>"
      ],
      "text/plain": [
       "                       Date Race  Age Gender           JailId  \\\n",
       "0 2021-10-01 00:00:00+00:00  All  All    All  FL-Hillsborough   \n",
       "1 2021-10-01 00:00:00+00:00  All  All    All        TX-Collin   \n",
       "\n",
       "   Population_Interpolated  Admissions_Interpolated  Releases_Interpolated  \\\n",
       "0              2867.000000                 90.00000               0.000000   \n",
       "1              1113.978261                 10.73913              11.282609   \n",
       "\n",
       "   ScrapeMissing  \n",
       "0              0  \n",
       "1              1  "
      ]
     },
     "execution_count": 8,
     "metadata": {},
     "output_type": "execute_result"
    }
   ],
   "source": [
    "oct_url = \"https://api.jaildatainitiative.org/dashboards/get_pops?jails=&races=&ages=&genders=&date=October\"\n",
    "october = pull_jdi_api(oct_url)\n",
    "october.head(2)"
   ]
  },
  {
   "cell_type": "code",
   "execution_count": 15,
   "metadata": {},
   "outputs": [],
   "source": [
    "pull_time = datetime.datetime.now().strftime(\"%m-%d-%Y-%-H%M%P\")\n",
    "filename = \"October_Data_pulled_{}.csv\".format(pull_time)\n",
    "print(\"Saving to: \", filename)\n",
    "october.to_csv(filename,index=False)"
   ]
  },
  {
   "cell_type": "code",
   "execution_count": 17,
   "metadata": {},
   "outputs": [
    {
     "data": {
      "text/plain": [
       "0    0.927201\n",
       "1    0.072799\n",
       "Name: ScrapeMissing, dtype: float64"
      ]
     },
     "execution_count": 17,
     "metadata": {},
     "output_type": "execute_result"
    }
   ],
   "source": [
    "october.ScrapeMissing.value_counts(normalize=True)"
   ]
  },
  {
   "cell_type": "code",
   "execution_count": 19,
   "metadata": {},
   "outputs": [
    {
     "data": {
      "text/html": [
       "<div>\n",
       "<style scoped>\n",
       "    .dataframe tbody tr th:only-of-type {\n",
       "        vertical-align: middle;\n",
       "    }\n",
       "\n",
       "    .dataframe tbody tr th {\n",
       "        vertical-align: top;\n",
       "    }\n",
       "\n",
       "    .dataframe thead th {\n",
       "        text-align: right;\n",
       "    }\n",
       "</style>\n",
       "<table border=\"1\" class=\"dataframe\">\n",
       "  <thead>\n",
       "    <tr style=\"text-align: right;\">\n",
       "      <th></th>\n",
       "      <th>Date</th>\n",
       "      <th>Race</th>\n",
       "      <th>Age</th>\n",
       "      <th>Gender</th>\n",
       "      <th>JailId</th>\n",
       "      <th>Population_Interpolated</th>\n",
       "      <th>Admissions_Interpolated</th>\n",
       "      <th>Releases_Interpolated</th>\n",
       "      <th>ScrapeMissing</th>\n",
       "    </tr>\n",
       "  </thead>\n",
       "  <tbody>\n",
       "    <tr>\n",
       "      <th>0</th>\n",
       "      <td>2021-08-29 00:00:00+00:00</td>\n",
       "      <td>All</td>\n",
       "      <td>All</td>\n",
       "      <td>All</td>\n",
       "      <td>FL-Hillsborough</td>\n",
       "      <td>2821.250000</td>\n",
       "      <td>67.75000</td>\n",
       "      <td>56.500000</td>\n",
       "      <td>0</td>\n",
       "    </tr>\n",
       "    <tr>\n",
       "      <th>1</th>\n",
       "      <td>2021-08-29 00:00:00+00:00</td>\n",
       "      <td>All</td>\n",
       "      <td>All</td>\n",
       "      <td>All</td>\n",
       "      <td>TX-Collin</td>\n",
       "      <td>1129.467391</td>\n",
       "      <td>10.73913</td>\n",
       "      <td>11.282609</td>\n",
       "      <td>1</td>\n",
       "    </tr>\n",
       "  </tbody>\n",
       "</table>\n",
       "</div>"
      ],
      "text/plain": [
       "                       Date Race  Age Gender           JailId  \\\n",
       "0 2021-08-29 00:00:00+00:00  All  All    All  FL-Hillsborough   \n",
       "1 2021-08-29 00:00:00+00:00  All  All    All        TX-Collin   \n",
       "\n",
       "   Population_Interpolated  Admissions_Interpolated  Releases_Interpolated  \\\n",
       "0              2821.250000                 67.75000              56.500000   \n",
       "1              1129.467391                 10.73913              11.282609   \n",
       "\n",
       "   ScrapeMissing  \n",
       "0              0  \n",
       "1              1  "
      ]
     },
     "execution_count": 19,
     "metadata": {},
     "output_type": "execute_result"
    }
   ],
   "source": [
    "sept_nov_wkly_url = \"https://api.jaildatainitiative.org/dashboards/get_pops?jails=&races=&ages=&genders=&date=September-November\"\n",
    "sept_nov_wkly = pull_jdi_api(sept_nov_wkly_url)\n",
    "sept_nov_wkly.head(2)"
   ]
  },
  {
   "cell_type": "code",
   "execution_count": 20,
   "metadata": {},
   "outputs": [
    {
     "name": "stdout",
     "output_type": "stream",
     "text": [
      "Saving to:  Sept-Nov_Weekly_Data_pulled_01-09-2022-1033am.csv\n"
     ]
    }
   ],
   "source": [
    "pull_time = datetime.datetime.now().strftime(\"%m-%d-%Y-%-H%M%P\")\n",
    "filename = \"Sept-Nov_Weekly_Data_pulled_{}.csv\".format(pull_time)\n",
    "print(\"Saving to: \", filename)\n",
    "sept_nov_wkly.to_csv(filename,index=False)"
   ]
  },
  {
   "cell_type": "code",
   "execution_count": 24,
   "metadata": {},
   "outputs": [
    {
     "name": "stdout",
     "output_type": "stream",
     "text": [
      "Saving to:  June-Aug_Weekly_Data_pulled_01-09-2022-1044am.csv\n"
     ]
    },
    {
     "data": {
      "text/html": [
       "<div>\n",
       "<style scoped>\n",
       "    .dataframe tbody tr th:only-of-type {\n",
       "        vertical-align: middle;\n",
       "    }\n",
       "\n",
       "    .dataframe tbody tr th {\n",
       "        vertical-align: top;\n",
       "    }\n",
       "\n",
       "    .dataframe thead th {\n",
       "        text-align: right;\n",
       "    }\n",
       "</style>\n",
       "<table border=\"1\" class=\"dataframe\">\n",
       "  <thead>\n",
       "    <tr style=\"text-align: right;\">\n",
       "      <th></th>\n",
       "      <th>Date</th>\n",
       "      <th>Race</th>\n",
       "      <th>Age</th>\n",
       "      <th>Gender</th>\n",
       "      <th>JailId</th>\n",
       "      <th>Population_Interpolated</th>\n",
       "      <th>Admissions_Interpolated</th>\n",
       "      <th>Releases_Interpolated</th>\n",
       "      <th>ScrapeMissing</th>\n",
       "    </tr>\n",
       "  </thead>\n",
       "  <tbody>\n",
       "    <tr>\n",
       "      <th>0</th>\n",
       "      <td>2021-05-30 00:00:00+00:00</td>\n",
       "      <td>All</td>\n",
       "      <td>All</td>\n",
       "      <td>All</td>\n",
       "      <td>TX-Collin</td>\n",
       "      <td>980.4</td>\n",
       "      <td>43.4</td>\n",
       "      <td>37.6</td>\n",
       "      <td>0</td>\n",
       "    </tr>\n",
       "    <tr>\n",
       "      <th>1</th>\n",
       "      <td>2021-05-30 00:00:00+00:00</td>\n",
       "      <td>All</td>\n",
       "      <td>All</td>\n",
       "      <td>All</td>\n",
       "      <td>IN-Marion</td>\n",
       "      <td>1906.2</td>\n",
       "      <td>79.4</td>\n",
       "      <td>86.6</td>\n",
       "      <td>0</td>\n",
       "    </tr>\n",
       "  </tbody>\n",
       "</table>\n",
       "</div>"
      ],
      "text/plain": [
       "                       Date Race  Age Gender     JailId  \\\n",
       "0 2021-05-30 00:00:00+00:00  All  All    All  TX-Collin   \n",
       "1 2021-05-30 00:00:00+00:00  All  All    All  IN-Marion   \n",
       "\n",
       "   Population_Interpolated  Admissions_Interpolated  Releases_Interpolated  \\\n",
       "0                    980.4                     43.4                   37.6   \n",
       "1                   1906.2                     79.4                   86.6   \n",
       "\n",
       "   ScrapeMissing  \n",
       "0              0  \n",
       "1              0  "
      ]
     },
     "execution_count": 24,
     "metadata": {},
     "output_type": "execute_result"
    }
   ],
   "source": [
    "june_aug_wkly_url = \"https://api.jaildatainitiative.org/dashboards/get_pops?jails=&races=&ages=&genders=&date=June-August\"\n",
    "june_aug_wkly = pull_jdi_api(june_aug_wkly_url)\n",
    "\n",
    "pull_time = datetime.datetime.now().strftime(\"%m-%d-%Y-%-H%M%P\")\n",
    "filename = \"June-Aug_Weekly_Data_pulled_{}.csv\".format(pull_time)\n",
    "print(\"Saving to: \", filename)\n",
    "june_aug_wkly.to_csv(filename,index=False)\n",
    "\n",
    "june_aug_wkly.head(2)"
   ]
  },
  {
   "cell_type": "markdown",
   "metadata": {},
   "source": [
    "## Load Previous Output"
   ]
  },
  {
   "cell_type": "code",
   "execution_count": 29,
   "metadata": {},
   "outputs": [
    {
     "name": "stdout",
     "output_type": "stream",
     "text": [
      "(415, 79)\n"
     ]
    },
    {
     "data": {
      "text/html": [
       "<div>\n",
       "<style scoped>\n",
       "    .dataframe tbody tr th:only-of-type {\n",
       "        vertical-align: middle;\n",
       "    }\n",
       "\n",
       "    .dataframe tbody tr th {\n",
       "        vertical-align: top;\n",
       "    }\n",
       "\n",
       "    .dataframe thead th {\n",
       "        text-align: right;\n",
       "    }\n",
       "</style>\n",
       "<table border=\"1\" class=\"dataframe\">\n",
       "  <thead>\n",
       "    <tr style=\"text-align: right;\">\n",
       "      <th></th>\n",
       "      <th>STATE-COUNTY</th>\n",
       "      <th>2020-03-10 00:00:00</th>\n",
       "      <th>2020-03-16 00:00:00</th>\n",
       "      <th>2020-04-06 00:00:00</th>\n",
       "      <th>2020-05-04 00:00:00</th>\n",
       "      <th>2020-06-01 00:00:00</th>\n",
       "      <th>2020-07-06 00:00:00</th>\n",
       "      <th>2020-08-03 00:00:00</th>\n",
       "      <th>2020-09-07 00:00:00</th>\n",
       "      <th>2020-10-05 00:00:00</th>\n",
       "      <th>...</th>\n",
       "      <th>FirstMondayAvailable07-2020</th>\n",
       "      <th>FirstMondayAvailable07-2021</th>\n",
       "      <th>FirstMondayAvailable08-2020</th>\n",
       "      <th>FirstMondayAvailable08-2021</th>\n",
       "      <th>FirstMondayAvailable09-2020</th>\n",
       "      <th>FirstMondayAvailable09-2021</th>\n",
       "      <th>FirstMondayAvailable10-2020</th>\n",
       "      <th>FirstMondayAvailable10-2021</th>\n",
       "      <th>FirstMondayAvailable11-2020</th>\n",
       "      <th>FirstMondayAvailable12-2020</th>\n",
       "    </tr>\n",
       "  </thead>\n",
       "  <tbody>\n",
       "    <tr>\n",
       "      <th>0</th>\n",
       "      <td>AL-Autauga</td>\n",
       "      <td>172</td>\n",
       "      <td>178.0</td>\n",
       "      <td>139.0</td>\n",
       "      <td>156.0</td>\n",
       "      <td>174.0</td>\n",
       "      <td>170.0</td>\n",
       "      <td>147.0</td>\n",
       "      <td>160.0</td>\n",
       "      <td>160.0</td>\n",
       "      <td>...</td>\n",
       "      <td>170.0</td>\n",
       "      <td>158.0</td>\n",
       "      <td>147.0</td>\n",
       "      <td>159.0</td>\n",
       "      <td>160.0</td>\n",
       "      <td>150.0</td>\n",
       "      <td>160.0</td>\n",
       "      <td>158.0</td>\n",
       "      <td>185.0</td>\n",
       "      <td>184.0</td>\n",
       "    </tr>\n",
       "    <tr>\n",
       "      <th>1</th>\n",
       "      <td>AL-Chilton</td>\n",
       "      <td>212</td>\n",
       "      <td>207.0</td>\n",
       "      <td>152.0</td>\n",
       "      <td>172.0</td>\n",
       "      <td>175.0</td>\n",
       "      <td>184.0</td>\n",
       "      <td>158.0</td>\n",
       "      <td>153.0</td>\n",
       "      <td>188.0</td>\n",
       "      <td>...</td>\n",
       "      <td>184.0</td>\n",
       "      <td>198.0</td>\n",
       "      <td>158.0</td>\n",
       "      <td>216.0</td>\n",
       "      <td>153.0</td>\n",
       "      <td>194.0</td>\n",
       "      <td>188.0</td>\n",
       "      <td>218.0</td>\n",
       "      <td>184.0</td>\n",
       "      <td>200.0</td>\n",
       "    </tr>\n",
       "    <tr>\n",
       "      <th>2</th>\n",
       "      <td>AL-Clay</td>\n",
       "      <td>39</td>\n",
       "      <td>42.0</td>\n",
       "      <td>31.0</td>\n",
       "      <td>28.0</td>\n",
       "      <td>31.0</td>\n",
       "      <td>34.0</td>\n",
       "      <td>30.0</td>\n",
       "      <td>32.0</td>\n",
       "      <td>36.0</td>\n",
       "      <td>...</td>\n",
       "      <td>34.0</td>\n",
       "      <td>60.0</td>\n",
       "      <td>30.0</td>\n",
       "      <td>44.0</td>\n",
       "      <td>32.0</td>\n",
       "      <td>54.0</td>\n",
       "      <td>36.0</td>\n",
       "      <td>54.0</td>\n",
       "      <td>33.0</td>\n",
       "      <td>30.0</td>\n",
       "    </tr>\n",
       "  </tbody>\n",
       "</table>\n",
       "<p>3 rows × 79 columns</p>\n",
       "</div>"
      ],
      "text/plain": [
       "  STATE-COUNTY  2020-03-10 00:00:00  2020-03-16 00:00:00  2020-04-06 00:00:00  \\\n",
       "0   AL-Autauga                  172                178.0                139.0   \n",
       "1   AL-Chilton                  212                207.0                152.0   \n",
       "2      AL-Clay                   39                 42.0                 31.0   \n",
       "\n",
       "   2020-05-04 00:00:00  2020-06-01 00:00:00  2020-07-06 00:00:00  \\\n",
       "0                156.0                174.0                170.0   \n",
       "1                172.0                175.0                184.0   \n",
       "2                 28.0                 31.0                 34.0   \n",
       "\n",
       "   2020-08-03 00:00:00  2020-09-07 00:00:00  2020-10-05 00:00:00  ...  \\\n",
       "0                147.0                160.0                160.0  ...   \n",
       "1                158.0                153.0                188.0  ...   \n",
       "2                 30.0                 32.0                 36.0  ...   \n",
       "\n",
       "   FirstMondayAvailable07-2020  FirstMondayAvailable07-2021  \\\n",
       "0                        170.0                        158.0   \n",
       "1                        184.0                        198.0   \n",
       "2                         34.0                         60.0   \n",
       "\n",
       "   FirstMondayAvailable08-2020  FirstMondayAvailable08-2021  \\\n",
       "0                        147.0                        159.0   \n",
       "1                        158.0                        216.0   \n",
       "2                         30.0                         44.0   \n",
       "\n",
       "   FirstMondayAvailable09-2020  FirstMondayAvailable09-2021  \\\n",
       "0                        160.0                        150.0   \n",
       "1                        153.0                        194.0   \n",
       "2                         32.0                         54.0   \n",
       "\n",
       "   FirstMondayAvailable10-2020  FirstMondayAvailable10-2021  \\\n",
       "0                        160.0                        158.0   \n",
       "1                        188.0                        218.0   \n",
       "2                         36.0                         54.0   \n",
       "\n",
       "   FirstMondayAvailable11-2020  FirstMondayAvailable12-2020  \n",
       "0                        185.0                        184.0  \n",
       "1                        184.0                        200.0  \n",
       "2                         33.0                         30.0  \n",
       "\n",
       "[3 rows x 79 columns]"
      ]
     },
     "execution_count": 29,
     "metadata": {},
     "output_type": "execute_result"
    }
   ],
   "source": [
    "prior = pd.read_excel(\"Jail_Summaries_as_of_10-08-2021.xlsx\", engine=\"openpyxl\")\n",
    "print(prior.shape)\n",
    "prior.head(3)"
   ]
  },
  {
   "cell_type": "code",
   "execution_count": 30,
   "metadata": {},
   "outputs": [
    {
     "name": "stdout",
     "output_type": "stream",
     "text": [
      "(577, 4)\n"
     ]
    },
    {
     "data": {
      "text/html": [
       "<div>\n",
       "<style scoped>\n",
       "    .dataframe tbody tr th:only-of-type {\n",
       "        vertical-align: middle;\n",
       "    }\n",
       "\n",
       "    .dataframe tbody tr th {\n",
       "        vertical-align: top;\n",
       "    }\n",
       "\n",
       "    .dataframe thead th {\n",
       "        text-align: right;\n",
       "    }\n",
       "</style>\n",
       "<table border=\"1\" class=\"dataframe\">\n",
       "  <thead>\n",
       "    <tr style=\"text-align: right;\">\n",
       "      <th></th>\n",
       "      <th>Scrape_Date</th>\n",
       "      <th>Count_Of_Jails</th>\n",
       "      <th>Total_Jail_Population</th>\n",
       "      <th>Seven_Day_Rolling_Average</th>\n",
       "    </tr>\n",
       "  </thead>\n",
       "  <tbody>\n",
       "    <tr>\n",
       "      <th>0</th>\n",
       "      <td>2020-03-10</td>\n",
       "      <td>415</td>\n",
       "      <td>116372</td>\n",
       "      <td>NaN</td>\n",
       "    </tr>\n",
       "    <tr>\n",
       "      <th>1</th>\n",
       "      <td>2020-03-11</td>\n",
       "      <td>399</td>\n",
       "      <td>112775</td>\n",
       "      <td>NaN</td>\n",
       "    </tr>\n",
       "    <tr>\n",
       "      <th>2</th>\n",
       "      <td>2020-03-12</td>\n",
       "      <td>404</td>\n",
       "      <td>114083</td>\n",
       "      <td>NaN</td>\n",
       "    </tr>\n",
       "  </tbody>\n",
       "</table>\n",
       "</div>"
      ],
      "text/plain": [
       "  Scrape_Date  Count_Of_Jails  Total_Jail_Population  \\\n",
       "0  2020-03-10             415                 116372   \n",
       "1  2020-03-11             399                 112775   \n",
       "2  2020-03-12             404                 114083   \n",
       "\n",
       "   Seven_Day_Rolling_Average  \n",
       "0                        NaN  \n",
       "1                        NaN  \n",
       "2                        NaN  "
      ]
     },
     "execution_count": 30,
     "metadata": {},
     "output_type": "execute_result"
    }
   ],
   "source": [
    "prior_sheet2 = pd.read_excel(\"Jail_Summaries_as_of_10-08-2021.xlsx\", sheet_name=1, engine=\"openpyxl\")\n",
    "print(prior_sheet2.shape)\n",
    "prior_sheet2.head(3)"
   ]
  },
  {
   "cell_type": "code",
   "execution_count": 31,
   "metadata": {},
   "outputs": [
    {
     "data": {
      "text/html": [
       "<div>\n",
       "<style scoped>\n",
       "    .dataframe tbody tr th:only-of-type {\n",
       "        vertical-align: middle;\n",
       "    }\n",
       "\n",
       "    .dataframe tbody tr th {\n",
       "        vertical-align: top;\n",
       "    }\n",
       "\n",
       "    .dataframe thead th {\n",
       "        text-align: right;\n",
       "    }\n",
       "</style>\n",
       "<table border=\"1\" class=\"dataframe\">\n",
       "  <thead>\n",
       "    <tr style=\"text-align: right;\">\n",
       "      <th></th>\n",
       "      <th>Scrape_Date</th>\n",
       "      <th>Count_Of_Jails</th>\n",
       "      <th>Total_Jail_Population</th>\n",
       "      <th>Seven_Day_Rolling_Average</th>\n",
       "    </tr>\n",
       "  </thead>\n",
       "  <tbody>\n",
       "    <tr>\n",
       "      <th>574</th>\n",
       "      <td>2021-10-05</td>\n",
       "      <td>397</td>\n",
       "      <td>99014</td>\n",
       "      <td>98766.857143</td>\n",
       "    </tr>\n",
       "    <tr>\n",
       "      <th>575</th>\n",
       "      <td>2021-10-06</td>\n",
       "      <td>396</td>\n",
       "      <td>98615</td>\n",
       "      <td>98704.571429</td>\n",
       "    </tr>\n",
       "    <tr>\n",
       "      <th>576</th>\n",
       "      <td>2021-10-07</td>\n",
       "      <td>394</td>\n",
       "      <td>97997</td>\n",
       "      <td>98643.571429</td>\n",
       "    </tr>\n",
       "  </tbody>\n",
       "</table>\n",
       "</div>"
      ],
      "text/plain": [
       "    Scrape_Date  Count_Of_Jails  Total_Jail_Population  \\\n",
       "574  2021-10-05             397                  99014   \n",
       "575  2021-10-06             396                  98615   \n",
       "576  2021-10-07             394                  97997   \n",
       "\n",
       "     Seven_Day_Rolling_Average  \n",
       "574               98766.857143  \n",
       "575               98704.571429  \n",
       "576               98643.571429  "
      ]
     },
     "execution_count": 31,
     "metadata": {},
     "output_type": "execute_result"
    }
   ],
   "source": [
    "prior_sheet2.tail(3)"
   ]
  },
  {
   "cell_type": "code",
   "execution_count": 32,
   "metadata": {},
   "outputs": [
    {
     "data": {
      "text/plain": [
       "Index([               'STATE-COUNTY',           2020-03-10 00:00:00,\n",
       "                 2020-03-16 00:00:00,           2020-04-06 00:00:00,\n",
       "                 2020-05-04 00:00:00,           2020-06-01 00:00:00,\n",
       "                 2020-07-06 00:00:00,           2020-08-03 00:00:00,\n",
       "                 2020-09-07 00:00:00,           2020-10-05 00:00:00,\n",
       "                 2020-11-02 00:00:00,           2020-12-07 00:00:00,\n",
       "                 2021-01-04 00:00:00,           2021-02-01 00:00:00,\n",
       "                 2021-03-01 00:00:00,           2021-04-05 00:00:00,\n",
       "                 2021-05-03 00:00:00,           2021-06-07 00:00:00,\n",
       "                 2021-07-05 00:00:00,           2021-07-16 00:00:00,\n",
       "                 2021-08-01 00:00:00,           2021-08-02 00:00:00,\n",
       "                 2021-08-16 00:00:00,           2021-08-19 00:00:00,\n",
       "                 2021-08-23 00:00:00,           2021-08-26 00:00:00,\n",
       "                 2021-08-27 00:00:00,           2021-08-28 00:00:00,\n",
       "                 2021-08-29 00:00:00,           2021-09-02 00:00:00,\n",
       "                 2021-09-04 00:00:00,           2021-09-06 00:00:00,\n",
       "                 2021-09-09 00:00:00,           2021-09-14 00:00:00,\n",
       "                 2021-09-20 00:00:00,           2021-09-29 00:00:00,\n",
       "                 2021-10-04 00:00:00,           2021-10-06 00:00:00,\n",
       "                 2021-10-07 00:00:00,             'FirstDay01-2021',\n",
       "                   'FirstDay02-2021',             'FirstDay03-2020',\n",
       "                   'FirstDay03-2021',             'FirstDay04-2020',\n",
       "                   'FirstDay04-2021',             'FirstDay05-2020',\n",
       "                   'FirstDay05-2021',             'FirstDay06-2020',\n",
       "                   'FirstDay06-2021',             'FirstDay07-2020',\n",
       "                   'FirstDay07-2021',             'FirstDay08-2020',\n",
       "                   'FirstDay08-2021',             'FirstDay09-2020',\n",
       "                   'FirstDay09-2021',             'FirstDay10-2020',\n",
       "                   'FirstDay10-2021',             'FirstDay11-2020',\n",
       "                   'FirstDay12-2020', 'FirstMondayAvailable01-2021',\n",
       "       'FirstMondayAvailable02-2021', 'FirstMondayAvailable03-2020',\n",
       "       'FirstMondayAvailable03-2021', 'FirstMondayAvailable04-2020',\n",
       "       'FirstMondayAvailable04-2021', 'FirstMondayAvailable05-2020',\n",
       "       'FirstMondayAvailable05-2021', 'FirstMondayAvailable06-2020',\n",
       "       'FirstMondayAvailable06-2021', 'FirstMondayAvailable07-2020',\n",
       "       'FirstMondayAvailable07-2021', 'FirstMondayAvailable08-2020',\n",
       "       'FirstMondayAvailable08-2021', 'FirstMondayAvailable09-2020',\n",
       "       'FirstMondayAvailable09-2021', 'FirstMondayAvailable10-2020',\n",
       "       'FirstMondayAvailable10-2021', 'FirstMondayAvailable11-2020',\n",
       "       'FirstMondayAvailable12-2020'],\n",
       "      dtype='object')"
      ]
     },
     "execution_count": 32,
     "metadata": {},
     "output_type": "execute_result"
    }
   ],
   "source": [
    "prior.columns"
   ]
  },
  {
   "cell_type": "markdown",
   "metadata": {},
   "source": [
    "## Questions \n",
    "\n",
    "* Is Weekly an Average of Daily?\n",
    "* Do JailIds align with previous output file?"
   ]
  },
  {
   "cell_type": "markdown",
   "metadata": {},
   "source": [
    "## Do JailIds Match to Prior File STATE-COUNTY?"
   ]
  },
  {
   "cell_type": "code",
   "execution_count": 36,
   "metadata": {},
   "outputs": [
    {
     "data": {
      "text/plain": [
       "False    0.594347\n",
       "True     0.405653\n",
       "Name: JailId, dtype: float64"
      ]
     },
     "execution_count": 36,
     "metadata": {},
     "output_type": "execute_result"
    }
   ],
   "source": [
    "nov.JailId.isin(prior['STATE-COUNTY']).value_counts(normalize=True)"
   ]
  },
  {
   "cell_type": "markdown",
   "metadata": {},
   "source": [
    "### 96% of entries found for November."
   ]
  },
  {
   "cell_type": "code",
   "execution_count": 37,
   "metadata": {},
   "outputs": [
    {
     "data": {
      "text/plain": [
       "True     0.975904\n",
       "False    0.024096\n",
       "Name: STATE-COUNTY, dtype: float64"
      ]
     },
     "execution_count": 37,
     "metadata": {},
     "output_type": "execute_result"
    }
   ],
   "source": [
    "prior['STATE-COUNTY'].isin(nov.JailId).value_counts(normalize=True)"
   ]
  },
  {
   "cell_type": "markdown",
   "metadata": {},
   "source": [
    "### 97.5% Found for October"
   ]
  },
  {
   "cell_type": "code",
   "execution_count": 38,
   "metadata": {},
   "outputs": [
    {
     "data": {
      "text/plain": [
       "True     0.985542\n",
       "False    0.014458\n",
       "Name: STATE-COUNTY, dtype: float64"
      ]
     },
     "execution_count": 38,
     "metadata": {},
     "output_type": "execute_result"
    }
   ],
   "source": [
    "prior['STATE-COUNTY'].isin(october.JailId).value_counts(normalize=True)"
   ]
  },
  {
   "cell_type": "markdown",
   "metadata": {},
   "source": [
    "## Jails in Nov VS Oct Daily"
   ]
  },
  {
   "cell_type": "code",
   "execution_count": 39,
   "metadata": {},
   "outputs": [
    {
     "name": "stdout",
     "output_type": "stream",
     "text": [
      "Percentage of Nov Jails in Oct File:\n",
      "True     0.981959\n",
      "False    0.018041\n",
      "Name: JailId, dtype: float64\n",
      "Nov Ids not in Oct:\n"
     ]
    },
    {
     "data": {
      "text/plain": [
       "array(['TX-Kerr', 'AR-Randolph', 'FL-Gadsden', 'LA-Plaquemines',\n",
       "       'TX-Comal', 'TX-Grayson', 'FL-Columbia', 'TX-Gregg', 'TX-Parker',\n",
       "       'FL-Hamilton', 'TX-Henderson', 'TX-Hale', 'TX-Howard', 'TX-Lamar',\n",
       "       'TX-Wood', 'TX-Andrews', 'MN-Benton', 'AR-Izard'], dtype=object)"
      ]
     },
     "execution_count": 39,
     "metadata": {},
     "output_type": "execute_result"
    }
   ],
   "source": [
    "print(\"Percentage of Nov Jails in Oct File:\")\n",
    "print(nov.JailId.isin(october.JailId).value_counts(normalize=True))\n",
    "print(\"Nov Ids not in Oct:\")\n",
    "nov[~nov.JailId.isin(october.JailId)]['JailId'].unique()"
   ]
  },
  {
   "cell_type": "code",
   "execution_count": 40,
   "metadata": {},
   "outputs": [
    {
     "name": "stdout",
     "output_type": "stream",
     "text": [
      "Percentage of Oct Jails in Nov File:\n",
      "True     0.988893\n",
      "False    0.011107\n",
      "Name: JailId, dtype: float64\n",
      "Oct Ids not in Nov:\n"
     ]
    },
    {
     "data": {
      "text/plain": [
       "array(['AZ-Pinal', 'CA-Shasta', 'WI-Milwaukee', 'WI-Ozaukee',\n",
       "       'TX-Wichita', 'KY-Greenup', 'MA-Worcester', 'MT-Yellowstone',\n",
       "       'NM-Hobbs', 'MN-Cook', 'ID-Canyon'], dtype=object)"
      ]
     },
     "execution_count": 40,
     "metadata": {},
     "output_type": "execute_result"
    }
   ],
   "source": [
    "print(\"Percentage of Oct Jails in Nov File:\")\n",
    "print(october.JailId.isin(nov.JailId).value_counts(normalize=True))\n",
    "\n",
    "print(\"Oct Ids not in Nov:\")\n",
    "october[~october.JailId.isin(nov.JailId)]['JailId'].unique()"
   ]
  },
  {
   "cell_type": "markdown",
   "metadata": {},
   "source": [
    "## Full Summary"
   ]
  },
  {
   "cell_type": "code",
   "execution_count": 41,
   "metadata": {},
   "outputs": [
    {
     "data": {
      "text/html": [
       "<div>\n",
       "<style scoped>\n",
       "    .dataframe tbody tr th:only-of-type {\n",
       "        vertical-align: middle;\n",
       "    }\n",
       "\n",
       "    .dataframe tbody tr th {\n",
       "        vertical-align: top;\n",
       "    }\n",
       "\n",
       "    .dataframe thead th {\n",
       "        text-align: right;\n",
       "    }\n",
       "</style>\n",
       "<table border=\"1\" class=\"dataframe\">\n",
       "  <thead>\n",
       "    <tr style=\"text-align: right;\">\n",
       "      <th></th>\n",
       "      <th>JailId</th>\n",
       "      <th>Nov</th>\n",
       "      <th>Oct</th>\n",
       "      <th>Sept-Nov</th>\n",
       "      <th>June-Aug</th>\n",
       "    </tr>\n",
       "  </thead>\n",
       "  <tbody>\n",
       "    <tr>\n",
       "      <th>0</th>\n",
       "      <td>AL-Autauga</td>\n",
       "      <td>True</td>\n",
       "      <td>True</td>\n",
       "      <td>True</td>\n",
       "      <td>True</td>\n",
       "    </tr>\n",
       "    <tr>\n",
       "      <th>1</th>\n",
       "      <td>AL-Baldwin</td>\n",
       "      <td>True</td>\n",
       "      <td>True</td>\n",
       "      <td>True</td>\n",
       "      <td>True</td>\n",
       "    </tr>\n",
       "    <tr>\n",
       "      <th>2</th>\n",
       "      <td>AL-Blount</td>\n",
       "      <td>True</td>\n",
       "      <td>True</td>\n",
       "      <td>True</td>\n",
       "      <td>True</td>\n",
       "    </tr>\n",
       "    <tr>\n",
       "      <th>3</th>\n",
       "      <td>AL-Calhoun</td>\n",
       "      <td>True</td>\n",
       "      <td>True</td>\n",
       "      <td>True</td>\n",
       "      <td>True</td>\n",
       "    </tr>\n",
       "    <tr>\n",
       "      <th>4</th>\n",
       "      <td>AL-Cherokee</td>\n",
       "      <td>True</td>\n",
       "      <td>True</td>\n",
       "      <td>True</td>\n",
       "      <td>True</td>\n",
       "    </tr>\n",
       "  </tbody>\n",
       "</table>\n",
       "</div>"
      ],
      "text/plain": [
       "        JailId   Nov   Oct  Sept-Nov  June-Aug\n",
       "0   AL-Autauga  True  True      True      True\n",
       "1   AL-Baldwin  True  True      True      True\n",
       "2    AL-Blount  True  True      True      True\n",
       "3   AL-Calhoun  True  True      True      True\n",
       "4  AL-Cherokee  True  True      True      True"
      ]
     },
     "execution_count": 41,
     "metadata": {},
     "output_type": "execute_result"
    }
   ],
   "source": [
    "jails = set()\n",
    "for df in [nov, october, sept_nov_wkly, june_aug_wkly]:\n",
    "    jails = jails.union(set(df.JailId.unique()))\n",
    "jail_summaries = pd.DataFrame(sorted(list(jails)))\n",
    "jail_summaries.columns = ['JailId']\n",
    "# jail_summaries.set_index('JailId')\n",
    "jail_summaries['Nov'] = jail_summaries['JailId'].isin(nov.JailId.unique())\n",
    "jail_summaries['Oct'] = jail_summaries['JailId'].isin(october.JailId.unique())\n",
    "jail_summaries['Sept-Nov'] = jail_summaries['JailId'].isin(sept_nov_wkly.JailId.unique())\n",
    "jail_summaries['June-Aug'] = jail_summaries['JailId'].isin(june_aug_wkly.JailId.unique())\n",
    "jail_summaries.to_csv(\"JDI_Coverage_By_JailID_and_ScrapeFile.csv\", index=False)\n",
    "jail_summaries.head()"
   ]
  },
  {
   "cell_type": "markdown",
   "metadata": {},
   "source": [
    "## Nov VS Prior File"
   ]
  },
  {
   "cell_type": "code",
   "execution_count": 42,
   "metadata": {},
   "outputs": [
    {
     "name": "stdout",
     "output_type": "stream",
     "text": [
      "10\n"
     ]
    },
    {
     "data": {
      "text/plain": [
       "array(['CA-Shasta', 'ID-Canyon', 'KY-Allen', 'MA-Worcester', 'MN-Brown',\n",
       "       'NE-Lancaster', 'NM-Hobbs', 'OR-Marion_Work_Center', 'TX-Brown',\n",
       "       'TX-Lubbock'], dtype=object)"
      ]
     },
     "execution_count": 42,
     "metadata": {},
     "output_type": "execute_result"
    }
   ],
   "source": [
    "missing = prior[~prior['STATE-COUNTY'].isin(nov.JailId)]['STATE-COUNTY'].unique()\n",
    "print(len(missing))\n",
    "missing"
   ]
  },
  {
   "cell_type": "code",
   "execution_count": 43,
   "metadata": {},
   "outputs": [
    {
     "name": "stderr",
     "output_type": "stream",
     "text": [
      "/home/matt/.local/lib/python3.6/site-packages/fuzzywuzzy/fuzz.py:11: UserWarning: Using slow pure-python SequenceMatcher. Install python-Levenshtein to remove this warning\n",
      "  warnings.warn('Using slow pure-python SequenceMatcher. Install python-Levenshtein to remove this warning')\n"
     ]
    }
   ],
   "source": [
    "from fuzzywuzzy import fuzz, process"
   ]
  },
  {
   "cell_type": "code",
   "execution_count": 44,
   "metadata": {},
   "outputs": [
    {
     "data": {
      "text/plain": [
       "[]"
      ]
     },
     "execution_count": 44,
     "metadata": {},
     "output_type": "execute_result"
    }
   ],
   "source": [
    "process.extractBests('MA-Worcester', nov[nov.JailId.str.startswith(\"MA-\")].JailId.unique())"
   ]
  },
  {
   "cell_type": "markdown",
   "metadata": {},
   "source": [
    "### November Does Not Contain MA Jails."
   ]
  },
  {
   "cell_type": "code",
   "execution_count": 45,
   "metadata": {},
   "outputs": [
    {
     "data": {
      "text/html": [
       "<div>\n",
       "<style scoped>\n",
       "    .dataframe tbody tr th:only-of-type {\n",
       "        vertical-align: middle;\n",
       "    }\n",
       "\n",
       "    .dataframe tbody tr th {\n",
       "        vertical-align: top;\n",
       "    }\n",
       "\n",
       "    .dataframe thead th {\n",
       "        text-align: right;\n",
       "    }\n",
       "</style>\n",
       "<table border=\"1\" class=\"dataframe\">\n",
       "  <thead>\n",
       "    <tr style=\"text-align: right;\">\n",
       "      <th></th>\n",
       "      <th>Date</th>\n",
       "      <th>Race</th>\n",
       "      <th>Age</th>\n",
       "      <th>Gender</th>\n",
       "      <th>JailId</th>\n",
       "      <th>Population_Interpolated</th>\n",
       "      <th>Admissions_Interpolated</th>\n",
       "      <th>Releases_Interpolated</th>\n",
       "      <th>ScrapeMissing</th>\n",
       "    </tr>\n",
       "  </thead>\n",
       "  <tbody>\n",
       "  </tbody>\n",
       "</table>\n",
       "</div>"
      ],
      "text/plain": [
       "Empty DataFrame\n",
       "Columns: [Date, Race, Age, Gender, JailId, Population_Interpolated, Admissions_Interpolated, Releases_Interpolated, ScrapeMissing]\n",
       "Index: []"
      ]
     },
     "execution_count": 45,
     "metadata": {},
     "output_type": "execute_result"
    }
   ],
   "source": [
    "nov[nov.JailId.str.startswith(\"MA-\")]"
   ]
  },
  {
   "cell_type": "markdown",
   "metadata": {},
   "source": [
    "#### Does Exist in Oct File"
   ]
  },
  {
   "cell_type": "code",
   "execution_count": 46,
   "metadata": {},
   "outputs": [
    {
     "data": {
      "text/html": [
       "<div>\n",
       "<style scoped>\n",
       "    .dataframe tbody tr th:only-of-type {\n",
       "        vertical-align: middle;\n",
       "    }\n",
       "\n",
       "    .dataframe tbody tr th {\n",
       "        vertical-align: top;\n",
       "    }\n",
       "\n",
       "    .dataframe thead th {\n",
       "        text-align: right;\n",
       "    }\n",
       "</style>\n",
       "<table border=\"1\" class=\"dataframe\">\n",
       "  <thead>\n",
       "    <tr style=\"text-align: right;\">\n",
       "      <th></th>\n",
       "      <th>Date</th>\n",
       "      <th>Race</th>\n",
       "      <th>Age</th>\n",
       "      <th>Gender</th>\n",
       "      <th>JailId</th>\n",
       "      <th>Population_Interpolated</th>\n",
       "      <th>Admissions_Interpolated</th>\n",
       "      <th>Releases_Interpolated</th>\n",
       "      <th>ScrapeMissing</th>\n",
       "    </tr>\n",
       "  </thead>\n",
       "  <tbody>\n",
       "    <tr>\n",
       "      <th>746</th>\n",
       "      <td>2021-10-01 00:00:00+00:00</td>\n",
       "      <td>All</td>\n",
       "      <td>All</td>\n",
       "      <td>All</td>\n",
       "      <td>MA-Worcester</td>\n",
       "      <td>641.0</td>\n",
       "      <td>19.0</td>\n",
       "      <td>15.0</td>\n",
       "      <td>0</td>\n",
       "    </tr>\n",
       "    <tr>\n",
       "      <th>1732</th>\n",
       "      <td>2021-10-02 00:00:00+00:00</td>\n",
       "      <td>All</td>\n",
       "      <td>All</td>\n",
       "      <td>All</td>\n",
       "      <td>MA-Worcester</td>\n",
       "      <td>633.0</td>\n",
       "      <td>7.0</td>\n",
       "      <td>2.0</td>\n",
       "      <td>0</td>\n",
       "    </tr>\n",
       "    <tr>\n",
       "      <th>2722</th>\n",
       "      <td>2021-10-03 00:00:00+00:00</td>\n",
       "      <td>All</td>\n",
       "      <td>All</td>\n",
       "      <td>All</td>\n",
       "      <td>MA-Worcester</td>\n",
       "      <td>634.0</td>\n",
       "      <td>3.0</td>\n",
       "      <td>1.0</td>\n",
       "      <td>0</td>\n",
       "    </tr>\n",
       "    <tr>\n",
       "      <th>3710</th>\n",
       "      <td>2021-10-04 00:00:00+00:00</td>\n",
       "      <td>All</td>\n",
       "      <td>All</td>\n",
       "      <td>All</td>\n",
       "      <td>MA-Worcester</td>\n",
       "      <td>633.0</td>\n",
       "      <td>0.0</td>\n",
       "      <td>2.0</td>\n",
       "      <td>0</td>\n",
       "    </tr>\n",
       "    <tr>\n",
       "      <th>4699</th>\n",
       "      <td>2021-10-05 00:00:00+00:00</td>\n",
       "      <td>All</td>\n",
       "      <td>All</td>\n",
       "      <td>All</td>\n",
       "      <td>MA-Worcester</td>\n",
       "      <td>641.0</td>\n",
       "      <td>10.0</td>\n",
       "      <td>15.0</td>\n",
       "      <td>0</td>\n",
       "    </tr>\n",
       "  </tbody>\n",
       "</table>\n",
       "</div>"
      ],
      "text/plain": [
       "                          Date Race  Age Gender        JailId  \\\n",
       "746  2021-10-01 00:00:00+00:00  All  All    All  MA-Worcester   \n",
       "1732 2021-10-02 00:00:00+00:00  All  All    All  MA-Worcester   \n",
       "2722 2021-10-03 00:00:00+00:00  All  All    All  MA-Worcester   \n",
       "3710 2021-10-04 00:00:00+00:00  All  All    All  MA-Worcester   \n",
       "4699 2021-10-05 00:00:00+00:00  All  All    All  MA-Worcester   \n",
       "\n",
       "      Population_Interpolated  Admissions_Interpolated  Releases_Interpolated  \\\n",
       "746                     641.0                     19.0                   15.0   \n",
       "1732                    633.0                      7.0                    2.0   \n",
       "2722                    634.0                      3.0                    1.0   \n",
       "3710                    633.0                      0.0                    2.0   \n",
       "4699                    641.0                     10.0                   15.0   \n",
       "\n",
       "      ScrapeMissing  \n",
       "746               0  \n",
       "1732              0  \n",
       "2722              0  \n",
       "3710              0  \n",
       "4699              0  "
      ]
     },
     "execution_count": 46,
     "metadata": {},
     "output_type": "execute_result"
    }
   ],
   "source": [
    "october[october.JailId.str.startswith(\"MA-\")].head()"
   ]
  },
  {
   "cell_type": "markdown",
   "metadata": {},
   "source": [
    "## Prior Missing From October"
   ]
  },
  {
   "cell_type": "code",
   "execution_count": 47,
   "metadata": {},
   "outputs": [
    {
     "name": "stdout",
     "output_type": "stream",
     "text": [
      "6\n"
     ]
    },
    {
     "data": {
      "text/plain": [
       "array(['KY-Allen', 'MN-Brown', 'NE-Lancaster', 'OR-Marion_Work_Center',\n",
       "       'TX-Brown', 'TX-Lubbock'], dtype=object)"
      ]
     },
     "execution_count": 47,
     "metadata": {},
     "output_type": "execute_result"
    }
   ],
   "source": [
    "missing = prior[~prior['STATE-COUNTY'].isin(october.JailId)]['STATE-COUNTY'].unique()\n",
    "print(len(missing))\n",
    "missing"
   ]
  },
  {
   "cell_type": "markdown",
   "metadata": {},
   "source": [
    "## Prior Missing From October and Nov Daily"
   ]
  },
  {
   "cell_type": "code",
   "execution_count": 48,
   "metadata": {},
   "outputs": [
    {
     "name": "stdout",
     "output_type": "stream",
     "text": [
      "6\n"
     ]
    },
    {
     "data": {
      "text/plain": [
       "array(['KY-Allen', 'MN-Brown', 'NE-Lancaster', 'OR-Marion_Work_Center',\n",
       "       'TX-Brown', 'TX-Lubbock'], dtype=object)"
      ]
     },
     "execution_count": 48,
     "metadata": {},
     "output_type": "execute_result"
    }
   ],
   "source": [
    "missing = prior[(~prior['STATE-COUNTY'].isin(nov.JailId))\n",
    "               & (~prior['STATE-COUNTY'].isin(october.JailId))]['STATE-COUNTY'].unique()\n",
    "print(len(missing))\n",
    "missing"
   ]
  },
  {
   "cell_type": "markdown",
   "metadata": {},
   "source": [
    "## Prior Missing From All"
   ]
  },
  {
   "cell_type": "code",
   "execution_count": 49,
   "metadata": {},
   "outputs": [
    {
     "name": "stdout",
     "output_type": "stream",
     "text": [
      "3\n"
     ]
    },
    {
     "data": {
      "text/plain": [
       "array(['NE-Lancaster', 'OR-Marion_Work_Center', 'TX-Lubbock'],\n",
       "      dtype=object)"
      ]
     },
     "execution_count": 49,
     "metadata": {},
     "output_type": "execute_result"
    }
   ],
   "source": [
    "missing = prior[(~prior['STATE-COUNTY'].isin(nov.JailId))\n",
    "               & (~prior['STATE-COUNTY'].isin(october.JailId))\n",
    "               & (~prior['STATE-COUNTY'].isin(sept_nov_wkly.JailId))\n",
    "               & (~prior['STATE-COUNTY'].isin(june_aug_wkly.JailId))]['STATE-COUNTY'].unique()\n",
    "print(len(missing))\n",
    "missing"
   ]
  },
  {
   "cell_type": "markdown",
   "metadata": {},
   "source": [
    "## Daily vs Weekly Comparisons"
   ]
  },
  {
   "cell_type": "code",
   "execution_count": 50,
   "metadata": {},
   "outputs": [
    {
     "data": {
      "text/html": [
       "<div>\n",
       "<style scoped>\n",
       "    .dataframe tbody tr th:only-of-type {\n",
       "        vertical-align: middle;\n",
       "    }\n",
       "\n",
       "    .dataframe tbody tr th {\n",
       "        vertical-align: top;\n",
       "    }\n",
       "\n",
       "    .dataframe thead th {\n",
       "        text-align: right;\n",
       "    }\n",
       "</style>\n",
       "<table border=\"1\" class=\"dataframe\">\n",
       "  <thead>\n",
       "    <tr style=\"text-align: right;\">\n",
       "      <th></th>\n",
       "      <th>Date</th>\n",
       "      <th>Race</th>\n",
       "      <th>Age</th>\n",
       "      <th>Gender</th>\n",
       "      <th>JailId</th>\n",
       "      <th>Population_Interpolated</th>\n",
       "      <th>Admissions_Interpolated</th>\n",
       "      <th>Releases_Interpolated</th>\n",
       "      <th>ScrapeMissing</th>\n",
       "    </tr>\n",
       "  </thead>\n",
       "  <tbody>\n",
       "    <tr>\n",
       "      <th>114</th>\n",
       "      <td>2021-11-01T00:00:00.000Z</td>\n",
       "      <td>All</td>\n",
       "      <td>All</td>\n",
       "      <td>All</td>\n",
       "      <td>AL-Autauga</td>\n",
       "      <td>162.0</td>\n",
       "      <td>2.0</td>\n",
       "      <td>0.0</td>\n",
       "      <td>0</td>\n",
       "    </tr>\n",
       "    <tr>\n",
       "      <th>1113</th>\n",
       "      <td>2021-11-02T00:00:00.000Z</td>\n",
       "      <td>All</td>\n",
       "      <td>All</td>\n",
       "      <td>All</td>\n",
       "      <td>AL-Autauga</td>\n",
       "      <td>165.0</td>\n",
       "      <td>4.0</td>\n",
       "      <td>0.0</td>\n",
       "      <td>0</td>\n",
       "    </tr>\n",
       "    <tr>\n",
       "      <th>2110</th>\n",
       "      <td>2021-11-03T00:00:00.000Z</td>\n",
       "      <td>All</td>\n",
       "      <td>All</td>\n",
       "      <td>All</td>\n",
       "      <td>AL-Autauga</td>\n",
       "      <td>165.0</td>\n",
       "      <td>4.0</td>\n",
       "      <td>0.0</td>\n",
       "      <td>0</td>\n",
       "    </tr>\n",
       "    <tr>\n",
       "      <th>3110</th>\n",
       "      <td>2021-11-04T00:00:00.000Z</td>\n",
       "      <td>All</td>\n",
       "      <td>All</td>\n",
       "      <td>All</td>\n",
       "      <td>AL-Autauga</td>\n",
       "      <td>162.0</td>\n",
       "      <td>4.0</td>\n",
       "      <td>0.0</td>\n",
       "      <td>0</td>\n",
       "    </tr>\n",
       "    <tr>\n",
       "      <th>4108</th>\n",
       "      <td>2021-11-05T00:00:00.000Z</td>\n",
       "      <td>All</td>\n",
       "      <td>All</td>\n",
       "      <td>All</td>\n",
       "      <td>AL-Autauga</td>\n",
       "      <td>160.0</td>\n",
       "      <td>4.0</td>\n",
       "      <td>0.0</td>\n",
       "      <td>0</td>\n",
       "    </tr>\n",
       "    <tr>\n",
       "      <th>5103</th>\n",
       "      <td>2021-11-06T00:00:00.000Z</td>\n",
       "      <td>All</td>\n",
       "      <td>All</td>\n",
       "      <td>All</td>\n",
       "      <td>AL-Autauga</td>\n",
       "      <td>159.0</td>\n",
       "      <td>1.0</td>\n",
       "      <td>0.0</td>\n",
       "      <td>0</td>\n",
       "    </tr>\n",
       "    <tr>\n",
       "      <th>6102</th>\n",
       "      <td>2021-11-07T00:00:00.000Z</td>\n",
       "      <td>All</td>\n",
       "      <td>All</td>\n",
       "      <td>All</td>\n",
       "      <td>AL-Autauga</td>\n",
       "      <td>162.0</td>\n",
       "      <td>4.0</td>\n",
       "      <td>0.0</td>\n",
       "      <td>0</td>\n",
       "    </tr>\n",
       "    <tr>\n",
       "      <th>7097</th>\n",
       "      <td>2021-11-08T00:00:00.000Z</td>\n",
       "      <td>All</td>\n",
       "      <td>All</td>\n",
       "      <td>All</td>\n",
       "      <td>AL-Autauga</td>\n",
       "      <td>161.0</td>\n",
       "      <td>1.0</td>\n",
       "      <td>0.0</td>\n",
       "      <td>0</td>\n",
       "    </tr>\n",
       "    <tr>\n",
       "      <th>8098</th>\n",
       "      <td>2021-11-09T00:00:00.000Z</td>\n",
       "      <td>All</td>\n",
       "      <td>All</td>\n",
       "      <td>All</td>\n",
       "      <td>AL-Autauga</td>\n",
       "      <td>161.0</td>\n",
       "      <td>1.0</td>\n",
       "      <td>0.0</td>\n",
       "      <td>0</td>\n",
       "    </tr>\n",
       "    <tr>\n",
       "      <th>9095</th>\n",
       "      <td>2021-11-10T00:00:00.000Z</td>\n",
       "      <td>All</td>\n",
       "      <td>All</td>\n",
       "      <td>All</td>\n",
       "      <td>AL-Autauga</td>\n",
       "      <td>165.0</td>\n",
       "      <td>8.0</td>\n",
       "      <td>0.0</td>\n",
       "      <td>0</td>\n",
       "    </tr>\n",
       "    <tr>\n",
       "      <th>10091</th>\n",
       "      <td>2021-11-11T00:00:00.000Z</td>\n",
       "      <td>All</td>\n",
       "      <td>All</td>\n",
       "      <td>All</td>\n",
       "      <td>AL-Autauga</td>\n",
       "      <td>176.0</td>\n",
       "      <td>11.0</td>\n",
       "      <td>0.0</td>\n",
       "      <td>0</td>\n",
       "    </tr>\n",
       "    <tr>\n",
       "      <th>11088</th>\n",
       "      <td>2021-11-12T00:00:00.000Z</td>\n",
       "      <td>All</td>\n",
       "      <td>All</td>\n",
       "      <td>All</td>\n",
       "      <td>AL-Autauga</td>\n",
       "      <td>177.0</td>\n",
       "      <td>2.0</td>\n",
       "      <td>0.0</td>\n",
       "      <td>0</td>\n",
       "    </tr>\n",
       "    <tr>\n",
       "      <th>12085</th>\n",
       "      <td>2021-11-13T00:00:00.000Z</td>\n",
       "      <td>All</td>\n",
       "      <td>All</td>\n",
       "      <td>All</td>\n",
       "      <td>AL-Autauga</td>\n",
       "      <td>173.0</td>\n",
       "      <td>0.0</td>\n",
       "      <td>0.0</td>\n",
       "      <td>0</td>\n",
       "    </tr>\n",
       "    <tr>\n",
       "      <th>13084</th>\n",
       "      <td>2021-11-14T00:00:00.000Z</td>\n",
       "      <td>All</td>\n",
       "      <td>All</td>\n",
       "      <td>All</td>\n",
       "      <td>AL-Autauga</td>\n",
       "      <td>177.0</td>\n",
       "      <td>6.0</td>\n",
       "      <td>0.0</td>\n",
       "      <td>0</td>\n",
       "    </tr>\n",
       "    <tr>\n",
       "      <th>14085</th>\n",
       "      <td>2021-11-15T00:00:00.000Z</td>\n",
       "      <td>All</td>\n",
       "      <td>All</td>\n",
       "      <td>All</td>\n",
       "      <td>AL-Autauga</td>\n",
       "      <td>176.0</td>\n",
       "      <td>3.0</td>\n",
       "      <td>0.0</td>\n",
       "      <td>0</td>\n",
       "    </tr>\n",
       "    <tr>\n",
       "      <th>15085</th>\n",
       "      <td>2021-11-16T00:00:00.000Z</td>\n",
       "      <td>All</td>\n",
       "      <td>All</td>\n",
       "      <td>All</td>\n",
       "      <td>AL-Autauga</td>\n",
       "      <td>171.0</td>\n",
       "      <td>3.0</td>\n",
       "      <td>0.0</td>\n",
       "      <td>0</td>\n",
       "    </tr>\n",
       "    <tr>\n",
       "      <th>16079</th>\n",
       "      <td>2021-11-17T00:00:00.000Z</td>\n",
       "      <td>All</td>\n",
       "      <td>All</td>\n",
       "      <td>All</td>\n",
       "      <td>AL-Autauga</td>\n",
       "      <td>181.0</td>\n",
       "      <td>11.0</td>\n",
       "      <td>0.0</td>\n",
       "      <td>0</td>\n",
       "    </tr>\n",
       "    <tr>\n",
       "      <th>17073</th>\n",
       "      <td>2021-11-18T00:00:00.000Z</td>\n",
       "      <td>All</td>\n",
       "      <td>All</td>\n",
       "      <td>All</td>\n",
       "      <td>AL-Autauga</td>\n",
       "      <td>178.0</td>\n",
       "      <td>3.0</td>\n",
       "      <td>0.0</td>\n",
       "      <td>0</td>\n",
       "    </tr>\n",
       "    <tr>\n",
       "      <th>18071</th>\n",
       "      <td>2021-11-19T00:00:00.000Z</td>\n",
       "      <td>All</td>\n",
       "      <td>All</td>\n",
       "      <td>All</td>\n",
       "      <td>AL-Autauga</td>\n",
       "      <td>168.0</td>\n",
       "      <td>2.0</td>\n",
       "      <td>0.0</td>\n",
       "      <td>0</td>\n",
       "    </tr>\n",
       "    <tr>\n",
       "      <th>19067</th>\n",
       "      <td>2021-11-20T00:00:00.000Z</td>\n",
       "      <td>All</td>\n",
       "      <td>All</td>\n",
       "      <td>All</td>\n",
       "      <td>AL-Autauga</td>\n",
       "      <td>166.0</td>\n",
       "      <td>8.0</td>\n",
       "      <td>0.0</td>\n",
       "      <td>0</td>\n",
       "    </tr>\n",
       "  </tbody>\n",
       "</table>\n",
       "</div>"
      ],
      "text/plain": [
       "                           Date Race  Age Gender      JailId  \\\n",
       "114    2021-11-01T00:00:00.000Z  All  All    All  AL-Autauga   \n",
       "1113   2021-11-02T00:00:00.000Z  All  All    All  AL-Autauga   \n",
       "2110   2021-11-03T00:00:00.000Z  All  All    All  AL-Autauga   \n",
       "3110   2021-11-04T00:00:00.000Z  All  All    All  AL-Autauga   \n",
       "4108   2021-11-05T00:00:00.000Z  All  All    All  AL-Autauga   \n",
       "5103   2021-11-06T00:00:00.000Z  All  All    All  AL-Autauga   \n",
       "6102   2021-11-07T00:00:00.000Z  All  All    All  AL-Autauga   \n",
       "7097   2021-11-08T00:00:00.000Z  All  All    All  AL-Autauga   \n",
       "8098   2021-11-09T00:00:00.000Z  All  All    All  AL-Autauga   \n",
       "9095   2021-11-10T00:00:00.000Z  All  All    All  AL-Autauga   \n",
       "10091  2021-11-11T00:00:00.000Z  All  All    All  AL-Autauga   \n",
       "11088  2021-11-12T00:00:00.000Z  All  All    All  AL-Autauga   \n",
       "12085  2021-11-13T00:00:00.000Z  All  All    All  AL-Autauga   \n",
       "13084  2021-11-14T00:00:00.000Z  All  All    All  AL-Autauga   \n",
       "14085  2021-11-15T00:00:00.000Z  All  All    All  AL-Autauga   \n",
       "15085  2021-11-16T00:00:00.000Z  All  All    All  AL-Autauga   \n",
       "16079  2021-11-17T00:00:00.000Z  All  All    All  AL-Autauga   \n",
       "17073  2021-11-18T00:00:00.000Z  All  All    All  AL-Autauga   \n",
       "18071  2021-11-19T00:00:00.000Z  All  All    All  AL-Autauga   \n",
       "19067  2021-11-20T00:00:00.000Z  All  All    All  AL-Autauga   \n",
       "\n",
       "       Population_Interpolated  Admissions_Interpolated  \\\n",
       "114                      162.0                      2.0   \n",
       "1113                     165.0                      4.0   \n",
       "2110                     165.0                      4.0   \n",
       "3110                     162.0                      4.0   \n",
       "4108                     160.0                      4.0   \n",
       "5103                     159.0                      1.0   \n",
       "6102                     162.0                      4.0   \n",
       "7097                     161.0                      1.0   \n",
       "8098                     161.0                      1.0   \n",
       "9095                     165.0                      8.0   \n",
       "10091                    176.0                     11.0   \n",
       "11088                    177.0                      2.0   \n",
       "12085                    173.0                      0.0   \n",
       "13084                    177.0                      6.0   \n",
       "14085                    176.0                      3.0   \n",
       "15085                    171.0                      3.0   \n",
       "16079                    181.0                     11.0   \n",
       "17073                    178.0                      3.0   \n",
       "18071                    168.0                      2.0   \n",
       "19067                    166.0                      8.0   \n",
       "\n",
       "       Releases_Interpolated  ScrapeMissing  \n",
       "114                      0.0              0  \n",
       "1113                     0.0              0  \n",
       "2110                     0.0              0  \n",
       "3110                     0.0              0  \n",
       "4108                     0.0              0  \n",
       "5103                     0.0              0  \n",
       "6102                     0.0              0  \n",
       "7097                     0.0              0  \n",
       "8098                     0.0              0  \n",
       "9095                     0.0              0  \n",
       "10091                    0.0              0  \n",
       "11088                    0.0              0  \n",
       "12085                    0.0              0  \n",
       "13084                    0.0              0  \n",
       "14085                    0.0              0  \n",
       "15085                    0.0              0  \n",
       "16079                    0.0              0  \n",
       "17073                    0.0              0  \n",
       "18071                    0.0              0  \n",
       "19067                    0.0              0  "
      ]
     },
     "execution_count": 50,
     "metadata": {},
     "output_type": "execute_result"
    }
   ],
   "source": [
    "ex = \"AL-Autauga\"\n",
    "nov[nov.JailId == \"AL-Autauga\"].head(20)"
   ]
  },
  {
   "cell_type": "code",
   "execution_count": 51,
   "metadata": {},
   "outputs": [],
   "source": [
    "nov.Date = pd.to_datetime(nov.Date)"
   ]
  },
  {
   "cell_type": "code",
   "execution_count": 52,
   "metadata": {},
   "outputs": [
    {
     "data": {
      "text/html": [
       "<div>\n",
       "<style scoped>\n",
       "    .dataframe tbody tr th:only-of-type {\n",
       "        vertical-align: middle;\n",
       "    }\n",
       "\n",
       "    .dataframe tbody tr th {\n",
       "        vertical-align: top;\n",
       "    }\n",
       "\n",
       "    .dataframe thead th {\n",
       "        text-align: right;\n",
       "    }\n",
       "</style>\n",
       "<table border=\"1\" class=\"dataframe\">\n",
       "  <thead>\n",
       "    <tr style=\"text-align: right;\">\n",
       "      <th></th>\n",
       "      <th>Population_Interpolated</th>\n",
       "      <th>Admissions_Interpolated</th>\n",
       "      <th>Releases_Interpolated</th>\n",
       "      <th>ScrapeMissing</th>\n",
       "    </tr>\n",
       "    <tr>\n",
       "      <th>Date</th>\n",
       "      <th></th>\n",
       "      <th></th>\n",
       "      <th></th>\n",
       "      <th></th>\n",
       "    </tr>\n",
       "  </thead>\n",
       "  <tbody>\n",
       "    <tr>\n",
       "      <th>2021-11-01 00:00:00+00:00</th>\n",
       "      <td>NaN</td>\n",
       "      <td>NaN</td>\n",
       "      <td>NaN</td>\n",
       "      <td>NaN</td>\n",
       "    </tr>\n",
       "    <tr>\n",
       "      <th>2021-11-02 00:00:00+00:00</th>\n",
       "      <td>NaN</td>\n",
       "      <td>NaN</td>\n",
       "      <td>NaN</td>\n",
       "      <td>NaN</td>\n",
       "    </tr>\n",
       "    <tr>\n",
       "      <th>2021-11-03 00:00:00+00:00</th>\n",
       "      <td>NaN</td>\n",
       "      <td>NaN</td>\n",
       "      <td>NaN</td>\n",
       "      <td>NaN</td>\n",
       "    </tr>\n",
       "    <tr>\n",
       "      <th>2021-11-04 00:00:00+00:00</th>\n",
       "      <td>NaN</td>\n",
       "      <td>NaN</td>\n",
       "      <td>NaN</td>\n",
       "      <td>NaN</td>\n",
       "    </tr>\n",
       "    <tr>\n",
       "      <th>2021-11-05 00:00:00+00:00</th>\n",
       "      <td>NaN</td>\n",
       "      <td>NaN</td>\n",
       "      <td>NaN</td>\n",
       "      <td>NaN</td>\n",
       "    </tr>\n",
       "    <tr>\n",
       "      <th>2021-11-06 00:00:00+00:00</th>\n",
       "      <td>NaN</td>\n",
       "      <td>NaN</td>\n",
       "      <td>NaN</td>\n",
       "      <td>NaN</td>\n",
       "    </tr>\n",
       "    <tr>\n",
       "      <th>2021-11-07 00:00:00+00:00</th>\n",
       "      <td>162.142857</td>\n",
       "      <td>3.285714</td>\n",
       "      <td>0.0</td>\n",
       "      <td>0.0</td>\n",
       "    </tr>\n",
       "    <tr>\n",
       "      <th>2021-11-08 00:00:00+00:00</th>\n",
       "      <td>162.000000</td>\n",
       "      <td>3.142857</td>\n",
       "      <td>0.0</td>\n",
       "      <td>0.0</td>\n",
       "    </tr>\n",
       "    <tr>\n",
       "      <th>2021-11-09 00:00:00+00:00</th>\n",
       "      <td>161.428571</td>\n",
       "      <td>2.714286</td>\n",
       "      <td>0.0</td>\n",
       "      <td>0.0</td>\n",
       "    </tr>\n",
       "    <tr>\n",
       "      <th>2021-11-10 00:00:00+00:00</th>\n",
       "      <td>161.428571</td>\n",
       "      <td>3.285714</td>\n",
       "      <td>0.0</td>\n",
       "      <td>0.0</td>\n",
       "    </tr>\n",
       "    <tr>\n",
       "      <th>2021-11-11 00:00:00+00:00</th>\n",
       "      <td>163.428571</td>\n",
       "      <td>4.285714</td>\n",
       "      <td>0.0</td>\n",
       "      <td>0.0</td>\n",
       "    </tr>\n",
       "    <tr>\n",
       "      <th>2021-11-12 00:00:00+00:00</th>\n",
       "      <td>165.857143</td>\n",
       "      <td>4.000000</td>\n",
       "      <td>0.0</td>\n",
       "      <td>0.0</td>\n",
       "    </tr>\n",
       "    <tr>\n",
       "      <th>2021-11-13 00:00:00+00:00</th>\n",
       "      <td>167.857143</td>\n",
       "      <td>3.857143</td>\n",
       "      <td>0.0</td>\n",
       "      <td>0.0</td>\n",
       "    </tr>\n",
       "    <tr>\n",
       "      <th>2021-11-14 00:00:00+00:00</th>\n",
       "      <td>170.000000</td>\n",
       "      <td>4.142857</td>\n",
       "      <td>0.0</td>\n",
       "      <td>0.0</td>\n",
       "    </tr>\n",
       "    <tr>\n",
       "      <th>2021-11-15 00:00:00+00:00</th>\n",
       "      <td>172.142857</td>\n",
       "      <td>4.428571</td>\n",
       "      <td>0.0</td>\n",
       "      <td>0.0</td>\n",
       "    </tr>\n",
       "    <tr>\n",
       "      <th>2021-11-16 00:00:00+00:00</th>\n",
       "      <td>173.571429</td>\n",
       "      <td>4.714286</td>\n",
       "      <td>0.0</td>\n",
       "      <td>0.0</td>\n",
       "    </tr>\n",
       "    <tr>\n",
       "      <th>2021-11-17 00:00:00+00:00</th>\n",
       "      <td>175.857143</td>\n",
       "      <td>5.142857</td>\n",
       "      <td>0.0</td>\n",
       "      <td>0.0</td>\n",
       "    </tr>\n",
       "    <tr>\n",
       "      <th>2021-11-18 00:00:00+00:00</th>\n",
       "      <td>176.142857</td>\n",
       "      <td>4.000000</td>\n",
       "      <td>0.0</td>\n",
       "      <td>0.0</td>\n",
       "    </tr>\n",
       "    <tr>\n",
       "      <th>2021-11-19 00:00:00+00:00</th>\n",
       "      <td>174.857143</td>\n",
       "      <td>4.000000</td>\n",
       "      <td>0.0</td>\n",
       "      <td>0.0</td>\n",
       "    </tr>\n",
       "    <tr>\n",
       "      <th>2021-11-20 00:00:00+00:00</th>\n",
       "      <td>173.857143</td>\n",
       "      <td>5.142857</td>\n",
       "      <td>0.0</td>\n",
       "      <td>0.0</td>\n",
       "    </tr>\n",
       "    <tr>\n",
       "      <th>2021-11-21 00:00:00+00:00</th>\n",
       "      <td>172.428571</td>\n",
       "      <td>4.857143</td>\n",
       "      <td>0.0</td>\n",
       "      <td>0.0</td>\n",
       "    </tr>\n",
       "    <tr>\n",
       "      <th>2021-11-22 00:00:00+00:00</th>\n",
       "      <td>170.714286</td>\n",
       "      <td>4.714286</td>\n",
       "      <td>0.0</td>\n",
       "      <td>0.0</td>\n",
       "    </tr>\n",
       "    <tr>\n",
       "      <th>2021-11-23 00:00:00+00:00</th>\n",
       "      <td>169.714286</td>\n",
       "      <td>4.714286</td>\n",
       "      <td>0.0</td>\n",
       "      <td>0.0</td>\n",
       "    </tr>\n",
       "    <tr>\n",
       "      <th>2021-11-24 00:00:00+00:00</th>\n",
       "      <td>167.142857</td>\n",
       "      <td>3.857143</td>\n",
       "      <td>0.0</td>\n",
       "      <td>0.0</td>\n",
       "    </tr>\n",
       "    <tr>\n",
       "      <th>2021-11-25 00:00:00+00:00</th>\n",
       "      <td>164.857143</td>\n",
       "      <td>3.714286</td>\n",
       "      <td>0.0</td>\n",
       "      <td>0.0</td>\n",
       "    </tr>\n",
       "    <tr>\n",
       "      <th>2021-11-26 00:00:00+00:00</th>\n",
       "      <td>164.285714</td>\n",
       "      <td>3.571429</td>\n",
       "      <td>0.0</td>\n",
       "      <td>0.0</td>\n",
       "    </tr>\n",
       "    <tr>\n",
       "      <th>2021-11-27 00:00:00+00:00</th>\n",
       "      <td>164.000000</td>\n",
       "      <td>2.714286</td>\n",
       "      <td>0.0</td>\n",
       "      <td>0.0</td>\n",
       "    </tr>\n",
       "    <tr>\n",
       "      <th>2021-11-28 00:00:00+00:00</th>\n",
       "      <td>164.000000</td>\n",
       "      <td>2.571429</td>\n",
       "      <td>0.0</td>\n",
       "      <td>0.0</td>\n",
       "    </tr>\n",
       "    <tr>\n",
       "      <th>2021-11-29 00:00:00+00:00</th>\n",
       "      <td>164.142857</td>\n",
       "      <td>2.428571</td>\n",
       "      <td>0.0</td>\n",
       "      <td>0.0</td>\n",
       "    </tr>\n",
       "    <tr>\n",
       "      <th>2021-11-30 00:00:00+00:00</th>\n",
       "      <td>164.285714</td>\n",
       "      <td>2.428571</td>\n",
       "      <td>0.0</td>\n",
       "      <td>0.0</td>\n",
       "    </tr>\n",
       "  </tbody>\n",
       "</table>\n",
       "</div>"
      ],
      "text/plain": [
       "                           Population_Interpolated  Admissions_Interpolated  \\\n",
       "Date                                                                          \n",
       "2021-11-01 00:00:00+00:00                      NaN                      NaN   \n",
       "2021-11-02 00:00:00+00:00                      NaN                      NaN   \n",
       "2021-11-03 00:00:00+00:00                      NaN                      NaN   \n",
       "2021-11-04 00:00:00+00:00                      NaN                      NaN   \n",
       "2021-11-05 00:00:00+00:00                      NaN                      NaN   \n",
       "2021-11-06 00:00:00+00:00                      NaN                      NaN   \n",
       "2021-11-07 00:00:00+00:00               162.142857                 3.285714   \n",
       "2021-11-08 00:00:00+00:00               162.000000                 3.142857   \n",
       "2021-11-09 00:00:00+00:00               161.428571                 2.714286   \n",
       "2021-11-10 00:00:00+00:00               161.428571                 3.285714   \n",
       "2021-11-11 00:00:00+00:00               163.428571                 4.285714   \n",
       "2021-11-12 00:00:00+00:00               165.857143                 4.000000   \n",
       "2021-11-13 00:00:00+00:00               167.857143                 3.857143   \n",
       "2021-11-14 00:00:00+00:00               170.000000                 4.142857   \n",
       "2021-11-15 00:00:00+00:00               172.142857                 4.428571   \n",
       "2021-11-16 00:00:00+00:00               173.571429                 4.714286   \n",
       "2021-11-17 00:00:00+00:00               175.857143                 5.142857   \n",
       "2021-11-18 00:00:00+00:00               176.142857                 4.000000   \n",
       "2021-11-19 00:00:00+00:00               174.857143                 4.000000   \n",
       "2021-11-20 00:00:00+00:00               173.857143                 5.142857   \n",
       "2021-11-21 00:00:00+00:00               172.428571                 4.857143   \n",
       "2021-11-22 00:00:00+00:00               170.714286                 4.714286   \n",
       "2021-11-23 00:00:00+00:00               169.714286                 4.714286   \n",
       "2021-11-24 00:00:00+00:00               167.142857                 3.857143   \n",
       "2021-11-25 00:00:00+00:00               164.857143                 3.714286   \n",
       "2021-11-26 00:00:00+00:00               164.285714                 3.571429   \n",
       "2021-11-27 00:00:00+00:00               164.000000                 2.714286   \n",
       "2021-11-28 00:00:00+00:00               164.000000                 2.571429   \n",
       "2021-11-29 00:00:00+00:00               164.142857                 2.428571   \n",
       "2021-11-30 00:00:00+00:00               164.285714                 2.428571   \n",
       "\n",
       "                           Releases_Interpolated  ScrapeMissing  \n",
       "Date                                                             \n",
       "2021-11-01 00:00:00+00:00                    NaN            NaN  \n",
       "2021-11-02 00:00:00+00:00                    NaN            NaN  \n",
       "2021-11-03 00:00:00+00:00                    NaN            NaN  \n",
       "2021-11-04 00:00:00+00:00                    NaN            NaN  \n",
       "2021-11-05 00:00:00+00:00                    NaN            NaN  \n",
       "2021-11-06 00:00:00+00:00                    NaN            NaN  \n",
       "2021-11-07 00:00:00+00:00                    0.0            0.0  \n",
       "2021-11-08 00:00:00+00:00                    0.0            0.0  \n",
       "2021-11-09 00:00:00+00:00                    0.0            0.0  \n",
       "2021-11-10 00:00:00+00:00                    0.0            0.0  \n",
       "2021-11-11 00:00:00+00:00                    0.0            0.0  \n",
       "2021-11-12 00:00:00+00:00                    0.0            0.0  \n",
       "2021-11-13 00:00:00+00:00                    0.0            0.0  \n",
       "2021-11-14 00:00:00+00:00                    0.0            0.0  \n",
       "2021-11-15 00:00:00+00:00                    0.0            0.0  \n",
       "2021-11-16 00:00:00+00:00                    0.0            0.0  \n",
       "2021-11-17 00:00:00+00:00                    0.0            0.0  \n",
       "2021-11-18 00:00:00+00:00                    0.0            0.0  \n",
       "2021-11-19 00:00:00+00:00                    0.0            0.0  \n",
       "2021-11-20 00:00:00+00:00                    0.0            0.0  \n",
       "2021-11-21 00:00:00+00:00                    0.0            0.0  \n",
       "2021-11-22 00:00:00+00:00                    0.0            0.0  \n",
       "2021-11-23 00:00:00+00:00                    0.0            0.0  \n",
       "2021-11-24 00:00:00+00:00                    0.0            0.0  \n",
       "2021-11-25 00:00:00+00:00                    0.0            0.0  \n",
       "2021-11-26 00:00:00+00:00                    0.0            0.0  \n",
       "2021-11-27 00:00:00+00:00                    0.0            0.0  \n",
       "2021-11-28 00:00:00+00:00                    0.0            0.0  \n",
       "2021-11-29 00:00:00+00:00                    0.0            0.0  \n",
       "2021-11-30 00:00:00+00:00                    0.0            0.0  "
      ]
     },
     "execution_count": 52,
     "metadata": {},
     "output_type": "execute_result"
    }
   ],
   "source": [
    "nov[nov.JailId == \"AL-Autauga\"].set_index('Date').rolling(7).mean()#.groupby(pd.Grouper(freq=\"W\")).max()"
   ]
  },
  {
   "cell_type": "code",
   "execution_count": 53,
   "metadata": {},
   "outputs": [
    {
     "name": "stderr",
     "output_type": "stream",
     "text": [
      "/home/matt/.local/lib/python3.6/site-packages/ipykernel_launcher.py:1: FutureWarning: DataFrame.mean and DataFrame.median with numeric_only=None will include datetime64 and datetime64tz columns in a future version.\n",
      "  \"\"\"Entry point for launching an IPython kernel.\n"
     ]
    },
    {
     "data": {
      "text/plain": [
       "Population_Interpolated    167.0\n",
       "Admissions_Interpolated      3.6\n",
       "Releases_Interpolated        0.0\n",
       "ScrapeMissing                0.0\n",
       "dtype: float64"
      ]
     },
     "execution_count": 53,
     "metadata": {},
     "output_type": "execute_result"
    }
   ],
   "source": [
    "nov[nov.JailId == \"AL-Autauga\"].mean()"
   ]
  },
  {
   "cell_type": "code",
   "execution_count": 54,
   "metadata": {},
   "outputs": [
    {
     "name": "stderr",
     "output_type": "stream",
     "text": [
      "/home/matt/.local/lib/python3.6/site-packages/ipykernel_launcher.py:3: FutureWarning: DataFrame.mean and DataFrame.median with numeric_only=None will include datetime64 and datetime64tz columns in a future version.\n",
      "  This is separate from the ipykernel package so we can avoid doing imports until\n"
     ]
    },
    {
     "data": {
      "text/plain": [
       "Population_Interpolated    167.845238\n",
       "Admissions_Interpolated      3.511905\n",
       "Releases_Interpolated        0.000000\n",
       "ScrapeMissing                0.000000\n",
       "dtype: float64"
      ]
     },
     "execution_count": 54,
     "metadata": {},
     "output_type": "execute_result"
    }
   ],
   "source": [
    "temp = sept_nov_wkly[(sept_nov_wkly.JailId == \"AL-Autauga\")\n",
    "             & (sept_nov_wkly.Date >= pd.to_datetime(\"2021-11-01\", utc=True))]\n",
    "temp.mean()"
   ]
  },
  {
   "cell_type": "markdown",
   "metadata": {},
   "source": [
    "## Ability to Integrate with Prior File"
   ]
  },
  {
   "cell_type": "markdown",
   "metadata": {},
   "source": [
    "#### Combine October and November File - check that total length of first two files matches that of joined file \n",
    "\n",
    "> **(used .shape which returns nrows, ncols)**"
   ]
  },
  {
   "cell_type": "code",
   "execution_count": 117,
   "metadata": {},
   "outputs": [
    {
     "name": "stdout",
     "output_type": "stream",
     "text": [
      "60633\n",
      "(60633, 9)\n"
     ]
    },
    {
     "data": {
      "text/html": [
       "<div>\n",
       "<style scoped>\n",
       "    .dataframe tbody tr th:only-of-type {\n",
       "        vertical-align: middle;\n",
       "    }\n",
       "\n",
       "    .dataframe tbody tr th {\n",
       "        vertical-align: top;\n",
       "    }\n",
       "\n",
       "    .dataframe thead th {\n",
       "        text-align: right;\n",
       "    }\n",
       "</style>\n",
       "<table border=\"1\" class=\"dataframe\">\n",
       "  <thead>\n",
       "    <tr style=\"text-align: right;\">\n",
       "      <th></th>\n",
       "      <th>Date</th>\n",
       "      <th>Race</th>\n",
       "      <th>Age</th>\n",
       "      <th>Gender</th>\n",
       "      <th>JailId</th>\n",
       "      <th>Population_Interpolated</th>\n",
       "      <th>Admissions_Interpolated</th>\n",
       "      <th>Releases_Interpolated</th>\n",
       "      <th>ScrapeMissing</th>\n",
       "    </tr>\n",
       "  </thead>\n",
       "  <tbody>\n",
       "    <tr>\n",
       "      <th>0</th>\n",
       "      <td>2021-11-01 00:00:00+00:00</td>\n",
       "      <td>All</td>\n",
       "      <td>All</td>\n",
       "      <td>All</td>\n",
       "      <td>FL-Hillsborough</td>\n",
       "      <td>2945.0</td>\n",
       "      <td>48.0</td>\n",
       "      <td>0.0</td>\n",
       "      <td>0</td>\n",
       "    </tr>\n",
       "    <tr>\n",
       "      <th>1</th>\n",
       "      <td>2021-11-01 00:00:00+00:00</td>\n",
       "      <td>All</td>\n",
       "      <td>All</td>\n",
       "      <td>All</td>\n",
       "      <td>TX-Collin</td>\n",
       "      <td>1148.0</td>\n",
       "      <td>40.0</td>\n",
       "      <td>36.0</td>\n",
       "      <td>0</td>\n",
       "    </tr>\n",
       "    <tr>\n",
       "      <th>2</th>\n",
       "      <td>2021-11-01 00:00:00+00:00</td>\n",
       "      <td>All</td>\n",
       "      <td>All</td>\n",
       "      <td>All</td>\n",
       "      <td>MN-Stearns</td>\n",
       "      <td>153.0</td>\n",
       "      <td>8.0</td>\n",
       "      <td>18.0</td>\n",
       "      <td>0</td>\n",
       "    </tr>\n",
       "    <tr>\n",
       "      <th>3</th>\n",
       "      <td>2021-11-01 00:00:00+00:00</td>\n",
       "      <td>All</td>\n",
       "      <td>All</td>\n",
       "      <td>All</td>\n",
       "      <td>IN-Marion</td>\n",
       "      <td>2037.0</td>\n",
       "      <td>64.0</td>\n",
       "      <td>102.0</td>\n",
       "      <td>0</td>\n",
       "    </tr>\n",
       "    <tr>\n",
       "      <th>4</th>\n",
       "      <td>2021-11-01 00:00:00+00:00</td>\n",
       "      <td>All</td>\n",
       "      <td>All</td>\n",
       "      <td>All</td>\n",
       "      <td>VA-Virginia_Beach</td>\n",
       "      <td>1190.0</td>\n",
       "      <td>13.0</td>\n",
       "      <td>17.0</td>\n",
       "      <td>0</td>\n",
       "    </tr>\n",
       "  </tbody>\n",
       "</table>\n",
       "</div>"
      ],
      "text/plain": [
       "                       Date Race  Age Gender             JailId  \\\n",
       "0 2021-11-01 00:00:00+00:00  All  All    All    FL-Hillsborough   \n",
       "1 2021-11-01 00:00:00+00:00  All  All    All          TX-Collin   \n",
       "2 2021-11-01 00:00:00+00:00  All  All    All         MN-Stearns   \n",
       "3 2021-11-01 00:00:00+00:00  All  All    All          IN-Marion   \n",
       "4 2021-11-01 00:00:00+00:00  All  All    All  VA-Virginia_Beach   \n",
       "\n",
       "   Population_Interpolated  Admissions_Interpolated  Releases_Interpolated  \\\n",
       "0                   2945.0                     48.0                    0.0   \n",
       "1                   1148.0                     40.0                   36.0   \n",
       "2                    153.0                      8.0                   18.0   \n",
       "3                   2037.0                     64.0                  102.0   \n",
       "4                   1190.0                     13.0                   17.0   \n",
       "\n",
       "   ScrapeMissing  \n",
       "0              0  \n",
       "1              0  \n",
       "2              0  \n",
       "3              0  \n",
       "4              0  "
      ]
     },
     "execution_count": 117,
     "metadata": {},
     "output_type": "execute_result"
    }
   ],
   "source": [
    "print(len(october)+len(nov))\n",
    "nov_oct = pd.concat([nov, october])\n",
    "print(nov_oct.shape)\n",
    "nov_oct.head()"
   ]
  },
  {
   "cell_type": "markdown",
   "metadata": {},
   "source": [
    "## Identifying Two MidPoints to Divide Time into Thirds"
   ]
  },
  {
   "cell_type": "code",
   "execution_count": 118,
   "metadata": {},
   "outputs": [
    {
     "data": {
      "text/plain": [
       "630"
      ]
     },
     "execution_count": 118,
     "metadata": {},
     "output_type": "execute_result"
    }
   ],
   "source": [
    "most_recent = pd.to_datetime(\"11-30-2021\")\n",
    "mar_10 = pd.to_datetime(\"03-10-2020\")\n",
    "day_length = (most_recent - mar_10).days\n",
    "day_length"
   ]
  },
  {
   "cell_type": "code",
   "execution_count": 119,
   "metadata": {},
   "outputs": [
    {
     "data": {
      "text/plain": [
       "210.0"
      ]
     },
     "execution_count": 119,
     "metadata": {},
     "output_type": "execute_result"
    }
   ],
   "source": [
    "day_length / 3"
   ]
  },
  {
   "cell_type": "code",
   "execution_count": 120,
   "metadata": {},
   "outputs": [
    {
     "data": {
      "text/plain": [
       "Timestamp('2020-10-06 00:00:00')"
      ]
     },
     "execution_count": 120,
     "metadata": {},
     "output_type": "execute_result"
    }
   ],
   "source": [
    "first_tripoint = mar_10 + pd.Timedelta(days=day_length/3)\n",
    "first_tripoint"
   ]
  },
  {
   "cell_type": "code",
   "execution_count": 121,
   "metadata": {},
   "outputs": [
    {
     "data": {
      "text/plain": [
       "Timestamp('2021-05-04 00:00:00')"
      ]
     },
     "execution_count": 121,
     "metadata": {},
     "output_type": "execute_result"
    }
   ],
   "source": [
    "second_tripoint = mar_10 + pd.Timedelta(days=(day_length/3*2))\n",
    "second_tripoint"
   ]
  },
  {
   "cell_type": "code",
   "execution_count": 122,
   "metadata": {},
   "outputs": [
    {
     "data": {
      "text/html": [
       "<div>\n",
       "<style scoped>\n",
       "    .dataframe tbody tr th:only-of-type {\n",
       "        vertical-align: middle;\n",
       "    }\n",
       "\n",
       "    .dataframe tbody tr th {\n",
       "        vertical-align: top;\n",
       "    }\n",
       "\n",
       "    .dataframe thead th {\n",
       "        text-align: right;\n",
       "    }\n",
       "</style>\n",
       "<table border=\"1\" class=\"dataframe\">\n",
       "  <thead>\n",
       "    <tr style=\"text-align: right;\">\n",
       "      <th></th>\n",
       "      <th>Date</th>\n",
       "      <th>Race</th>\n",
       "      <th>Age</th>\n",
       "      <th>Gender</th>\n",
       "      <th>JailId</th>\n",
       "      <th>Population_Interpolated</th>\n",
       "      <th>Admissions_Interpolated</th>\n",
       "      <th>Releases_Interpolated</th>\n",
       "      <th>ScrapeMissing</th>\n",
       "    </tr>\n",
       "  </thead>\n",
       "  <tbody>\n",
       "    <tr>\n",
       "      <th>0</th>\n",
       "      <td>2021-11-01 00:00:00+00:00</td>\n",
       "      <td>All</td>\n",
       "      <td>All</td>\n",
       "      <td>All</td>\n",
       "      <td>FL-Hillsborough</td>\n",
       "      <td>2945.0</td>\n",
       "      <td>48.0</td>\n",
       "      <td>0.0</td>\n",
       "      <td>0</td>\n",
       "    </tr>\n",
       "    <tr>\n",
       "      <th>1</th>\n",
       "      <td>2021-11-01 00:00:00+00:00</td>\n",
       "      <td>All</td>\n",
       "      <td>All</td>\n",
       "      <td>All</td>\n",
       "      <td>TX-Collin</td>\n",
       "      <td>1148.0</td>\n",
       "      <td>40.0</td>\n",
       "      <td>36.0</td>\n",
       "      <td>0</td>\n",
       "    </tr>\n",
       "  </tbody>\n",
       "</table>\n",
       "</div>"
      ],
      "text/plain": [
       "                       Date Race  Age Gender           JailId  \\\n",
       "0 2021-11-01 00:00:00+00:00  All  All    All  FL-Hillsborough   \n",
       "1 2021-11-01 00:00:00+00:00  All  All    All        TX-Collin   \n",
       "\n",
       "   Population_Interpolated  Admissions_Interpolated  Releases_Interpolated  \\\n",
       "0                   2945.0                     48.0                    0.0   \n",
       "1                   1148.0                     40.0                   36.0   \n",
       "\n",
       "   ScrapeMissing  \n",
       "0              0  \n",
       "1              0  "
      ]
     },
     "execution_count": 122,
     "metadata": {},
     "output_type": "execute_result"
    }
   ],
   "source": [
    "nov.head(2)"
   ]
  },
  {
   "cell_type": "code",
   "execution_count": 123,
   "metadata": {},
   "outputs": [
    {
     "data": {
      "text/plain": [
       "2021-11-30 00:00:00+00:00    998\n",
       "Name: Date, dtype: int64"
      ]
     },
     "execution_count": 123,
     "metadata": {},
     "output_type": "execute_result"
    }
   ],
   "source": [
    "nov.groupby(['JailId']).tail(1).Date.value_counts()"
   ]
  },
  {
   "cell_type": "markdown",
   "metadata": {},
   "source": [
    "def parse_first_mondays(df):\n",
    "    df['DayOfWeek'] = df.Scrape_Date.dt.strftime('%A')\n",
    "    mondays = df[df.DayOfWeek=='Monday']\n",
    "    first_mondays = mondays.groupby(['STATE-COUNTY', 'Month', 'Year']).head(1)\n",
    "    return df"
   ]
  },
  {
   "cell_type": "markdown",
   "metadata": {},
   "source": [
    "## 3 hr timecheck"
   ]
  },
  {
   "cell_type": "markdown",
   "metadata": {},
   "source": [
    "## Format of DF to replicate\n",
    "\n",
    "> See \n",
    "  line 115 of COVID_Prison_Transformations.py tagged at v1.0  \n",
    "  or   \n",
    "  output [13] from COVID_Prison_Transformations.ipynb tagged at v1.0\n",
    "\n",
    "\n",
    "| County\t| Population\t| Scrape_Date |\tState\t| Facility_Identifier | \n",
    "|:---:|:---:|:---:|:---:|:---:|\n",
    "|Autauga|\t171|\t2020-03-10|\tAL|\tAL-Autauga|\n",
    "|Autauga|\t172|\t2020-03-11|\tAL|\tAL-Autauga|\n",
    "|Autauga|\t173|\t2020-03-12|\tAL|\tAL-Autauga|\n",
    "|Autauga|\t179|\t2020-03-13|\tAL|\tAL-Autauga|\n",
    "|Autauga|\t180|\t2020-03-14|\tAL|\tAL-Autauga|"
   ]
  },
  {
   "cell_type": "code",
   "execution_count": 125,
   "metadata": {},
   "outputs": [
    {
     "data": {
      "text/html": [
       "<div>\n",
       "<style scoped>\n",
       "    .dataframe tbody tr th:only-of-type {\n",
       "        vertical-align: middle;\n",
       "    }\n",
       "\n",
       "    .dataframe tbody tr th {\n",
       "        vertical-align: top;\n",
       "    }\n",
       "\n",
       "    .dataframe thead th {\n",
       "        text-align: right;\n",
       "    }\n",
       "</style>\n",
       "<table border=\"1\" class=\"dataframe\">\n",
       "  <thead>\n",
       "    <tr style=\"text-align: right;\">\n",
       "      <th></th>\n",
       "      <th>Date</th>\n",
       "      <th>Race</th>\n",
       "      <th>Age</th>\n",
       "      <th>Gender</th>\n",
       "      <th>JailId</th>\n",
       "      <th>Population_Interpolated</th>\n",
       "      <th>Admissions_Interpolated</th>\n",
       "      <th>Releases_Interpolated</th>\n",
       "      <th>ScrapeMissing</th>\n",
       "    </tr>\n",
       "  </thead>\n",
       "  <tbody>\n",
       "    <tr>\n",
       "      <th>0</th>\n",
       "      <td>2021-11-01 00:00:00+00:00</td>\n",
       "      <td>All</td>\n",
       "      <td>All</td>\n",
       "      <td>All</td>\n",
       "      <td>FL-Hillsborough</td>\n",
       "      <td>2945.0</td>\n",
       "      <td>48.0</td>\n",
       "      <td>0.0</td>\n",
       "      <td>0</td>\n",
       "    </tr>\n",
       "    <tr>\n",
       "      <th>1</th>\n",
       "      <td>2021-11-01 00:00:00+00:00</td>\n",
       "      <td>All</td>\n",
       "      <td>All</td>\n",
       "      <td>All</td>\n",
       "      <td>TX-Collin</td>\n",
       "      <td>1148.0</td>\n",
       "      <td>40.0</td>\n",
       "      <td>36.0</td>\n",
       "      <td>0</td>\n",
       "    </tr>\n",
       "    <tr>\n",
       "      <th>2</th>\n",
       "      <td>2021-11-01 00:00:00+00:00</td>\n",
       "      <td>All</td>\n",
       "      <td>All</td>\n",
       "      <td>All</td>\n",
       "      <td>MN-Stearns</td>\n",
       "      <td>153.0</td>\n",
       "      <td>8.0</td>\n",
       "      <td>18.0</td>\n",
       "      <td>0</td>\n",
       "    </tr>\n",
       "    <tr>\n",
       "      <th>3</th>\n",
       "      <td>2021-11-01 00:00:00+00:00</td>\n",
       "      <td>All</td>\n",
       "      <td>All</td>\n",
       "      <td>All</td>\n",
       "      <td>IN-Marion</td>\n",
       "      <td>2037.0</td>\n",
       "      <td>64.0</td>\n",
       "      <td>102.0</td>\n",
       "      <td>0</td>\n",
       "    </tr>\n",
       "    <tr>\n",
       "      <th>4</th>\n",
       "      <td>2021-11-01 00:00:00+00:00</td>\n",
       "      <td>All</td>\n",
       "      <td>All</td>\n",
       "      <td>All</td>\n",
       "      <td>VA-Virginia_Beach</td>\n",
       "      <td>1190.0</td>\n",
       "      <td>13.0</td>\n",
       "      <td>17.0</td>\n",
       "      <td>0</td>\n",
       "    </tr>\n",
       "  </tbody>\n",
       "</table>\n",
       "</div>"
      ],
      "text/plain": [
       "                       Date Race  Age Gender             JailId  \\\n",
       "0 2021-11-01 00:00:00+00:00  All  All    All    FL-Hillsborough   \n",
       "1 2021-11-01 00:00:00+00:00  All  All    All          TX-Collin   \n",
       "2 2021-11-01 00:00:00+00:00  All  All    All         MN-Stearns   \n",
       "3 2021-11-01 00:00:00+00:00  All  All    All          IN-Marion   \n",
       "4 2021-11-01 00:00:00+00:00  All  All    All  VA-Virginia_Beach   \n",
       "\n",
       "   Population_Interpolated  Admissions_Interpolated  Releases_Interpolated  \\\n",
       "0                   2945.0                     48.0                    0.0   \n",
       "1                   1148.0                     40.0                   36.0   \n",
       "2                    153.0                      8.0                   18.0   \n",
       "3                   2037.0                     64.0                  102.0   \n",
       "4                   1190.0                     13.0                   17.0   \n",
       "\n",
       "   ScrapeMissing  \n",
       "0              0  \n",
       "1              0  \n",
       "2              0  \n",
       "3              0  \n",
       "4              0  "
      ]
     },
     "execution_count": 125,
     "metadata": {},
     "output_type": "execute_result"
    }
   ],
   "source": [
    "nov_oct.head()"
   ]
  },
  {
   "cell_type": "markdown",
   "metadata": {},
   "source": [
    "#### Data Quality Checks"
   ]
  },
  {
   "cell_type": "code",
   "execution_count": 126,
   "metadata": {},
   "outputs": [
    {
     "data": {
      "text/plain": [
       "All    60633\n",
       "Name: Race, dtype: int64"
      ]
     },
     "execution_count": 126,
     "metadata": {},
     "output_type": "execute_result"
    }
   ],
   "source": [
    "nov_oct.Race.value_counts()"
   ]
  },
  {
   "cell_type": "code",
   "execution_count": 127,
   "metadata": {},
   "outputs": [
    {
     "data": {
      "text/plain": [
       "All    60633\n",
       "Name: Age, dtype: int64"
      ]
     },
     "execution_count": 127,
     "metadata": {},
     "output_type": "execute_result"
    }
   ],
   "source": [
    "nov_oct.Age.value_counts()"
   ]
  },
  {
   "cell_type": "code",
   "execution_count": 128,
   "metadata": {},
   "outputs": [
    {
     "data": {
      "text/plain": [
       "All    60633\n",
       "Name: Gender, dtype: int64"
      ]
     },
     "execution_count": 128,
     "metadata": {},
     "output_type": "execute_result"
    }
   ],
   "source": [
    "nov_oct.Gender.value_counts()"
   ]
  },
  {
   "cell_type": "code",
   "execution_count": 129,
   "metadata": {},
   "outputs": [
    {
     "data": {
      "text/plain": [
       "Series([], Name: Race, dtype: int64)"
      ]
     },
     "execution_count": 129,
     "metadata": {},
     "output_type": "execute_result"
    }
   ],
   "source": [
    "#Ensure unique Date / JailId Records\n",
    "temp = nov_oct.groupby(['Date','JailId'])['Race'].count()\n",
    "temp[temp!=1].head()"
   ]
  },
  {
   "cell_type": "markdown",
   "metadata": {},
   "source": [
    "#### Rename Columns"
   ]
  },
  {
   "cell_type": "code",
   "execution_count": 130,
   "metadata": {},
   "outputs": [],
   "source": [
    "rename_dict = {\"Date\":\"Scrape_Date\",\n",
    "                        \"JailId\":\"STATE-COUNTY\",\n",
    "                        \"Population_Interpolated\":\"Population\"}\n",
    "nov_oct = nov_oct.rename(columns=rename_dict)\n",
    "nov_oct = nov_oct[rename_dict.values()]"
   ]
  },
  {
   "cell_type": "markdown",
   "metadata": {},
   "source": [
    "#### Create County and State Columns "
   ]
  },
  {
   "cell_type": "code",
   "execution_count": 131,
   "metadata": {},
   "outputs": [],
   "source": [
    "nov_oct['State'] = nov_oct[\"STATE-COUNTY\"].apply(lambda x: x[:2])\n",
    "nov_oct['County'] = nov_oct[\"STATE-COUNTY\"].apply(lambda x: x[3:])"
   ]
  },
  {
   "cell_type": "code",
   "execution_count": 132,
   "metadata": {},
   "outputs": [
    {
     "data": {
      "text/html": [
       "<div>\n",
       "<style scoped>\n",
       "    .dataframe tbody tr th:only-of-type {\n",
       "        vertical-align: middle;\n",
       "    }\n",
       "\n",
       "    .dataframe tbody tr th {\n",
       "        vertical-align: top;\n",
       "    }\n",
       "\n",
       "    .dataframe thead th {\n",
       "        text-align: right;\n",
       "    }\n",
       "</style>\n",
       "<table border=\"1\" class=\"dataframe\">\n",
       "  <thead>\n",
       "    <tr style=\"text-align: right;\">\n",
       "      <th></th>\n",
       "      <th>Scrape_Date</th>\n",
       "      <th>STATE-COUNTY</th>\n",
       "      <th>Population</th>\n",
       "      <th>State</th>\n",
       "      <th>County</th>\n",
       "    </tr>\n",
       "  </thead>\n",
       "  <tbody>\n",
       "    <tr>\n",
       "      <th>0</th>\n",
       "      <td>2021-11-01 00:00:00+00:00</td>\n",
       "      <td>FL-Hillsborough</td>\n",
       "      <td>2945.0</td>\n",
       "      <td>FL</td>\n",
       "      <td>Hillsborough</td>\n",
       "    </tr>\n",
       "    <tr>\n",
       "      <th>1</th>\n",
       "      <td>2021-11-01 00:00:00+00:00</td>\n",
       "      <td>TX-Collin</td>\n",
       "      <td>1148.0</td>\n",
       "      <td>TX</td>\n",
       "      <td>Collin</td>\n",
       "    </tr>\n",
       "    <tr>\n",
       "      <th>2</th>\n",
       "      <td>2021-11-01 00:00:00+00:00</td>\n",
       "      <td>MN-Stearns</td>\n",
       "      <td>153.0</td>\n",
       "      <td>MN</td>\n",
       "      <td>Stearns</td>\n",
       "    </tr>\n",
       "    <tr>\n",
       "      <th>3</th>\n",
       "      <td>2021-11-01 00:00:00+00:00</td>\n",
       "      <td>IN-Marion</td>\n",
       "      <td>2037.0</td>\n",
       "      <td>IN</td>\n",
       "      <td>Marion</td>\n",
       "    </tr>\n",
       "    <tr>\n",
       "      <th>4</th>\n",
       "      <td>2021-11-01 00:00:00+00:00</td>\n",
       "      <td>VA-Virginia_Beach</td>\n",
       "      <td>1190.0</td>\n",
       "      <td>VA</td>\n",
       "      <td>Virginia_Beach</td>\n",
       "    </tr>\n",
       "    <tr>\n",
       "      <th>...</th>\n",
       "      <td>...</td>\n",
       "      <td>...</td>\n",
       "      <td>...</td>\n",
       "      <td>...</td>\n",
       "      <td>...</td>\n",
       "    </tr>\n",
       "    <tr>\n",
       "      <th>30696</th>\n",
       "      <td>2021-10-31 00:00:00+00:00</td>\n",
       "      <td>AR-Madison</td>\n",
       "      <td>2.4</td>\n",
       "      <td>AR</td>\n",
       "      <td>Madison</td>\n",
       "    </tr>\n",
       "    <tr>\n",
       "      <th>30697</th>\n",
       "      <td>2021-10-31 00:00:00+00:00</td>\n",
       "      <td>IA-Ida</td>\n",
       "      <td>16.0</td>\n",
       "      <td>IA</td>\n",
       "      <td>Ida</td>\n",
       "    </tr>\n",
       "    <tr>\n",
       "      <th>30698</th>\n",
       "      <td>2021-10-31 00:00:00+00:00</td>\n",
       "      <td>OH-Fairborn</td>\n",
       "      <td>2.0</td>\n",
       "      <td>OH</td>\n",
       "      <td>Fairborn</td>\n",
       "    </tr>\n",
       "    <tr>\n",
       "      <th>30699</th>\n",
       "      <td>2021-10-31 00:00:00+00:00</td>\n",
       "      <td>WY-Lincoln</td>\n",
       "      <td>22.0</td>\n",
       "      <td>WY</td>\n",
       "      <td>Lincoln</td>\n",
       "    </tr>\n",
       "    <tr>\n",
       "      <th>30700</th>\n",
       "      <td>2021-10-31 00:00:00+00:00</td>\n",
       "      <td>WA-Columbia</td>\n",
       "      <td>8.0</td>\n",
       "      <td>WA</td>\n",
       "      <td>Columbia</td>\n",
       "    </tr>\n",
       "  </tbody>\n",
       "</table>\n",
       "<p>60633 rows × 5 columns</p>\n",
       "</div>"
      ],
      "text/plain": [
       "                    Scrape_Date       STATE-COUNTY  Population State  \\\n",
       "0     2021-11-01 00:00:00+00:00    FL-Hillsborough      2945.0    FL   \n",
       "1     2021-11-01 00:00:00+00:00          TX-Collin      1148.0    TX   \n",
       "2     2021-11-01 00:00:00+00:00         MN-Stearns       153.0    MN   \n",
       "3     2021-11-01 00:00:00+00:00          IN-Marion      2037.0    IN   \n",
       "4     2021-11-01 00:00:00+00:00  VA-Virginia_Beach      1190.0    VA   \n",
       "...                         ...                ...         ...   ...   \n",
       "30696 2021-10-31 00:00:00+00:00         AR-Madison         2.4    AR   \n",
       "30697 2021-10-31 00:00:00+00:00             IA-Ida        16.0    IA   \n",
       "30698 2021-10-31 00:00:00+00:00        OH-Fairborn         2.0    OH   \n",
       "30699 2021-10-31 00:00:00+00:00         WY-Lincoln        22.0    WY   \n",
       "30700 2021-10-31 00:00:00+00:00        WA-Columbia         8.0    WA   \n",
       "\n",
       "               County  \n",
       "0        Hillsborough  \n",
       "1              Collin  \n",
       "2             Stearns  \n",
       "3              Marion  \n",
       "4      Virginia_Beach  \n",
       "...               ...  \n",
       "30696         Madison  \n",
       "30697             Ida  \n",
       "30698        Fairborn  \n",
       "30699         Lincoln  \n",
       "30700        Columbia  \n",
       "\n",
       "[60633 rows x 5 columns]"
      ]
     },
     "execution_count": 132,
     "metadata": {},
     "output_type": "execute_result"
    }
   ],
   "source": [
    "nov_oct"
   ]
  },
  {
   "cell_type": "code",
   "execution_count": 133,
   "metadata": {},
   "outputs": [
    {
     "data": {
      "text/plain": [
       "1009"
      ]
     },
     "execution_count": 133,
     "metadata": {},
     "output_type": "execute_result"
    }
   ],
   "source": [
    "nov_oct[\"STATE-COUNTY\"].nunique()"
   ]
  },
  {
   "cell_type": "markdown",
   "metadata": {},
   "source": [
    "## Join With Previous"
   ]
  },
  {
   "cell_type": "markdown",
   "metadata": {},
   "source": [
    "#### Read Previous Raw Checkpoint Midscript"
   ]
  },
  {
   "cell_type": "code",
   "execution_count": 160,
   "metadata": {},
   "outputs": [
    {
     "name": "stdout",
     "output_type": "stream",
     "text": [
      "(238731, 7)\n"
     ]
    },
    {
     "data": {
      "text/html": [
       "<div>\n",
       "<style scoped>\n",
       "    .dataframe tbody tr th:only-of-type {\n",
       "        vertical-align: middle;\n",
       "    }\n",
       "\n",
       "    .dataframe tbody tr th {\n",
       "        vertical-align: top;\n",
       "    }\n",
       "\n",
       "    .dataframe thead th {\n",
       "        text-align: right;\n",
       "    }\n",
       "</style>\n",
       "<table border=\"1\" class=\"dataframe\">\n",
       "  <thead>\n",
       "    <tr style=\"text-align: right;\">\n",
       "      <th></th>\n",
       "      <th>Unnamed: 0</th>\n",
       "      <th>Population</th>\n",
       "      <th>Scrape_Date</th>\n",
       "      <th>STATE-COUNTY</th>\n",
       "      <th>Month</th>\n",
       "      <th>Year</th>\n",
       "      <th>DayOfWeek</th>\n",
       "    </tr>\n",
       "  </thead>\n",
       "  <tbody>\n",
       "    <tr>\n",
       "      <th>0</th>\n",
       "      <td>31</td>\n",
       "      <td>172.0</td>\n",
       "      <td>2020-03-10</td>\n",
       "      <td>AL-Autauga</td>\n",
       "      <td>3</td>\n",
       "      <td>2020</td>\n",
       "      <td>Tuesday</td>\n",
       "    </tr>\n",
       "    <tr>\n",
       "      <th>1</th>\n",
       "      <td>32</td>\n",
       "      <td>173.0</td>\n",
       "      <td>2020-03-11</td>\n",
       "      <td>AL-Autauga</td>\n",
       "      <td>3</td>\n",
       "      <td>2020</td>\n",
       "      <td>Wednesday</td>\n",
       "    </tr>\n",
       "    <tr>\n",
       "      <th>2</th>\n",
       "      <td>33</td>\n",
       "      <td>174.0</td>\n",
       "      <td>2020-03-12</td>\n",
       "      <td>AL-Autauga</td>\n",
       "      <td>3</td>\n",
       "      <td>2020</td>\n",
       "      <td>Thursday</td>\n",
       "    </tr>\n",
       "    <tr>\n",
       "      <th>3</th>\n",
       "      <td>34</td>\n",
       "      <td>180.0</td>\n",
       "      <td>2020-03-13</td>\n",
       "      <td>AL-Autauga</td>\n",
       "      <td>3</td>\n",
       "      <td>2020</td>\n",
       "      <td>Friday</td>\n",
       "    </tr>\n",
       "    <tr>\n",
       "      <th>4</th>\n",
       "      <td>35</td>\n",
       "      <td>180.0</td>\n",
       "      <td>2020-03-14</td>\n",
       "      <td>AL-Autauga</td>\n",
       "      <td>3</td>\n",
       "      <td>2020</td>\n",
       "      <td>Saturday</td>\n",
       "    </tr>\n",
       "  </tbody>\n",
       "</table>\n",
       "</div>"
      ],
      "text/plain": [
       "   Unnamed: 0  Population Scrape_Date STATE-COUNTY  Month  Year  DayOfWeek\n",
       "0          31       172.0  2020-03-10   AL-Autauga      3  2020    Tuesday\n",
       "1          32       173.0  2020-03-11   AL-Autauga      3  2020  Wednesday\n",
       "2          33       174.0  2020-03-12   AL-Autauga      3  2020   Thursday\n",
       "3          34       180.0  2020-03-13   AL-Autauga      3  2020     Friday\n",
       "4          35       180.0  2020-03-14   AL-Autauga      3  2020   Saturday"
      ]
     },
     "execution_count": 160,
     "metadata": {},
     "output_type": "execute_result"
    }
   ],
   "source": [
    "#See line 123 where exported from COVID_Prison_Transformations.py\n",
    "df = pd.read_csv(\"RawData_03-10-21_to_10-07-21_Generated_01-09-2022.csv\")\n",
    "df.Scrape_Date = pd.to_datetime(df.Scrape_Date)\n",
    "print(df.shape)\n",
    "df.head()"
   ]
  },
  {
   "cell_type": "code",
   "execution_count": 161,
   "metadata": {},
   "outputs": [
    {
     "data": {
      "text/plain": [
       "(415, 79)"
      ]
     },
     "execution_count": 161,
     "metadata": {},
     "output_type": "execute_result"
    }
   ],
   "source": [
    "prior.shape"
   ]
  },
  {
   "cell_type": "code",
   "execution_count": 162,
   "metadata": {},
   "outputs": [
    {
     "data": {
      "text/plain": [
       "415"
      ]
     },
     "execution_count": 162,
     "metadata": {},
     "output_type": "execute_result"
    }
   ],
   "source": [
    "df['STATE-COUNTY'].nunique()"
   ]
  },
  {
   "cell_type": "markdown",
   "metadata": {},
   "source": [
    "## Additional Checks on Previous Outputs"
   ]
  },
  {
   "cell_type": "code",
   "execution_count": null,
   "metadata": {},
   "outputs": [],
   "source": [
    "# temp = pd.read_excel(\"Jail_Summaries_as_of_06-18-2021.xlsx\", engine=\"openpyxl\") #(565, 74)\n",
    "# temp = pd.read_excel(\"Jail_Summaries_as_of_01-21-2021.xlsx\", engine=\"openpyxl\") #((429, 68)\n",
    "# temp = pd.read_excel(\"Jail_Summaries_as_of_09-29-2021.xlsx\", engine=\"openpyxl\") #(590, 80)\n",
    "# temp = pd.read_excel(\"Jail_Summaries_as_of_10-08-2021.xlsx\", engine=\"openpyxl\") #(415, 79)\n",
    "# temp = pd.read_excel(\"Jail_Summaries_as_of_12-07-2020.xlsx\", engine=\"openpyxl\") #(598, 66)\n",
    "# temp = pd.read_excel(\"Jail_Summaries_as_of_12-09-2020.xlsx\", engine=\"openpyxl\") #(598, 67)\n",
    "# temp = pd.read_excel(\"Jail_Summaries_2020-03-10_to_2021-10-07_Generated_01-09-2022.xlsx\", engine=\"openpyxl\") #(598, 67)\n",
    "\n",
    "# print(temp.shape)\n",
    "# temp.head(2)"
   ]
  },
  {
   "cell_type": "markdown",
   "metadata": {},
   "source": [
    "### Final QAs\n",
    "\n",
    "> API Nov/Oct File Prepped is missing 6 Jails from the Previous Run on Oct 7th."
   ]
  },
  {
   "cell_type": "code",
   "execution_count": 135,
   "metadata": {},
   "outputs": [
    {
     "data": {
      "text/plain": [
       "409"
      ]
     },
     "execution_count": 135,
     "metadata": {},
     "output_type": "execute_result"
    }
   ],
   "source": [
    "nov_oct[nov_oct['STATE-COUNTY'].isin(df['STATE-COUNTY'].unique())]['STATE-COUNTY'].nunique()"
   ]
  },
  {
   "cell_type": "code",
   "execution_count": 137,
   "metadata": {},
   "outputs": [
    {
     "name": "stdout",
     "output_type": "stream",
     "text": [
      "6 Jails in Oct 7th File Missing from API.\n",
      "['KY-Allen' 'MN-Brown' 'NE-Lancaster' 'OR-Marion_Work_Center' 'TX-Brown'\n",
      " 'TX-Lubbock']\n"
     ]
    }
   ],
   "source": [
    "missing_from_api = df[~df['STATE-COUNTY'].isin(nov_oct['STATE-COUNTY'].unique())]['STATE-COUNTY'].unique()\n",
    "print(\"{} Jails in Oct 7th File Missing from API.\".format(len(missing_from_api)))\n",
    "print(missing_from_api)"
   ]
  },
  {
   "cell_type": "markdown",
   "metadata": {},
   "source": [
    "#### Check Schemas"
   ]
  },
  {
   "cell_type": "code",
   "execution_count": 138,
   "metadata": {},
   "outputs": [
    {
     "name": "stdout",
     "output_type": "stream",
     "text": [
      "Index(['Scrape_Date', 'STATE-COUNTY', 'Population', 'State', 'County'], dtype='object') Index(['Unnamed: 0', 'Population', 'Scrape_Date', 'STATE-COUNTY', 'Month',\n",
      "       'Year', 'DayOfWeek'],\n",
      "      dtype='object')\n"
     ]
    }
   ],
   "source": [
    "print(nov_oct.columns, df.columns)"
   ]
  },
  {
   "cell_type": "markdown",
   "metadata": {},
   "source": [
    "## Join Pieces\n",
    "\n",
    "> Will Join Pieces First using `pd.concat` and then recalculate calculated fields:\n",
    "\n",
    "\n",
    "```python\n",
    "## Create Month / Day of Week / Year Columns \n",
    "df['Month'] = df.Scrape_Date.dt.strftime('%m')\n",
    "df['Year'] = df.Scrape_Date.dt.strftime('%Y')\n",
    "df['DayOfWeek'] = df.Scrape_Date.dt.strftime('%A')\n",
    "#Convert Datetime to Strict Date\n",
    "df['Scrape_Date'] = df['Scrape_Date'].dt.date\n",
    "```"
   ]
  },
  {
   "cell_type": "code",
   "execution_count": 163,
   "metadata": {},
   "outputs": [
    {
     "name": "stdout",
     "output_type": "stream",
     "text": [
      "(238731, 7)\n"
     ]
    },
    {
     "data": {
      "text/html": [
       "<div>\n",
       "<style scoped>\n",
       "    .dataframe tbody tr th:only-of-type {\n",
       "        vertical-align: middle;\n",
       "    }\n",
       "\n",
       "    .dataframe tbody tr th {\n",
       "        vertical-align: top;\n",
       "    }\n",
       "\n",
       "    .dataframe thead th {\n",
       "        text-align: right;\n",
       "    }\n",
       "</style>\n",
       "<table border=\"1\" class=\"dataframe\">\n",
       "  <thead>\n",
       "    <tr style=\"text-align: right;\">\n",
       "      <th></th>\n",
       "      <th>Unnamed: 0</th>\n",
       "      <th>Population</th>\n",
       "      <th>Scrape_Date</th>\n",
       "      <th>STATE-COUNTY</th>\n",
       "      <th>Month</th>\n",
       "      <th>Year</th>\n",
       "      <th>DayOfWeek</th>\n",
       "    </tr>\n",
       "  </thead>\n",
       "  <tbody>\n",
       "    <tr>\n",
       "      <th>0</th>\n",
       "      <td>31</td>\n",
       "      <td>172.0</td>\n",
       "      <td>2020-03-10</td>\n",
       "      <td>AL-Autauga</td>\n",
       "      <td>3</td>\n",
       "      <td>2020</td>\n",
       "      <td>Tuesday</td>\n",
       "    </tr>\n",
       "    <tr>\n",
       "      <th>1</th>\n",
       "      <td>32</td>\n",
       "      <td>173.0</td>\n",
       "      <td>2020-03-11</td>\n",
       "      <td>AL-Autauga</td>\n",
       "      <td>3</td>\n",
       "      <td>2020</td>\n",
       "      <td>Wednesday</td>\n",
       "    </tr>\n",
       "  </tbody>\n",
       "</table>\n",
       "</div>"
      ],
      "text/plain": [
       "   Unnamed: 0  Population Scrape_Date STATE-COUNTY  Month  Year  DayOfWeek\n",
       "0          31       172.0  2020-03-10   AL-Autauga      3  2020    Tuesday\n",
       "1          32       173.0  2020-03-11   AL-Autauga      3  2020  Wednesday"
      ]
     },
     "execution_count": 163,
     "metadata": {},
     "output_type": "execute_result"
    }
   ],
   "source": [
    "print(df.shape)\n",
    "df.head(2)"
   ]
  },
  {
   "cell_type": "code",
   "execution_count": 142,
   "metadata": {},
   "outputs": [
    {
     "data": {
      "text/plain": [
       "['Population', 'Scrape_Date', 'STATE-COUNTY']"
      ]
     },
     "execution_count": 142,
     "metadata": {},
     "output_type": "execute_result"
    }
   ],
   "source": [
    "[col for col in df.columns if col in nov_oct.columns]"
   ]
  },
  {
   "cell_type": "code",
   "execution_count": 158,
   "metadata": {},
   "outputs": [],
   "source": [
    "nov_oct.Scrape_Date = pd.to_datetime(nov_oct.Scrape_Date)\n",
    "nov_oct['Scrape_Date'] = nov_oct['Scrape_Date'].dt.date"
   ]
  },
  {
   "cell_type": "code",
   "execution_count": 159,
   "metadata": {},
   "outputs": [
    {
     "data": {
      "text/html": [
       "<div>\n",
       "<style scoped>\n",
       "    .dataframe tbody tr th:only-of-type {\n",
       "        vertical-align: middle;\n",
       "    }\n",
       "\n",
       "    .dataframe tbody tr th {\n",
       "        vertical-align: top;\n",
       "    }\n",
       "\n",
       "    .dataframe thead th {\n",
       "        text-align: right;\n",
       "    }\n",
       "</style>\n",
       "<table border=\"1\" class=\"dataframe\">\n",
       "  <thead>\n",
       "    <tr style=\"text-align: right;\">\n",
       "      <th></th>\n",
       "      <th>Scrape_Date</th>\n",
       "      <th>STATE-COUNTY</th>\n",
       "      <th>Population</th>\n",
       "      <th>State</th>\n",
       "      <th>County</th>\n",
       "    </tr>\n",
       "  </thead>\n",
       "  <tbody>\n",
       "    <tr>\n",
       "      <th>0</th>\n",
       "      <td>2021-11-01</td>\n",
       "      <td>FL-Hillsborough</td>\n",
       "      <td>2945.0</td>\n",
       "      <td>FL</td>\n",
       "      <td>Hillsborough</td>\n",
       "    </tr>\n",
       "    <tr>\n",
       "      <th>1</th>\n",
       "      <td>2021-11-01</td>\n",
       "      <td>TX-Collin</td>\n",
       "      <td>1148.0</td>\n",
       "      <td>TX</td>\n",
       "      <td>Collin</td>\n",
       "    </tr>\n",
       "  </tbody>\n",
       "</table>\n",
       "</div>"
      ],
      "text/plain": [
       "  Scrape_Date     STATE-COUNTY  Population State        County\n",
       "0  2021-11-01  FL-Hillsborough      2945.0    FL  Hillsborough\n",
       "1  2021-11-01        TX-Collin      1148.0    TX        Collin"
      ]
     },
     "execution_count": 159,
     "metadata": {},
     "output_type": "execute_result"
    }
   ],
   "source": [
    "nov_oct.head(2)"
   ]
  },
  {
   "cell_type": "code",
   "execution_count": 153,
   "metadata": {},
   "outputs": [
    {
     "name": "stdout",
     "output_type": "stream",
     "text": [
      "299364\n"
     ]
    }
   ],
   "source": [
    "print(len(df)+len(nov_oct))"
   ]
  },
  {
   "cell_type": "markdown",
   "metadata": {},
   "source": [
    "##### Check before overriding DF"
   ]
  },
  {
   "cell_type": "code",
   "execution_count": 154,
   "metadata": {},
   "outputs": [
    {
     "name": "stdout",
     "output_type": "stream",
     "text": [
      "299364\n"
     ]
    },
    {
     "data": {
      "text/html": [
       "<div>\n",
       "<style scoped>\n",
       "    .dataframe tbody tr th:only-of-type {\n",
       "        vertical-align: middle;\n",
       "    }\n",
       "\n",
       "    .dataframe tbody tr th {\n",
       "        vertical-align: top;\n",
       "    }\n",
       "\n",
       "    .dataframe thead th {\n",
       "        text-align: right;\n",
       "    }\n",
       "</style>\n",
       "<table border=\"1\" class=\"dataframe\">\n",
       "  <thead>\n",
       "    <tr style=\"text-align: right;\">\n",
       "      <th></th>\n",
       "      <th>Unnamed: 0</th>\n",
       "      <th>Population</th>\n",
       "      <th>Scrape_Date</th>\n",
       "      <th>STATE-COUNTY</th>\n",
       "      <th>Month</th>\n",
       "      <th>Year</th>\n",
       "      <th>DayOfWeek</th>\n",
       "      <th>State</th>\n",
       "      <th>County</th>\n",
       "    </tr>\n",
       "  </thead>\n",
       "  <tbody>\n",
       "    <tr>\n",
       "      <th>0</th>\n",
       "      <td>31.0</td>\n",
       "      <td>172.0</td>\n",
       "      <td>2020-03-10 00:00:00</td>\n",
       "      <td>AL-Autauga</td>\n",
       "      <td>3.0</td>\n",
       "      <td>2020.0</td>\n",
       "      <td>Tuesday</td>\n",
       "      <td>NaN</td>\n",
       "      <td>NaN</td>\n",
       "    </tr>\n",
       "    <tr>\n",
       "      <th>1</th>\n",
       "      <td>32.0</td>\n",
       "      <td>173.0</td>\n",
       "      <td>2020-03-11 00:00:00</td>\n",
       "      <td>AL-Autauga</td>\n",
       "      <td>3.0</td>\n",
       "      <td>2020.0</td>\n",
       "      <td>Wednesday</td>\n",
       "      <td>NaN</td>\n",
       "      <td>NaN</td>\n",
       "    </tr>\n",
       "  </tbody>\n",
       "</table>\n",
       "</div>"
      ],
      "text/plain": [
       "   Unnamed: 0  Population          Scrape_Date STATE-COUNTY  Month    Year  \\\n",
       "0        31.0       172.0  2020-03-10 00:00:00   AL-Autauga    3.0  2020.0   \n",
       "1        32.0       173.0  2020-03-11 00:00:00   AL-Autauga    3.0  2020.0   \n",
       "\n",
       "   DayOfWeek State County  \n",
       "0    Tuesday   NaN    NaN  \n",
       "1  Wednesday   NaN    NaN  "
      ]
     },
     "execution_count": 154,
     "metadata": {},
     "output_type": "execute_result"
    }
   ],
   "source": [
    "temp = pd.concat([df, nov_oct])\n",
    "print(len(temp))\n",
    "temp.head(2)"
   ]
  },
  {
   "cell_type": "code",
   "execution_count": null,
   "metadata": {},
   "outputs": [],
   "source": []
  },
  {
   "cell_type": "code",
   "execution_count": 164,
   "metadata": {},
   "outputs": [
    {
     "name": "stdout",
     "output_type": "stream",
     "text": [
      "(299364, 3)\n"
     ]
    },
    {
     "data": {
      "text/html": [
       "<div>\n",
       "<style scoped>\n",
       "    .dataframe tbody tr th:only-of-type {\n",
       "        vertical-align: middle;\n",
       "    }\n",
       "\n",
       "    .dataframe tbody tr th {\n",
       "        vertical-align: top;\n",
       "    }\n",
       "\n",
       "    .dataframe thead th {\n",
       "        text-align: right;\n",
       "    }\n",
       "</style>\n",
       "<table border=\"1\" class=\"dataframe\">\n",
       "  <thead>\n",
       "    <tr style=\"text-align: right;\">\n",
       "      <th></th>\n",
       "      <th>Population</th>\n",
       "      <th>Scrape_Date</th>\n",
       "      <th>STATE-COUNTY</th>\n",
       "    </tr>\n",
       "  </thead>\n",
       "  <tbody>\n",
       "    <tr>\n",
       "      <th>0</th>\n",
       "      <td>172.0</td>\n",
       "      <td>2020-03-10 00:00:00</td>\n",
       "      <td>AL-Autauga</td>\n",
       "    </tr>\n",
       "    <tr>\n",
       "      <th>1</th>\n",
       "      <td>173.0</td>\n",
       "      <td>2020-03-11 00:00:00</td>\n",
       "      <td>AL-Autauga</td>\n",
       "    </tr>\n",
       "    <tr>\n",
       "      <th>2</th>\n",
       "      <td>174.0</td>\n",
       "      <td>2020-03-12 00:00:00</td>\n",
       "      <td>AL-Autauga</td>\n",
       "    </tr>\n",
       "  </tbody>\n",
       "</table>\n",
       "</div>"
      ],
      "text/plain": [
       "   Population          Scrape_Date STATE-COUNTY\n",
       "0       172.0  2020-03-10 00:00:00   AL-Autauga\n",
       "1       173.0  2020-03-11 00:00:00   AL-Autauga\n",
       "2       174.0  2020-03-12 00:00:00   AL-Autauga"
      ]
     },
     "execution_count": 164,
     "metadata": {},
     "output_type": "execute_result"
    }
   ],
   "source": [
    "df = pd.concat([df, nov_oct])\n",
    "\n",
    "df = df[['Population', 'Scrape_Date', 'STATE-COUNTY']] #Subset columns\n",
    "\n",
    "\n",
    "print(df.shape)\n",
    "df.head(3)"
   ]
  },
  {
   "cell_type": "code",
   "execution_count": 165,
   "metadata": {},
   "outputs": [],
   "source": [
    "## Create Month / Day of Week / Year Columns \n",
    "df.Scrape_Date = pd.to_datetime(df.Scrape_Date)\n",
    "\n",
    "df['Month'] = df.Scrape_Date.dt.strftime('%m')\n",
    "df['Year'] = df.Scrape_Date.dt.strftime('%Y')\n",
    "df['DayOfWeek'] = df.Scrape_Date.dt.strftime('%A')\n",
    "#Convert Datetime to Strict Date\n",
    "df['Scrape_Date'] = df['Scrape_Date'].dt.date"
   ]
  },
  {
   "cell_type": "markdown",
   "metadata": {},
   "source": [
    "## Save Checkpoint to Disk"
   ]
  },
  {
   "cell_type": "code",
   "execution_count": 166,
   "metadata": {},
   "outputs": [
    {
     "data": {
      "text/html": [
       "<div>\n",
       "<style scoped>\n",
       "    .dataframe tbody tr th:only-of-type {\n",
       "        vertical-align: middle;\n",
       "    }\n",
       "\n",
       "    .dataframe tbody tr th {\n",
       "        vertical-align: top;\n",
       "    }\n",
       "\n",
       "    .dataframe thead th {\n",
       "        text-align: right;\n",
       "    }\n",
       "</style>\n",
       "<table border=\"1\" class=\"dataframe\">\n",
       "  <thead>\n",
       "    <tr style=\"text-align: right;\">\n",
       "      <th></th>\n",
       "      <th>Population</th>\n",
       "      <th>Scrape_Date</th>\n",
       "      <th>STATE-COUNTY</th>\n",
       "      <th>Month</th>\n",
       "      <th>Year</th>\n",
       "      <th>DayOfWeek</th>\n",
       "    </tr>\n",
       "  </thead>\n",
       "  <tbody>\n",
       "    <tr>\n",
       "      <th>0</th>\n",
       "      <td>172.0</td>\n",
       "      <td>2020-03-10</td>\n",
       "      <td>AL-Autauga</td>\n",
       "      <td>03</td>\n",
       "      <td>2020</td>\n",
       "      <td>Tuesday</td>\n",
       "    </tr>\n",
       "    <tr>\n",
       "      <th>1</th>\n",
       "      <td>173.0</td>\n",
       "      <td>2020-03-11</td>\n",
       "      <td>AL-Autauga</td>\n",
       "      <td>03</td>\n",
       "      <td>2020</td>\n",
       "      <td>Wednesday</td>\n",
       "    </tr>\n",
       "  </tbody>\n",
       "</table>\n",
       "</div>"
      ],
      "text/plain": [
       "   Population Scrape_Date STATE-COUNTY Month  Year  DayOfWeek\n",
       "0       172.0  2020-03-10   AL-Autauga    03  2020    Tuesday\n",
       "1       173.0  2020-03-11   AL-Autauga    03  2020  Wednesday"
      ]
     },
     "execution_count": 166,
     "metadata": {},
     "output_type": "execute_result"
    }
   ],
   "source": [
    "df.head(2)"
   ]
  },
  {
   "cell_type": "code",
   "execution_count": 167,
   "metadata": {},
   "outputs": [],
   "source": [
    "df.to_csv(\"Combined_Prior_to_Full_Script_Run_01-09-2022.csv\", index=False)"
   ]
  },
  {
   "cell_type": "markdown",
   "metadata": {},
   "source": [
    "## Reapply Rest of Script"
   ]
  },
  {
   "cell_type": "code",
   "execution_count": null,
   "metadata": {},
   "outputs": [],
   "source": []
  },
  {
   "cell_type": "markdown",
   "metadata": {},
   "source": [
    "## Appendix 5hr timecheck"
   ]
  },
  {
   "cell_type": "markdown",
   "metadata": {},
   "source": [
    "## DevOps - environment recreation, if needed"
   ]
  },
  {
   "cell_type": "code",
   "execution_count": 70,
   "metadata": {},
   "outputs": [
    {
     "data": {
      "text/plain": [
       "['/usr/lib/python36.zip',\n",
       " '/usr/lib/python3.6',\n",
       " '/usr/lib/python3.6/lib-dynload',\n",
       " '',\n",
       " '/home/matt/.local/lib/python3.6/site-packages',\n",
       " '/usr/local/lib/python3.6/dist-packages',\n",
       " '/usr/lib/python3/dist-packages',\n",
       " '/home/matt/.local/lib/python3.6/site-packages/IPython/extensions',\n",
       " '/home/matt/.ipython']"
      ]
     },
     "execution_count": 70,
     "metadata": {},
     "output_type": "execute_result"
    }
   ],
   "source": [
    "import sys\n",
    "\n",
    "sys.path"
   ]
  },
  {
   "cell_type": "code",
   "execution_count": null,
   "metadata": {},
   "outputs": [],
   "source": []
  }
 ],
 "metadata": {
  "kernelspec": {
   "display_name": "Python 3",
   "language": "python",
   "name": "python3"
  },
  "language_info": {
   "codemirror_mode": {
    "name": "ipython",
    "version": 3
   },
   "file_extension": ".py",
   "mimetype": "text/x-python",
   "name": "python",
   "nbconvert_exporter": "python",
   "pygments_lexer": "ipython3",
   "version": "3.6.9"
  }
 },
 "nbformat": 4,
 "nbformat_minor": 2
}
