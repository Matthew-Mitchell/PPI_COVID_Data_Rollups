{
 "cells": [
  {
   "cell_type": "code",
   "execution_count": 1,
   "metadata": {},
   "outputs": [],
   "source": [
    "import pandas as pd"
   ]
  },
  {
   "cell_type": "code",
   "execution_count": 2,
   "metadata": {},
   "outputs": [
    {
     "name": "stdout",
     "output_type": "stream",
     "text": [
      "(325675, 4) Index(['Population', 'Scrape_Date', 'STATE-COUNTY', 'State'], dtype='object')\n"
     ]
    },
    {
     "data": {
      "text/html": [
       "<div>\n",
       "<style scoped>\n",
       "    .dataframe tbody tr th:only-of-type {\n",
       "        vertical-align: middle;\n",
       "    }\n",
       "\n",
       "    .dataframe tbody tr th {\n",
       "        vertical-align: top;\n",
       "    }\n",
       "\n",
       "    .dataframe thead th {\n",
       "        text-align: right;\n",
       "    }\n",
       "</style>\n",
       "<table border=\"1\" class=\"dataframe\">\n",
       "  <thead>\n",
       "    <tr style=\"text-align: right;\">\n",
       "      <th></th>\n",
       "      <th>Population</th>\n",
       "      <th>Scrape_Date</th>\n",
       "      <th>STATE-COUNTY</th>\n",
       "      <th>State</th>\n",
       "    </tr>\n",
       "  </thead>\n",
       "  <tbody>\n",
       "    <tr>\n",
       "      <td>0</td>\n",
       "      <td>182</td>\n",
       "      <td>2020-01-01</td>\n",
       "      <td>AL-Autauga</td>\n",
       "      <td>AL</td>\n",
       "    </tr>\n",
       "    <tr>\n",
       "      <td>1</td>\n",
       "      <td>184</td>\n",
       "      <td>2020-01-02</td>\n",
       "      <td>AL-Autauga</td>\n",
       "      <td>AL</td>\n",
       "    </tr>\n",
       "    <tr>\n",
       "      <td>2</td>\n",
       "      <td>178</td>\n",
       "      <td>2020-01-03</td>\n",
       "      <td>AL-Autauga</td>\n",
       "      <td>AL</td>\n",
       "    </tr>\n",
       "    <tr>\n",
       "      <td>3</td>\n",
       "      <td>180</td>\n",
       "      <td>2020-01-04</td>\n",
       "      <td>AL-Autauga</td>\n",
       "      <td>AL</td>\n",
       "    </tr>\n",
       "    <tr>\n",
       "      <td>4</td>\n",
       "      <td>184</td>\n",
       "      <td>2020-01-05</td>\n",
       "      <td>AL-Autauga</td>\n",
       "      <td>AL</td>\n",
       "    </tr>\n",
       "  </tbody>\n",
       "</table>\n",
       "</div>"
      ],
      "text/plain": [
       "   Population Scrape_Date STATE-COUNTY State\n",
       "0         182  2020-01-01   AL-Autauga    AL\n",
       "1         184  2020-01-02   AL-Autauga    AL\n",
       "2         178  2020-01-03   AL-Autauga    AL\n",
       "3         180  2020-01-04   AL-Autauga    AL\n",
       "4         184  2020-01-05   AL-Autauga    AL"
      ]
     },
     "execution_count": 2,
     "metadata": {},
     "output_type": "execute_result"
    }
   ],
   "source": [
    "old = pd.read_csv('https://raw.githubusercontent.com/publicsafetylab/public-psl-jdi-pops/master/data.csv')\n",
    "print(old.shape, old.columns)\n",
    "old.head()"
   ]
  },
  {
   "cell_type": "code",
   "execution_count": 5,
   "metadata": {},
   "outputs": [
    {
     "data": {
      "text/plain": [
       "'/Users/matthewmitchell/Documents/PPI/PPI_COVID_Data_Rollups'"
      ]
     },
     "execution_count": 5,
     "metadata": {},
     "output_type": "execute_result"
    }
   ],
   "source": [
    "pwd"
   ]
  },
  {
   "cell_type": "code",
   "execution_count": 6,
   "metadata": {},
   "outputs": [
    {
     "name": "stdout",
     "output_type": "stream",
     "text": [
      "COVID_Prison_Transformations.ipynb\r\n",
      "COVID_Prison_Transformations.py\r\n",
      "Jail_Summaries_as_of_01-21-2021.xlsx\r\n",
      "Jail_Summaries_as_of_12-07-2020.xlsx\r\n",
      "Jail_Summaries_as_of_12-09-2020.xlsx\r\n",
      "June18_Updated_File_Check.ipynb\r\n",
      "Matthew-Mitchell-Resume.csv\r\n",
      "PrisonWeeklyPopulations_as_of_12-03-2020.csv\r\n",
      "README.md\r\n",
      "Total_Jail_Population_By_Date_as_of_12-03-2020.csv\r\n",
      "Total_Jail_Population_By_Date_as_of_12-07-2020.csv\r\n",
      "Untitled.ipynb\r\n",
      "\u001b[1m\u001b[36m__pycache__\u001b[m\u001b[m/\r\n",
      "jdi_booking_stats_2021-06-17.csv\r\n"
     ]
    }
   ],
   "source": [
    "ls"
   ]
  },
  {
   "cell_type": "code",
   "execution_count": 17,
   "metadata": {},
   "outputs": [
    {
     "data": {
      "text/plain": [
       "Index(['Population', 'Scrape_Date', 'STATE-COUNTY', 'State'], dtype='object')"
      ]
     },
     "execution_count": 17,
     "metadata": {},
     "output_type": "execute_result"
    }
   ],
   "source": [
    "old.columns"
   ]
  },
  {
   "cell_type": "code",
   "execution_count": 47,
   "metadata": {},
   "outputs": [
    {
     "data": {
      "text/plain": [
       "2"
      ]
     },
     "execution_count": 47,
     "metadata": {},
     "output_type": "execute_result"
    }
   ],
   "source": [
    "round(1.67)"
   ]
  },
  {
   "cell_type": "code",
   "execution_count": 52,
   "metadata": {},
   "outputs": [
    {
     "data": {
      "text/html": [
       "<div>\n",
       "<style scoped>\n",
       "    .dataframe tbody tr th:only-of-type {\n",
       "        vertical-align: middle;\n",
       "    }\n",
       "\n",
       "    .dataframe tbody tr th {\n",
       "        vertical-align: top;\n",
       "    }\n",
       "\n",
       "    .dataframe thead th {\n",
       "        text-align: right;\n",
       "    }\n",
       "</style>\n",
       "<table border=\"1\" class=\"dataframe\">\n",
       "  <thead>\n",
       "    <tr style=\"text-align: right;\">\n",
       "      <th></th>\n",
       "      <th>Population</th>\n",
       "      <th>Scrape_Date</th>\n",
       "      <th>STATE-COUNTY</th>\n",
       "    </tr>\n",
       "  </thead>\n",
       "  <tbody>\n",
       "    <tr>\n",
       "      <td>16440</td>\n",
       "      <td>NaN</td>\n",
       "      <td>2020-01-03</td>\n",
       "      <td>AR-St._Francis</td>\n",
       "    </tr>\n",
       "    <tr>\n",
       "      <td>16441</td>\n",
       "      <td>NaN</td>\n",
       "      <td>2020-01-04</td>\n",
       "      <td>AR-St._Francis</td>\n",
       "    </tr>\n",
       "    <tr>\n",
       "      <td>112923</td>\n",
       "      <td>NaN</td>\n",
       "      <td>2020-01-23</td>\n",
       "      <td>IN-Clinton</td>\n",
       "    </tr>\n",
       "    <tr>\n",
       "      <td>173414</td>\n",
       "      <td>NaN</td>\n",
       "      <td>2020-01-02</td>\n",
       "      <td>LA-LA_Salle</td>\n",
       "    </tr>\n",
       "    <tr>\n",
       "      <td>173415</td>\n",
       "      <td>NaN</td>\n",
       "      <td>2020-01-03</td>\n",
       "      <td>LA-LA_Salle</td>\n",
       "    </tr>\n",
       "  </tbody>\n",
       "</table>\n",
       "</div>"
      ],
      "text/plain": [
       "        Population Scrape_Date    STATE-COUNTY\n",
       "16440          NaN  2020-01-03  AR-St._Francis\n",
       "16441          NaN  2020-01-04  AR-St._Francis\n",
       "112923         NaN  2020-01-23      IN-Clinton\n",
       "173414         NaN  2020-01-02     LA-LA_Salle\n",
       "173415         NaN  2020-01-03     LA-LA_Salle"
      ]
     },
     "execution_count": 52,
     "metadata": {},
     "output_type": "execute_result"
    }
   ],
   "source": [
    "df[df.Population.isna()].head()"
   ]
  },
  {
   "cell_type": "code",
   "execution_count": null,
   "metadata": {},
   "outputs": [],
   "source": []
  },
  {
   "cell_type": "code",
   "execution_count": 51,
   "metadata": {},
   "outputs": [
    {
     "ename": "ValueError",
     "evalue": "cannot convert float NaN to integer",
     "output_type": "error",
     "traceback": [
      "\u001b[0;31m---------------------------------------------------------------------------\u001b[0m",
      "\u001b[0;31mValueError\u001b[0m                                Traceback (most recent call last)",
      "\u001b[0;32m<ipython-input-51-3f89f2ced922>\u001b[0m in \u001b[0;36m<module>\u001b[0;34m\u001b[0m\n\u001b[0;32m----> 1\u001b[0;31m \u001b[0mdf\u001b[0m\u001b[0;34m[\u001b[0m\u001b[0;34m'PopulationRounded'\u001b[0m\u001b[0;34m]\u001b[0m \u001b[0;34m=\u001b[0m \u001b[0mdf\u001b[0m\u001b[0;34m.\u001b[0m\u001b[0mPopulation\u001b[0m\u001b[0;34m.\u001b[0m\u001b[0mapply\u001b[0m\u001b[0;34m(\u001b[0m\u001b[0mround\u001b[0m\u001b[0;34m)\u001b[0m\u001b[0;34m\u001b[0m\u001b[0;34m\u001b[0m\u001b[0m\n\u001b[0m\u001b[1;32m      2\u001b[0m \u001b[0mdf\u001b[0m\u001b[0;34m[\u001b[0m\u001b[0mdf\u001b[0m\u001b[0;34m.\u001b[0m\u001b[0mPopulation\u001b[0m \u001b[0;34m!=\u001b[0m \u001b[0mdf\u001b[0m\u001b[0;34m.\u001b[0m\u001b[0mPopulationRounded\u001b[0m\u001b[0;34m]\u001b[0m\u001b[0;34m.\u001b[0m\u001b[0mhead\u001b[0m\u001b[0;34m(\u001b[0m\u001b[0;34m)\u001b[0m\u001b[0;34m\u001b[0m\u001b[0;34m\u001b[0m\u001b[0m\n",
      "\u001b[0;32m~/anaconda3/lib/python3.7/site-packages/pandas/core/series.py\u001b[0m in \u001b[0;36mapply\u001b[0;34m(self, func, convert_dtype, args, **kwds)\u001b[0m\n\u001b[1;32m   4040\u001b[0m             \u001b[0;32melse\u001b[0m\u001b[0;34m:\u001b[0m\u001b[0;34m\u001b[0m\u001b[0;34m\u001b[0m\u001b[0m\n\u001b[1;32m   4041\u001b[0m                 \u001b[0mvalues\u001b[0m \u001b[0;34m=\u001b[0m \u001b[0mself\u001b[0m\u001b[0;34m.\u001b[0m\u001b[0mastype\u001b[0m\u001b[0;34m(\u001b[0m\u001b[0mobject\u001b[0m\u001b[0;34m)\u001b[0m\u001b[0;34m.\u001b[0m\u001b[0mvalues\u001b[0m\u001b[0;34m\u001b[0m\u001b[0;34m\u001b[0m\u001b[0m\n\u001b[0;32m-> 4042\u001b[0;31m                 \u001b[0mmapped\u001b[0m \u001b[0;34m=\u001b[0m \u001b[0mlib\u001b[0m\u001b[0;34m.\u001b[0m\u001b[0mmap_infer\u001b[0m\u001b[0;34m(\u001b[0m\u001b[0mvalues\u001b[0m\u001b[0;34m,\u001b[0m \u001b[0mf\u001b[0m\u001b[0;34m,\u001b[0m \u001b[0mconvert\u001b[0m\u001b[0;34m=\u001b[0m\u001b[0mconvert_dtype\u001b[0m\u001b[0;34m)\u001b[0m\u001b[0;34m\u001b[0m\u001b[0;34m\u001b[0m\u001b[0m\n\u001b[0m\u001b[1;32m   4043\u001b[0m \u001b[0;34m\u001b[0m\u001b[0m\n\u001b[1;32m   4044\u001b[0m         \u001b[0;32mif\u001b[0m \u001b[0mlen\u001b[0m\u001b[0;34m(\u001b[0m\u001b[0mmapped\u001b[0m\u001b[0;34m)\u001b[0m \u001b[0;32mand\u001b[0m \u001b[0misinstance\u001b[0m\u001b[0;34m(\u001b[0m\u001b[0mmapped\u001b[0m\u001b[0;34m[\u001b[0m\u001b[0;36m0\u001b[0m\u001b[0;34m]\u001b[0m\u001b[0;34m,\u001b[0m \u001b[0mSeries\u001b[0m\u001b[0;34m)\u001b[0m\u001b[0;34m:\u001b[0m\u001b[0;34m\u001b[0m\u001b[0;34m\u001b[0m\u001b[0m\n",
      "\u001b[0;32mpandas/_libs/lib.pyx\u001b[0m in \u001b[0;36mpandas._libs.lib.map_infer\u001b[0;34m()\u001b[0m\n",
      "\u001b[0;31mValueError\u001b[0m: cannot convert float NaN to integer"
     ]
    }
   ],
   "source": [
    "df['PopulationRounded'] = df.Population.apply(round)\n",
    "df[df.Population != df.PopulationRounded].head()"
   ]
  },
  {
   "cell_type": "code",
   "execution_count": 56,
   "metadata": {},
   "outputs": [
    {
     "data": {
      "text/plain": [
       "True"
      ]
     },
     "execution_count": 56,
     "metadata": {},
     "output_type": "execute_result"
    }
   ],
   "source": [
    "np.isnan(np.nan)"
   ]
  },
  {
   "cell_type": "code",
   "execution_count": 57,
   "metadata": {},
   "outputs": [],
   "source": [
    "def roundORblank(pop):\n",
    "    try:\n",
    "        pop = round(pop)\n",
    "    except:\n",
    "        assert np.isnan(pop), \"Error did not round and is not null!!\"\n",
    "    return pop"
   ]
  },
  {
   "cell_type": "code",
   "execution_count": 73,
   "metadata": {},
   "outputs": [],
   "source": [
    "import glob"
   ]
  },
  {
   "cell_type": "code",
   "execution_count": 81,
   "metadata": {},
   "outputs": [
    {
     "data": {
      "text/plain": [
       "10.44"
      ]
     },
     "execution_count": 81,
     "metadata": {},
     "output_type": "execute_result"
    }
   ],
   "source": [
    ".87*12"
   ]
  },
  {
   "cell_type": "code",
   "execution_count": 75,
   "metadata": {},
   "outputs": [],
   "source": [
    "def custom_sort(jdi):\n",
    "    date = jdi.split(\"_\")[-1].strip(\".csv\")\n",
    "    date = pd.to_datetime(date)\n",
    "    return date"
   ]
  },
  {
   "cell_type": "code",
   "execution_count": 79,
   "metadata": {},
   "outputs": [
    {
     "data": {
      "text/plain": [
       "'jdi_booking_stats_2021-09-11.csv'"
      ]
     },
     "execution_count": 79,
     "metadata": {},
     "output_type": "execute_result"
    }
   ],
   "source": [
    "jdi_files = glob.glob(\"jdi_booking_stats_*.csv\")\n",
    "jdi_files = sorted(jdi_files, key= custom_sort)\n",
    "cur_file = jdi_files[-1]\n",
    "cur_file"
   ]
  },
  {
   "cell_type": "code",
   "execution_count": 80,
   "metadata": {},
   "outputs": [
    {
     "data": {
      "text/plain": [
       "['jdi_booking_stats_2021-03-11.csv',\n",
       " 'jdi_booking_stats_2021-03-19.csv',\n",
       " 'jdi_booking_stats_2021-05-19.csv',\n",
       " 'jdi_booking_stats_2021-06-17.csv',\n",
       " 'jdi_booking_stats_2021-06-19.csv',\n",
       " 'jdi_booking_stats_2021-09-11.csv']"
      ]
     },
     "execution_count": 80,
     "metadata": {},
     "output_type": "execute_result"
    }
   ],
   "source": [
    "jdi_files"
   ]
  },
  {
   "cell_type": "code",
   "execution_count": 70,
   "metadata": {},
   "outputs": [
    {
     "name": "stdout",
     "output_type": "stream",
     "text": [
      "Found Missing Linear Interpolated Populations!!\n",
      "    Using Custom Function which will leave these values blank while rounding the rest.\n",
      "Number of missing Population Values since March 10th: 6\n",
      "Preview of missing values:         Population Scrape_Date    STATE-COUNTY\n",
      "16440          NaN  2020-01-03  AR-St._Francis\n",
      "16441          NaN  2020-01-04  AR-St._Francis\n",
      "112923         NaN  2020-01-23      IN-Clinton\n",
      "173414         NaN  2020-01-02     LA-LA_Salle\n",
      "173415         NaN  2020-01-03     LA-LA_Salle\n",
      "173416         NaN  2020-01-04     LA-LA_Salle\n"
     ]
    },
    {
     "data": {
      "text/html": [
       "<div>\n",
       "<style scoped>\n",
       "    .dataframe tbody tr th:only-of-type {\n",
       "        vertical-align: middle;\n",
       "    }\n",
       "\n",
       "    .dataframe tbody tr th {\n",
       "        vertical-align: top;\n",
       "    }\n",
       "\n",
       "    .dataframe thead th {\n",
       "        text-align: right;\n",
       "    }\n",
       "</style>\n",
       "<table border=\"1\" class=\"dataframe\">\n",
       "  <thead>\n",
       "    <tr style=\"text-align: right;\">\n",
       "      <th></th>\n",
       "      <th>Population</th>\n",
       "      <th>Scrape_Date</th>\n",
       "      <th>STATE-COUNTY</th>\n",
       "    </tr>\n",
       "  </thead>\n",
       "  <tbody>\n",
       "    <tr>\n",
       "      <td>0</td>\n",
       "      <td>13.0</td>\n",
       "      <td>2020-06-27</td>\n",
       "      <td>AL-Greene</td>\n",
       "    </tr>\n",
       "    <tr>\n",
       "      <td>1</td>\n",
       "      <td>13.0</td>\n",
       "      <td>2020-06-28</td>\n",
       "      <td>AL-Greene</td>\n",
       "    </tr>\n",
       "    <tr>\n",
       "      <td>2</td>\n",
       "      <td>14.0</td>\n",
       "      <td>2020-06-29</td>\n",
       "      <td>AL-Greene</td>\n",
       "    </tr>\n",
       "    <tr>\n",
       "      <td>3</td>\n",
       "      <td>14.0</td>\n",
       "      <td>2020-06-30</td>\n",
       "      <td>AL-Greene</td>\n",
       "    </tr>\n",
       "    <tr>\n",
       "      <td>4</td>\n",
       "      <td>13.0</td>\n",
       "      <td>2020-07-01</td>\n",
       "      <td>AL-Greene</td>\n",
       "    </tr>\n",
       "  </tbody>\n",
       "</table>\n",
       "</div>"
      ],
      "text/plain": [
       "   Population Scrape_Date STATE-COUNTY\n",
       "0        13.0  2020-06-27    AL-Greene\n",
       "1        13.0  2020-06-28    AL-Greene\n",
       "2        14.0  2020-06-29    AL-Greene\n",
       "3        14.0  2020-06-30    AL-Greene\n",
       "4        13.0  2020-07-01    AL-Greene"
      ]
     },
     "execution_count": 70,
     "metadata": {},
     "output_type": "execute_result"
    }
   ],
   "source": [
    "df = pd.read_csv('jdi_booking_stats_2021-06-17.csv')\n",
    "cols2drop = ['Unnamed: 0', 'population_zeroed', 'population_raw']\n",
    "df = df.drop(cols2drop, axis=1)\n",
    "df.columns = ['Population', 'Scrape_Date', 'STATE-COUNTY']\n",
    "\n",
    "df['Scrape_Date'] = pd.to_datetime(df['Scrape_Date'])\n",
    "\n",
    "# df = df[df['Scrape_Date'] >= pd.to_datetime(\"03-10-2020\")]\n",
    "\n",
    "try:\n",
    "    df['Population'] = df.Population.apply(round)\n",
    "except:\n",
    "    print(\"\"\"Found Missing Linear Interpolated Populations!!\n",
    "    Using Custom Function which will leave these values blank while rounding the rest.\"\"\")\n",
    "    missing = df[df.Population.isna()]\n",
    "    print(\"Number of missing Population Values since March 10th:\", len(missing))\n",
    "    print(\"Preview of missing values:\", missing)\n",
    "    df['Population'] = df.Population.apply(roundORblank)\n",
    "df.head()"
   ]
  },
  {
   "cell_type": "code",
   "execution_count": 71,
   "metadata": {},
   "outputs": [
    {
     "data": {
      "text/html": [
       "<div>\n",
       "<style scoped>\n",
       "    .dataframe tbody tr th:only-of-type {\n",
       "        vertical-align: middle;\n",
       "    }\n",
       "\n",
       "    .dataframe tbody tr th {\n",
       "        vertical-align: top;\n",
       "    }\n",
       "\n",
       "    .dataframe thead th {\n",
       "        text-align: right;\n",
       "    }\n",
       "</style>\n",
       "<table border=\"1\" class=\"dataframe\">\n",
       "  <thead>\n",
       "    <tr style=\"text-align: right;\">\n",
       "      <th></th>\n",
       "      <th>Population</th>\n",
       "      <th>Scrape_Date</th>\n",
       "      <th>STATE-COUNTY</th>\n",
       "    </tr>\n",
       "  </thead>\n",
       "  <tbody>\n",
       "    <tr>\n",
       "      <td>16440</td>\n",
       "      <td>NaN</td>\n",
       "      <td>2020-01-03</td>\n",
       "      <td>AR-St._Francis</td>\n",
       "    </tr>\n",
       "    <tr>\n",
       "      <td>16441</td>\n",
       "      <td>NaN</td>\n",
       "      <td>2020-01-04</td>\n",
       "      <td>AR-St._Francis</td>\n",
       "    </tr>\n",
       "    <tr>\n",
       "      <td>112923</td>\n",
       "      <td>NaN</td>\n",
       "      <td>2020-01-23</td>\n",
       "      <td>IN-Clinton</td>\n",
       "    </tr>\n",
       "    <tr>\n",
       "      <td>173414</td>\n",
       "      <td>NaN</td>\n",
       "      <td>2020-01-02</td>\n",
       "      <td>LA-LA_Salle</td>\n",
       "    </tr>\n",
       "    <tr>\n",
       "      <td>173415</td>\n",
       "      <td>NaN</td>\n",
       "      <td>2020-01-03</td>\n",
       "      <td>LA-LA_Salle</td>\n",
       "    </tr>\n",
       "    <tr>\n",
       "      <td>173416</td>\n",
       "      <td>NaN</td>\n",
       "      <td>2020-01-04</td>\n",
       "      <td>LA-LA_Salle</td>\n",
       "    </tr>\n",
       "  </tbody>\n",
       "</table>\n",
       "</div>"
      ],
      "text/plain": [
       "        Population Scrape_Date    STATE-COUNTY\n",
       "16440          NaN  2020-01-03  AR-St._Francis\n",
       "16441          NaN  2020-01-04  AR-St._Francis\n",
       "112923         NaN  2020-01-23      IN-Clinton\n",
       "173414         NaN  2020-01-02     LA-LA_Salle\n",
       "173415         NaN  2020-01-03     LA-LA_Salle\n",
       "173416         NaN  2020-01-04     LA-LA_Salle"
      ]
     },
     "execution_count": 71,
     "metadata": {},
     "output_type": "execute_result"
    }
   ],
   "source": [
    "df[df.Population.isna()]"
   ]
  },
  {
   "cell_type": "code",
   "execution_count": 55,
   "metadata": {},
   "outputs": [
    {
     "data": {
      "text/plain": [
       "0.9350883095813131"
      ]
     },
     "execution_count": 55,
     "metadata": {},
     "output_type": "execute_result"
    }
   ],
   "source": [
    "405761 / 433928"
   ]
  },
  {
   "cell_type": "code",
   "execution_count": 65,
   "metadata": {},
   "outputs": [
    {
     "data": {
      "text/plain": [
       "2020-01-03    2\n",
       "2020-01-04    2\n",
       "2020-01-23    1\n",
       "2020-01-02    1\n",
       "Name: Scrape_Date, dtype: int64"
      ]
     },
     "execution_count": 65,
     "metadata": {},
     "output_type": "execute_result"
    }
   ],
   "source": [
    "df[df.Population.isna()].Scrape_Date.value_counts()"
   ]
  },
  {
   "cell_type": "code",
   "execution_count": 62,
   "metadata": {},
   "outputs": [
    {
     "name": "stdout",
     "output_type": "stream",
     "text": [
      "<class 'pandas.core.frame.DataFrame'>\n",
      "RangeIndex: 433929 entries, 0 to 433928\n",
      "Data columns (total 3 columns):\n",
      "Population      433923 non-null float64\n",
      "Scrape_Date     433929 non-null datetime64[ns]\n",
      "STATE-COUNTY    433929 non-null object\n",
      "dtypes: datetime64[ns](1), float64(1), object(1)\n",
      "memory usage: 9.9+ MB\n"
     ]
    }
   ],
   "source": [
    "df.info()"
   ]
  },
  {
   "cell_type": "code",
   "execution_count": 40,
   "metadata": {},
   "outputs": [
    {
     "name": "stdout",
     "output_type": "stream",
     "text": [
      "(433929, 6) Index(['Unnamed: 0', 'population_raw', 'population_zeroed',\n",
      "       'population_linear_interpolated', 'date', 'State-County'],\n",
      "      dtype='object')\n"
     ]
    },
    {
     "data": {
      "text/html": [
       "<div>\n",
       "<style scoped>\n",
       "    .dataframe tbody tr th:only-of-type {\n",
       "        vertical-align: middle;\n",
       "    }\n",
       "\n",
       "    .dataframe tbody tr th {\n",
       "        vertical-align: top;\n",
       "    }\n",
       "\n",
       "    .dataframe thead th {\n",
       "        text-align: right;\n",
       "    }\n",
       "</style>\n",
       "<table border=\"1\" class=\"dataframe\">\n",
       "  <thead>\n",
       "    <tr style=\"text-align: right;\">\n",
       "      <th></th>\n",
       "      <th>Unnamed: 0</th>\n",
       "      <th>population_raw</th>\n",
       "      <th>population_zeroed</th>\n",
       "      <th>population_linear_interpolated</th>\n",
       "      <th>date</th>\n",
       "      <th>State-County</th>\n",
       "    </tr>\n",
       "  </thead>\n",
       "  <tbody>\n",
       "    <tr>\n",
       "      <td>0</td>\n",
       "      <td>2020-06-27</td>\n",
       "      <td>13.0</td>\n",
       "      <td>13.0</td>\n",
       "      <td>13.0</td>\n",
       "      <td>2020-06-27</td>\n",
       "      <td>AL-Greene</td>\n",
       "    </tr>\n",
       "    <tr>\n",
       "      <td>1</td>\n",
       "      <td>2020-06-28</td>\n",
       "      <td>13.0</td>\n",
       "      <td>13.0</td>\n",
       "      <td>13.0</td>\n",
       "      <td>2020-06-28</td>\n",
       "      <td>AL-Greene</td>\n",
       "    </tr>\n",
       "    <tr>\n",
       "      <td>2</td>\n",
       "      <td>2020-06-29</td>\n",
       "      <td>14.0</td>\n",
       "      <td>14.0</td>\n",
       "      <td>14.0</td>\n",
       "      <td>2020-06-29</td>\n",
       "      <td>AL-Greene</td>\n",
       "    </tr>\n",
       "    <tr>\n",
       "      <td>3</td>\n",
       "      <td>2020-06-30</td>\n",
       "      <td>14.0</td>\n",
       "      <td>14.0</td>\n",
       "      <td>14.0</td>\n",
       "      <td>2020-06-30</td>\n",
       "      <td>AL-Greene</td>\n",
       "    </tr>\n",
       "    <tr>\n",
       "      <td>4</td>\n",
       "      <td>2020-07-01</td>\n",
       "      <td>13.0</td>\n",
       "      <td>13.0</td>\n",
       "      <td>13.0</td>\n",
       "      <td>2020-07-01</td>\n",
       "      <td>AL-Greene</td>\n",
       "    </tr>\n",
       "  </tbody>\n",
       "</table>\n",
       "</div>"
      ],
      "text/plain": [
       "   Unnamed: 0  population_raw  population_zeroed  \\\n",
       "0  2020-06-27            13.0               13.0   \n",
       "1  2020-06-28            13.0               13.0   \n",
       "2  2020-06-29            14.0               14.0   \n",
       "3  2020-06-30            14.0               14.0   \n",
       "4  2020-07-01            13.0               13.0   \n",
       "\n",
       "   population_linear_interpolated        date State-County  \n",
       "0                            13.0  2020-06-27    AL-Greene  \n",
       "1                            13.0  2020-06-28    AL-Greene  \n",
       "2                            14.0  2020-06-29    AL-Greene  \n",
       "3                            14.0  2020-06-30    AL-Greene  \n",
       "4                            13.0  2020-07-01    AL-Greene  "
      ]
     },
     "execution_count": 40,
     "metadata": {},
     "output_type": "execute_result"
    }
   ],
   "source": [
    "new = pd.read_csv('jdi_booking_stats_2021-06-17.csv')\n",
    "# cols2drop = ['Unnamed: 0', 'population_zeroed',\n",
    "#        'population_linear_interpolated']\n",
    "# new = new.drop(cols2drop, axis=1)\n",
    "# new.columns = ['Population', 'Scrape_Date', 'STATE-COUNTY']\n",
    "print(new.shape, new.columns)\n",
    "new.head()"
   ]
  },
  {
   "cell_type": "code",
   "execution_count": 22,
   "metadata": {},
   "outputs": [],
   "source": [
    "assert(all(new == new))"
   ]
  },
  {
   "cell_type": "code",
   "execution_count": 27,
   "metadata": {},
   "outputs": [],
   "source": [
    "new = new.sort_values(by='Scrape_Date')\n",
    "df = new\n",
    "df['Scrape_Date'] = pd.to_datetime(df['Scrape_Date'])\n",
    "\n",
    "df = df[df['Scrape_Date'] >= pd.to_datetime(\"03-10-2020\")]\n"
   ]
  },
  {
   "cell_type": "code",
   "execution_count": 28,
   "metadata": {},
   "outputs": [
    {
     "data": {
      "text/plain": [
       "Scrape_Date\n",
       "2020-03-10    610\n",
       "2020-03-11    611\n",
       "2020-03-12    613\n",
       "2020-03-13    615\n",
       "2020-03-14    616\n",
       "             ... \n",
       "2021-06-13    810\n",
       "2021-06-14    810\n",
       "2021-06-15    807\n",
       "2021-06-16    801\n",
       "2021-06-17    765\n",
       "Name: STATE-COUNTY, Length: 465, dtype: int64"
      ]
     },
     "execution_count": 28,
     "metadata": {},
     "output_type": "execute_result"
    }
   ],
   "source": [
    "df.groupby('Scrape_Date')['STATE-COUNTY'].nunique()"
   ]
  },
  {
   "cell_type": "code",
   "execution_count": 32,
   "metadata": {},
   "outputs": [
    {
     "data": {
      "text/html": [
       "<div>\n",
       "<style scoped>\n",
       "    .dataframe tbody tr th:only-of-type {\n",
       "        vertical-align: middle;\n",
       "    }\n",
       "\n",
       "    .dataframe tbody tr th {\n",
       "        vertical-align: top;\n",
       "    }\n",
       "\n",
       "    .dataframe thead th {\n",
       "        text-align: right;\n",
       "    }\n",
       "</style>\n",
       "<table border=\"1\" class=\"dataframe\">\n",
       "  <thead>\n",
       "    <tr style=\"text-align: right;\">\n",
       "      <th></th>\n",
       "      <th>Population</th>\n",
       "      <th>Scrape_Date</th>\n",
       "      <th>STATE-COUNTY</th>\n",
       "      <th>State</th>\n",
       "    </tr>\n",
       "  </thead>\n",
       "  <tbody>\n",
       "    <tr>\n",
       "      <td>8116</td>\n",
       "      <td>273</td>\n",
       "      <td>2020-03-07</td>\n",
       "      <td>AL-Marshall</td>\n",
       "      <td>AL</td>\n",
       "    </tr>\n",
       "    <tr>\n",
       "      <td>8117</td>\n",
       "      <td>273</td>\n",
       "      <td>2020-03-08</td>\n",
       "      <td>AL-Marshall</td>\n",
       "      <td>AL</td>\n",
       "    </tr>\n",
       "    <tr>\n",
       "      <td>8118</td>\n",
       "      <td>274</td>\n",
       "      <td>2020-03-09</td>\n",
       "      <td>AL-Marshall</td>\n",
       "      <td>AL</td>\n",
       "    </tr>\n",
       "    <tr>\n",
       "      <td>8119</td>\n",
       "      <td>250</td>\n",
       "      <td>2020-06-04</td>\n",
       "      <td>AL-Marshall</td>\n",
       "      <td>AL</td>\n",
       "    </tr>\n",
       "    <tr>\n",
       "      <td>8120</td>\n",
       "      <td>252</td>\n",
       "      <td>2020-06-05</td>\n",
       "      <td>AL-Marshall</td>\n",
       "      <td>AL</td>\n",
       "    </tr>\n",
       "    <tr>\n",
       "      <td>8121</td>\n",
       "      <td>251</td>\n",
       "      <td>2020-06-06</td>\n",
       "      <td>AL-Marshall</td>\n",
       "      <td>AL</td>\n",
       "    </tr>\n",
       "    <tr>\n",
       "      <td>8122</td>\n",
       "      <td>252</td>\n",
       "      <td>2020-06-07</td>\n",
       "      <td>AL-Marshall</td>\n",
       "      <td>AL</td>\n",
       "    </tr>\n",
       "    <tr>\n",
       "      <td>8123</td>\n",
       "      <td>255</td>\n",
       "      <td>2020-06-08</td>\n",
       "      <td>AL-Marshall</td>\n",
       "      <td>AL</td>\n",
       "    </tr>\n",
       "    <tr>\n",
       "      <td>8124</td>\n",
       "      <td>253</td>\n",
       "      <td>2020-06-09</td>\n",
       "      <td>AL-Marshall</td>\n",
       "      <td>AL</td>\n",
       "    </tr>\n",
       "    <tr>\n",
       "      <td>8125</td>\n",
       "      <td>251</td>\n",
       "      <td>2020-06-10</td>\n",
       "      <td>AL-Marshall</td>\n",
       "      <td>AL</td>\n",
       "    </tr>\n",
       "    <tr>\n",
       "      <td>8126</td>\n",
       "      <td>250</td>\n",
       "      <td>2020-06-11</td>\n",
       "      <td>AL-Marshall</td>\n",
       "      <td>AL</td>\n",
       "    </tr>\n",
       "    <tr>\n",
       "      <td>8127</td>\n",
       "      <td>246</td>\n",
       "      <td>2020-06-12</td>\n",
       "      <td>AL-Marshall</td>\n",
       "      <td>AL</td>\n",
       "    </tr>\n",
       "    <tr>\n",
       "      <td>8128</td>\n",
       "      <td>249</td>\n",
       "      <td>2020-06-13</td>\n",
       "      <td>AL-Marshall</td>\n",
       "      <td>AL</td>\n",
       "    </tr>\n",
       "    <tr>\n",
       "      <td>8129</td>\n",
       "      <td>250</td>\n",
       "      <td>2020-06-14</td>\n",
       "      <td>AL-Marshall</td>\n",
       "      <td>AL</td>\n",
       "    </tr>\n",
       "    <tr>\n",
       "      <td>8130</td>\n",
       "      <td>252</td>\n",
       "      <td>2020-06-15</td>\n",
       "      <td>AL-Marshall</td>\n",
       "      <td>AL</td>\n",
       "    </tr>\n",
       "    <tr>\n",
       "      <td>8131</td>\n",
       "      <td>248</td>\n",
       "      <td>2020-06-16</td>\n",
       "      <td>AL-Marshall</td>\n",
       "      <td>AL</td>\n",
       "    </tr>\n",
       "    <tr>\n",
       "      <td>8132</td>\n",
       "      <td>254</td>\n",
       "      <td>2020-06-17</td>\n",
       "      <td>AL-Marshall</td>\n",
       "      <td>AL</td>\n",
       "    </tr>\n",
       "    <tr>\n",
       "      <td>8133</td>\n",
       "      <td>252</td>\n",
       "      <td>2020-06-18</td>\n",
       "      <td>AL-Marshall</td>\n",
       "      <td>AL</td>\n",
       "    </tr>\n",
       "    <tr>\n",
       "      <td>8134</td>\n",
       "      <td>254</td>\n",
       "      <td>2020-06-19</td>\n",
       "      <td>AL-Marshall</td>\n",
       "      <td>AL</td>\n",
       "    </tr>\n",
       "    <tr>\n",
       "      <td>8135</td>\n",
       "      <td>258</td>\n",
       "      <td>2020-06-20</td>\n",
       "      <td>AL-Marshall</td>\n",
       "      <td>AL</td>\n",
       "    </tr>\n",
       "  </tbody>\n",
       "</table>\n",
       "</div>"
      ],
      "text/plain": [
       "      Population Scrape_Date STATE-COUNTY State\n",
       "8116         273  2020-03-07  AL-Marshall    AL\n",
       "8117         273  2020-03-08  AL-Marshall    AL\n",
       "8118         274  2020-03-09  AL-Marshall    AL\n",
       "8119         250  2020-06-04  AL-Marshall    AL\n",
       "8120         252  2020-06-05  AL-Marshall    AL\n",
       "8121         251  2020-06-06  AL-Marshall    AL\n",
       "8122         252  2020-06-07  AL-Marshall    AL\n",
       "8123         255  2020-06-08  AL-Marshall    AL\n",
       "8124         253  2020-06-09  AL-Marshall    AL\n",
       "8125         251  2020-06-10  AL-Marshall    AL\n",
       "8126         250  2020-06-11  AL-Marshall    AL\n",
       "8127         246  2020-06-12  AL-Marshall    AL\n",
       "8128         249  2020-06-13  AL-Marshall    AL\n",
       "8129         250  2020-06-14  AL-Marshall    AL\n",
       "8130         252  2020-06-15  AL-Marshall    AL\n",
       "8131         248  2020-06-16  AL-Marshall    AL\n",
       "8132         254  2020-06-17  AL-Marshall    AL\n",
       "8133         252  2020-06-18  AL-Marshall    AL\n",
       "8134         254  2020-06-19  AL-Marshall    AL\n",
       "8135         258  2020-06-20  AL-Marshall    AL"
      ]
     },
     "execution_count": 32,
     "metadata": {},
     "output_type": "execute_result"
    }
   ],
   "source": [
    "old[old['STATE-COUNTY']==\"AL-Marshall\"].iloc[24:44]"
   ]
  },
  {
   "cell_type": "code",
   "execution_count": 37,
   "metadata": {},
   "outputs": [
    {
     "data": {
      "text/html": [
       "<div>\n",
       "<style scoped>\n",
       "    .dataframe tbody tr th:only-of-type {\n",
       "        vertical-align: middle;\n",
       "    }\n",
       "\n",
       "    .dataframe tbody tr th {\n",
       "        vertical-align: top;\n",
       "    }\n",
       "\n",
       "    .dataframe thead th {\n",
       "        text-align: right;\n",
       "    }\n",
       "</style>\n",
       "<table border=\"1\" class=\"dataframe\">\n",
       "  <thead>\n",
       "    <tr style=\"text-align: right;\">\n",
       "      <th></th>\n",
       "      <th>Population</th>\n",
       "      <th>Scrape_Date</th>\n",
       "      <th>STATE-COUNTY</th>\n",
       "    </tr>\n",
       "  </thead>\n",
       "  <tbody>\n",
       "    <tr>\n",
       "      <td>6633</td>\n",
       "      <td>0.0</td>\n",
       "      <td>2020-04-24</td>\n",
       "      <td>AL-Marshall</td>\n",
       "    </tr>\n",
       "    <tr>\n",
       "      <td>6634</td>\n",
       "      <td>0.0</td>\n",
       "      <td>2020-04-25</td>\n",
       "      <td>AL-Marshall</td>\n",
       "    </tr>\n",
       "    <tr>\n",
       "      <td>6635</td>\n",
       "      <td>0.0</td>\n",
       "      <td>2020-04-26</td>\n",
       "      <td>AL-Marshall</td>\n",
       "    </tr>\n",
       "    <tr>\n",
       "      <td>6636</td>\n",
       "      <td>0.0</td>\n",
       "      <td>2020-04-27</td>\n",
       "      <td>AL-Marshall</td>\n",
       "    </tr>\n",
       "    <tr>\n",
       "      <td>6637</td>\n",
       "      <td>0.0</td>\n",
       "      <td>2020-04-28</td>\n",
       "      <td>AL-Marshall</td>\n",
       "    </tr>\n",
       "    <tr>\n",
       "      <td>6638</td>\n",
       "      <td>0.0</td>\n",
       "      <td>2020-04-29</td>\n",
       "      <td>AL-Marshall</td>\n",
       "    </tr>\n",
       "    <tr>\n",
       "      <td>6639</td>\n",
       "      <td>0.0</td>\n",
       "      <td>2020-04-30</td>\n",
       "      <td>AL-Marshall</td>\n",
       "    </tr>\n",
       "    <tr>\n",
       "      <td>6640</td>\n",
       "      <td>0.0</td>\n",
       "      <td>2020-05-01</td>\n",
       "      <td>AL-Marshall</td>\n",
       "    </tr>\n",
       "    <tr>\n",
       "      <td>6641</td>\n",
       "      <td>0.0</td>\n",
       "      <td>2020-05-02</td>\n",
       "      <td>AL-Marshall</td>\n",
       "    </tr>\n",
       "    <tr>\n",
       "      <td>6642</td>\n",
       "      <td>0.0</td>\n",
       "      <td>2020-05-03</td>\n",
       "      <td>AL-Marshall</td>\n",
       "    </tr>\n",
       "    <tr>\n",
       "      <td>6643</td>\n",
       "      <td>0.0</td>\n",
       "      <td>2020-05-04</td>\n",
       "      <td>AL-Marshall</td>\n",
       "    </tr>\n",
       "    <tr>\n",
       "      <td>6644</td>\n",
       "      <td>0.0</td>\n",
       "      <td>2020-05-05</td>\n",
       "      <td>AL-Marshall</td>\n",
       "    </tr>\n",
       "    <tr>\n",
       "      <td>6645</td>\n",
       "      <td>0.0</td>\n",
       "      <td>2020-05-06</td>\n",
       "      <td>AL-Marshall</td>\n",
       "    </tr>\n",
       "    <tr>\n",
       "      <td>6646</td>\n",
       "      <td>0.0</td>\n",
       "      <td>2020-05-07</td>\n",
       "      <td>AL-Marshall</td>\n",
       "    </tr>\n",
       "    <tr>\n",
       "      <td>6647</td>\n",
       "      <td>0.0</td>\n",
       "      <td>2020-05-08</td>\n",
       "      <td>AL-Marshall</td>\n",
       "    </tr>\n",
       "    <tr>\n",
       "      <td>6648</td>\n",
       "      <td>0.0</td>\n",
       "      <td>2020-05-09</td>\n",
       "      <td>AL-Marshall</td>\n",
       "    </tr>\n",
       "    <tr>\n",
       "      <td>6649</td>\n",
       "      <td>0.0</td>\n",
       "      <td>2020-05-10</td>\n",
       "      <td>AL-Marshall</td>\n",
       "    </tr>\n",
       "    <tr>\n",
       "      <td>6650</td>\n",
       "      <td>0.0</td>\n",
       "      <td>2020-05-11</td>\n",
       "      <td>AL-Marshall</td>\n",
       "    </tr>\n",
       "    <tr>\n",
       "      <td>6651</td>\n",
       "      <td>0.0</td>\n",
       "      <td>2020-05-12</td>\n",
       "      <td>AL-Marshall</td>\n",
       "    </tr>\n",
       "    <tr>\n",
       "      <td>6652</td>\n",
       "      <td>0.0</td>\n",
       "      <td>2020-05-13</td>\n",
       "      <td>AL-Marshall</td>\n",
       "    </tr>\n",
       "    <tr>\n",
       "      <td>6653</td>\n",
       "      <td>0.0</td>\n",
       "      <td>2020-05-14</td>\n",
       "      <td>AL-Marshall</td>\n",
       "    </tr>\n",
       "    <tr>\n",
       "      <td>6654</td>\n",
       "      <td>0.0</td>\n",
       "      <td>2020-05-15</td>\n",
       "      <td>AL-Marshall</td>\n",
       "    </tr>\n",
       "    <tr>\n",
       "      <td>6655</td>\n",
       "      <td>0.0</td>\n",
       "      <td>2020-05-16</td>\n",
       "      <td>AL-Marshall</td>\n",
       "    </tr>\n",
       "    <tr>\n",
       "      <td>6656</td>\n",
       "      <td>0.0</td>\n",
       "      <td>2020-05-17</td>\n",
       "      <td>AL-Marshall</td>\n",
       "    </tr>\n",
       "    <tr>\n",
       "      <td>6657</td>\n",
       "      <td>0.0</td>\n",
       "      <td>2020-05-18</td>\n",
       "      <td>AL-Marshall</td>\n",
       "    </tr>\n",
       "    <tr>\n",
       "      <td>6658</td>\n",
       "      <td>0.0</td>\n",
       "      <td>2020-05-19</td>\n",
       "      <td>AL-Marshall</td>\n",
       "    </tr>\n",
       "    <tr>\n",
       "      <td>6659</td>\n",
       "      <td>0.0</td>\n",
       "      <td>2020-05-20</td>\n",
       "      <td>AL-Marshall</td>\n",
       "    </tr>\n",
       "    <tr>\n",
       "      <td>6660</td>\n",
       "      <td>0.0</td>\n",
       "      <td>2020-05-21</td>\n",
       "      <td>AL-Marshall</td>\n",
       "    </tr>\n",
       "    <tr>\n",
       "      <td>6661</td>\n",
       "      <td>0.0</td>\n",
       "      <td>2020-05-22</td>\n",
       "      <td>AL-Marshall</td>\n",
       "    </tr>\n",
       "    <tr>\n",
       "      <td>6662</td>\n",
       "      <td>0.0</td>\n",
       "      <td>2020-05-23</td>\n",
       "      <td>AL-Marshall</td>\n",
       "    </tr>\n",
       "  </tbody>\n",
       "</table>\n",
       "</div>"
      ],
      "text/plain": [
       "      Population Scrape_Date STATE-COUNTY\n",
       "6633         0.0  2020-04-24  AL-Marshall\n",
       "6634         0.0  2020-04-25  AL-Marshall\n",
       "6635         0.0  2020-04-26  AL-Marshall\n",
       "6636         0.0  2020-04-27  AL-Marshall\n",
       "6637         0.0  2020-04-28  AL-Marshall\n",
       "6638         0.0  2020-04-29  AL-Marshall\n",
       "6639         0.0  2020-04-30  AL-Marshall\n",
       "6640         0.0  2020-05-01  AL-Marshall\n",
       "6641         0.0  2020-05-02  AL-Marshall\n",
       "6642         0.0  2020-05-03  AL-Marshall\n",
       "6643         0.0  2020-05-04  AL-Marshall\n",
       "6644         0.0  2020-05-05  AL-Marshall\n",
       "6645         0.0  2020-05-06  AL-Marshall\n",
       "6646         0.0  2020-05-07  AL-Marshall\n",
       "6647         0.0  2020-05-08  AL-Marshall\n",
       "6648         0.0  2020-05-09  AL-Marshall\n",
       "6649         0.0  2020-05-10  AL-Marshall\n",
       "6650         0.0  2020-05-11  AL-Marshall\n",
       "6651         0.0  2020-05-12  AL-Marshall\n",
       "6652         0.0  2020-05-13  AL-Marshall\n",
       "6653         0.0  2020-05-14  AL-Marshall\n",
       "6654         0.0  2020-05-15  AL-Marshall\n",
       "6655         0.0  2020-05-16  AL-Marshall\n",
       "6656         0.0  2020-05-17  AL-Marshall\n",
       "6657         0.0  2020-05-18  AL-Marshall\n",
       "6658         0.0  2020-05-19  AL-Marshall\n",
       "6659         0.0  2020-05-20  AL-Marshall\n",
       "6660         0.0  2020-05-21  AL-Marshall\n",
       "6661         0.0  2020-05-22  AL-Marshall\n",
       "6662         0.0  2020-05-23  AL-Marshall"
      ]
     },
     "execution_count": 37,
     "metadata": {},
     "output_type": "execute_result"
    }
   ],
   "source": [
    "df[df['STATE-COUNTY']==\"AL-Marshall\"].iloc[45:75]"
   ]
  },
  {
   "cell_type": "code",
   "execution_count": 21,
   "metadata": {},
   "outputs": [
    {
     "data": {
      "text/html": [
       "<div>\n",
       "<style scoped>\n",
       "    .dataframe tbody tr th:only-of-type {\n",
       "        vertical-align: middle;\n",
       "    }\n",
       "\n",
       "    .dataframe tbody tr th {\n",
       "        vertical-align: top;\n",
       "    }\n",
       "\n",
       "    .dataframe thead th {\n",
       "        text-align: right;\n",
       "    }\n",
       "</style>\n",
       "<table border=\"1\" class=\"dataframe\">\n",
       "  <thead>\n",
       "    <tr style=\"text-align: right;\">\n",
       "      <th></th>\n",
       "      <th>Population</th>\n",
       "      <th>Scrape_Date</th>\n",
       "      <th>STATE-COUNTY</th>\n",
       "    </tr>\n",
       "  </thead>\n",
       "  <tbody>\n",
       "    <tr>\n",
       "      <td>6065</td>\n",
       "      <td>157.0</td>\n",
       "      <td>2020-02-08</td>\n",
       "      <td>AL-Autauga</td>\n",
       "    </tr>\n",
       "    <tr>\n",
       "      <td>6066</td>\n",
       "      <td>164.0</td>\n",
       "      <td>2020-02-09</td>\n",
       "      <td>AL-Autauga</td>\n",
       "    </tr>\n",
       "    <tr>\n",
       "      <td>6067</td>\n",
       "      <td>162.0</td>\n",
       "      <td>2020-02-10</td>\n",
       "      <td>AL-Autauga</td>\n",
       "    </tr>\n",
       "    <tr>\n",
       "      <td>6068</td>\n",
       "      <td>162.0</td>\n",
       "      <td>2020-02-11</td>\n",
       "      <td>AL-Autauga</td>\n",
       "    </tr>\n",
       "    <tr>\n",
       "      <td>6069</td>\n",
       "      <td>164.0</td>\n",
       "      <td>2020-02-12</td>\n",
       "      <td>AL-Autauga</td>\n",
       "    </tr>\n",
       "  </tbody>\n",
       "</table>\n",
       "</div>"
      ],
      "text/plain": [
       "      Population Scrape_Date STATE-COUNTY\n",
       "6065       157.0  2020-02-08   AL-Autauga\n",
       "6066       164.0  2020-02-09   AL-Autauga\n",
       "6067       162.0  2020-02-10   AL-Autauga\n",
       "6068       162.0  2020-02-11   AL-Autauga\n",
       "6069       164.0  2020-02-12   AL-Autauga"
      ]
     },
     "execution_count": 21,
     "metadata": {},
     "output_type": "execute_result"
    }
   ],
   "source": [
    "new.sort_values(by=['STATE-COUNTY', 'Scrape_Date']).head()"
   ]
  },
  {
   "cell_type": "code",
   "execution_count": 14,
   "metadata": {},
   "outputs": [
    {
     "data": {
      "text/html": [
       "<div>\n",
       "<style scoped>\n",
       "    .dataframe tbody tr th:only-of-type {\n",
       "        vertical-align: middle;\n",
       "    }\n",
       "\n",
       "    .dataframe tbody tr th {\n",
       "        vertical-align: top;\n",
       "    }\n",
       "\n",
       "    .dataframe thead th {\n",
       "        text-align: right;\n",
       "    }\n",
       "</style>\n",
       "<table border=\"1\" class=\"dataframe\">\n",
       "  <thead>\n",
       "    <tr style=\"text-align: right;\">\n",
       "      <th></th>\n",
       "      <th>Unnamed: 0</th>\n",
       "      <th>population_raw</th>\n",
       "      <th>population_zeroed</th>\n",
       "      <th>population_linear_interpolated</th>\n",
       "      <th>date</th>\n",
       "      <th>State-County</th>\n",
       "    </tr>\n",
       "  </thead>\n",
       "  <tbody>\n",
       "    <tr>\n",
       "      <td>27</td>\n",
       "      <td>2020-07-24</td>\n",
       "      <td>11.0</td>\n",
       "      <td>0.0</td>\n",
       "      <td>11.090909</td>\n",
       "      <td>2020-07-24</td>\n",
       "      <td>AL-Greene</td>\n",
       "    </tr>\n",
       "    <tr>\n",
       "      <td>28</td>\n",
       "      <td>2020-07-25</td>\n",
       "      <td>11.0</td>\n",
       "      <td>0.0</td>\n",
       "      <td>11.181818</td>\n",
       "      <td>2020-07-25</td>\n",
       "      <td>AL-Greene</td>\n",
       "    </tr>\n",
       "    <tr>\n",
       "      <td>29</td>\n",
       "      <td>2020-07-26</td>\n",
       "      <td>11.0</td>\n",
       "      <td>0.0</td>\n",
       "      <td>11.272727</td>\n",
       "      <td>2020-07-26</td>\n",
       "      <td>AL-Greene</td>\n",
       "    </tr>\n",
       "    <tr>\n",
       "      <td>30</td>\n",
       "      <td>2020-07-27</td>\n",
       "      <td>11.0</td>\n",
       "      <td>0.0</td>\n",
       "      <td>11.363636</td>\n",
       "      <td>2020-07-27</td>\n",
       "      <td>AL-Greene</td>\n",
       "    </tr>\n",
       "    <tr>\n",
       "      <td>31</td>\n",
       "      <td>2020-07-28</td>\n",
       "      <td>11.0</td>\n",
       "      <td>0.0</td>\n",
       "      <td>11.454545</td>\n",
       "      <td>2020-07-28</td>\n",
       "      <td>AL-Greene</td>\n",
       "    </tr>\n",
       "    <tr>\n",
       "      <td>...</td>\n",
       "      <td>...</td>\n",
       "      <td>...</td>\n",
       "      <td>...</td>\n",
       "      <td>...</td>\n",
       "      <td>...</td>\n",
       "      <td>...</td>\n",
       "    </tr>\n",
       "    <tr>\n",
       "      <td>433846</td>\n",
       "      <td>2021-03-27</td>\n",
       "      <td>3775.0</td>\n",
       "      <td>0.0</td>\n",
       "      <td>4141.000000</td>\n",
       "      <td>2021-03-27</td>\n",
       "      <td>TX-Tarrant</td>\n",
       "    </tr>\n",
       "    <tr>\n",
       "      <td>433847</td>\n",
       "      <td>2021-03-28</td>\n",
       "      <td>3775.0</td>\n",
       "      <td>0.0</td>\n",
       "      <td>4140.666667</td>\n",
       "      <td>2021-03-28</td>\n",
       "      <td>TX-Tarrant</td>\n",
       "    </tr>\n",
       "    <tr>\n",
       "      <td>433848</td>\n",
       "      <td>2021-03-29</td>\n",
       "      <td>3775.0</td>\n",
       "      <td>0.0</td>\n",
       "      <td>4140.333333</td>\n",
       "      <td>2021-03-29</td>\n",
       "      <td>TX-Tarrant</td>\n",
       "    </tr>\n",
       "    <tr>\n",
       "      <td>433888</td>\n",
       "      <td>2021-05-08</td>\n",
       "      <td>3911.0</td>\n",
       "      <td>0.0</td>\n",
       "      <td>4094.666667</td>\n",
       "      <td>2021-05-08</td>\n",
       "      <td>TX-Tarrant</td>\n",
       "    </tr>\n",
       "    <tr>\n",
       "      <td>433889</td>\n",
       "      <td>2021-05-09</td>\n",
       "      <td>3911.0</td>\n",
       "      <td>0.0</td>\n",
       "      <td>4098.333333</td>\n",
       "      <td>2021-05-09</td>\n",
       "      <td>TX-Tarrant</td>\n",
       "    </tr>\n",
       "  </tbody>\n",
       "</table>\n",
       "<p>57582 rows × 6 columns</p>\n",
       "</div>"
      ],
      "text/plain": [
       "        Unnamed: 0  population_raw  population_zeroed  \\\n",
       "27      2020-07-24            11.0                0.0   \n",
       "28      2020-07-25            11.0                0.0   \n",
       "29      2020-07-26            11.0                0.0   \n",
       "30      2020-07-27            11.0                0.0   \n",
       "31      2020-07-28            11.0                0.0   \n",
       "...            ...             ...                ...   \n",
       "433846  2021-03-27          3775.0                0.0   \n",
       "433847  2021-03-28          3775.0                0.0   \n",
       "433848  2021-03-29          3775.0                0.0   \n",
       "433888  2021-05-08          3911.0                0.0   \n",
       "433889  2021-05-09          3911.0                0.0   \n",
       "\n",
       "        population_linear_interpolated        date State-County  \n",
       "27                           11.090909  2020-07-24    AL-Greene  \n",
       "28                           11.181818  2020-07-25    AL-Greene  \n",
       "29                           11.272727  2020-07-26    AL-Greene  \n",
       "30                           11.363636  2020-07-27    AL-Greene  \n",
       "31                           11.454545  2020-07-28    AL-Greene  \n",
       "...                                ...         ...          ...  \n",
       "433846                     4141.000000  2021-03-27   TX-Tarrant  \n",
       "433847                     4140.666667  2021-03-28   TX-Tarrant  \n",
       "433848                     4140.333333  2021-03-29   TX-Tarrant  \n",
       "433888                     4094.666667  2021-05-08   TX-Tarrant  \n",
       "433889                     4098.333333  2021-05-09   TX-Tarrant  \n",
       "\n",
       "[57582 rows x 6 columns]"
      ]
     },
     "execution_count": 14,
     "metadata": {},
     "output_type": "execute_result"
    }
   ],
   "source": [
    "new[new.population_zeroed==0]"
   ]
  },
  {
   "cell_type": "code",
   "execution_count": 9,
   "metadata": {},
   "outputs": [],
   "source": [
    "import numpy as np\n",
    "import matplotlib.pyplot as plt\n",
    "%matplotlib inline"
   ]
  },
  {
   "cell_type": "code",
   "execution_count": 13,
   "metadata": {},
   "outputs": [
    {
     "data": {
      "text/plain": [
       "Text(0, 0.5, 'Population Zeroed')"
      ]
     },
     "execution_count": 13,
     "metadata": {},
     "output_type": "execute_result"
    },
    {
     "data": {
      "image/png": "[encoded data removed]",
      "text/plain": [
       "<Figure size 432x288 with 1 Axes>"
      ]
     },
     "metadata": {
      "needs_background": "light"
     },
     "output_type": "display_data"
    }
   ],
   "source": [
    "plt.scatter(new.population_raw, new.population_zeroed)\n",
    "plt.xlabel('Population Raw')\n",
    "plt.ylabel(\"Population Zeroed\")"
   ]
  },
  {
   "cell_type": "code",
   "execution_count": 10,
   "metadata": {},
   "outputs": [
    {
     "data": {
      "text/plain": [
       "array([[1.        , 0.95530194],\n",
       "       [0.95530194, 1.        ]])"
      ]
     },
     "execution_count": 10,
     "metadata": {},
     "output_type": "execute_result"
    }
   ],
   "source": [
    "np.corrcoef(new.population_raw, new.population_zeroed)"
   ]
  },
  {
   "cell_type": "code",
   "execution_count": 42,
   "metadata": {},
   "outputs": [
    {
     "data": {
      "text/plain": [
       "array([[ 1., nan],\n",
       "       [nan, nan]])"
      ]
     },
     "execution_count": 42,
     "metadata": {},
     "output_type": "execute_result"
    }
   ],
   "source": [
    "np.corrcoef(new.population_raw, new.population_linear_interpolated)"
   ]
  },
  {
   "cell_type": "code",
   "execution_count": 43,
   "metadata": {},
   "outputs": [
    {
     "data": {
      "text/html": [
       "<div>\n",
       "<style scoped>\n",
       "    .dataframe tbody tr th:only-of-type {\n",
       "        vertical-align: middle;\n",
       "    }\n",
       "\n",
       "    .dataframe tbody tr th {\n",
       "        vertical-align: top;\n",
       "    }\n",
       "\n",
       "    .dataframe thead th {\n",
       "        text-align: right;\n",
       "    }\n",
       "</style>\n",
       "<table border=\"1\" class=\"dataframe\">\n",
       "  <thead>\n",
       "    <tr style=\"text-align: right;\">\n",
       "      <th></th>\n",
       "      <th>Unnamed: 0</th>\n",
       "      <th>population_raw</th>\n",
       "      <th>population_zeroed</th>\n",
       "      <th>population_linear_interpolated</th>\n",
       "      <th>date</th>\n",
       "      <th>State-County</th>\n",
       "    </tr>\n",
       "  </thead>\n",
       "  <tbody>\n",
       "    <tr>\n",
       "      <td>11140</td>\n",
       "      <td>2021-03-29</td>\n",
       "      <td>594.0</td>\n",
       "      <td>0.0</td>\n",
       "      <td>588.275862</td>\n",
       "      <td>2021-03-29</td>\n",
       "      <td>AL-Baldwin</td>\n",
       "    </tr>\n",
       "    <tr>\n",
       "      <td>11141</td>\n",
       "      <td>2021-03-30</td>\n",
       "      <td>595.0</td>\n",
       "      <td>0.0</td>\n",
       "      <td>589.551724</td>\n",
       "      <td>2021-03-30</td>\n",
       "      <td>AL-Baldwin</td>\n",
       "    </tr>\n",
       "    <tr>\n",
       "      <td>11142</td>\n",
       "      <td>2021-03-31</td>\n",
       "      <td>595.0</td>\n",
       "      <td>0.0</td>\n",
       "      <td>590.827586</td>\n",
       "      <td>2021-03-31</td>\n",
       "      <td>AL-Baldwin</td>\n",
       "    </tr>\n",
       "    <tr>\n",
       "      <td>11143</td>\n",
       "      <td>2021-04-01</td>\n",
       "      <td>596.0</td>\n",
       "      <td>0.0</td>\n",
       "      <td>592.103448</td>\n",
       "      <td>2021-04-01</td>\n",
       "      <td>AL-Baldwin</td>\n",
       "    </tr>\n",
       "    <tr>\n",
       "      <td>11147</td>\n",
       "      <td>2021-04-05</td>\n",
       "      <td>603.0</td>\n",
       "      <td>0.0</td>\n",
       "      <td>597.206897</td>\n",
       "      <td>2021-04-05</td>\n",
       "      <td>AL-Baldwin</td>\n",
       "    </tr>\n",
       "    <tr>\n",
       "      <td>11148</td>\n",
       "      <td>2021-04-06</td>\n",
       "      <td>606.0</td>\n",
       "      <td>0.0</td>\n",
       "      <td>598.482759</td>\n",
       "      <td>2021-04-06</td>\n",
       "      <td>AL-Baldwin</td>\n",
       "    </tr>\n",
       "    <tr>\n",
       "      <td>11153</td>\n",
       "      <td>2021-04-11</td>\n",
       "      <td>605.0</td>\n",
       "      <td>0.0</td>\n",
       "      <td>604.862069</td>\n",
       "      <td>2021-04-11</td>\n",
       "      <td>AL-Baldwin</td>\n",
       "    </tr>\n",
       "    <tr>\n",
       "      <td>11154</td>\n",
       "      <td>2021-04-12</td>\n",
       "      <td>608.0</td>\n",
       "      <td>0.0</td>\n",
       "      <td>606.137931</td>\n",
       "      <td>2021-04-12</td>\n",
       "      <td>AL-Baldwin</td>\n",
       "    </tr>\n",
       "    <tr>\n",
       "      <td>11155</td>\n",
       "      <td>2021-04-13</td>\n",
       "      <td>608.0</td>\n",
       "      <td>0.0</td>\n",
       "      <td>607.413793</td>\n",
       "      <td>2021-04-13</td>\n",
       "      <td>AL-Baldwin</td>\n",
       "    </tr>\n",
       "    <tr>\n",
       "      <td>11160</td>\n",
       "      <td>2021-04-18</td>\n",
       "      <td>619.0</td>\n",
       "      <td>0.0</td>\n",
       "      <td>613.793103</td>\n",
       "      <td>2021-04-18</td>\n",
       "      <td>AL-Baldwin</td>\n",
       "    </tr>\n",
       "    <tr>\n",
       "      <td>11161</td>\n",
       "      <td>2021-04-19</td>\n",
       "      <td>619.0</td>\n",
       "      <td>0.0</td>\n",
       "      <td>615.068966</td>\n",
       "      <td>2021-04-19</td>\n",
       "      <td>AL-Baldwin</td>\n",
       "    </tr>\n",
       "    <tr>\n",
       "      <td>11164</td>\n",
       "      <td>2021-04-22</td>\n",
       "      <td>620.0</td>\n",
       "      <td>0.0</td>\n",
       "      <td>618.896552</td>\n",
       "      <td>2021-04-22</td>\n",
       "      <td>AL-Baldwin</td>\n",
       "    </tr>\n",
       "    <tr>\n",
       "      <td>11167</td>\n",
       "      <td>2021-04-25</td>\n",
       "      <td>628.0</td>\n",
       "      <td>0.0</td>\n",
       "      <td>622.724138</td>\n",
       "      <td>2021-04-25</td>\n",
       "      <td>AL-Baldwin</td>\n",
       "    </tr>\n",
       "    <tr>\n",
       "      <td>11168</td>\n",
       "      <td>2021-04-26</td>\n",
       "      <td>633.0</td>\n",
       "      <td>0.0</td>\n",
       "      <td>624.000000</td>\n",
       "      <td>2021-04-26</td>\n",
       "      <td>AL-Baldwin</td>\n",
       "    </tr>\n",
       "    <tr>\n",
       "      <td>11169</td>\n",
       "      <td>2021-04-27</td>\n",
       "      <td>633.0</td>\n",
       "      <td>0.0</td>\n",
       "      <td>625.275862</td>\n",
       "      <td>2021-04-27</td>\n",
       "      <td>AL-Baldwin</td>\n",
       "    </tr>\n",
       "    <tr>\n",
       "      <td>11170</td>\n",
       "      <td>2021-04-28</td>\n",
       "      <td>636.0</td>\n",
       "      <td>0.0</td>\n",
       "      <td>626.551724</td>\n",
       "      <td>2021-04-28</td>\n",
       "      <td>AL-Baldwin</td>\n",
       "    </tr>\n",
       "    <tr>\n",
       "      <td>11171</td>\n",
       "      <td>2021-04-29</td>\n",
       "      <td>632.0</td>\n",
       "      <td>0.0</td>\n",
       "      <td>627.827586</td>\n",
       "      <td>2021-04-29</td>\n",
       "      <td>AL-Baldwin</td>\n",
       "    </tr>\n",
       "    <tr>\n",
       "      <td>11172</td>\n",
       "      <td>2021-04-30</td>\n",
       "      <td>630.0</td>\n",
       "      <td>0.0</td>\n",
       "      <td>629.103448</td>\n",
       "      <td>2021-04-30</td>\n",
       "      <td>AL-Baldwin</td>\n",
       "    </tr>\n",
       "    <tr>\n",
       "      <td>11176</td>\n",
       "      <td>2021-05-04</td>\n",
       "      <td>637.0</td>\n",
       "      <td>0.0</td>\n",
       "      <td>634.206897</td>\n",
       "      <td>2021-05-04</td>\n",
       "      <td>AL-Baldwin</td>\n",
       "    </tr>\n",
       "  </tbody>\n",
       "</table>\n",
       "</div>"
      ],
      "text/plain": [
       "       Unnamed: 0  population_raw  population_zeroed  \\\n",
       "11140  2021-03-29           594.0                0.0   \n",
       "11141  2021-03-30           595.0                0.0   \n",
       "11142  2021-03-31           595.0                0.0   \n",
       "11143  2021-04-01           596.0                0.0   \n",
       "11147  2021-04-05           603.0                0.0   \n",
       "11148  2021-04-06           606.0                0.0   \n",
       "11153  2021-04-11           605.0                0.0   \n",
       "11154  2021-04-12           608.0                0.0   \n",
       "11155  2021-04-13           608.0                0.0   \n",
       "11160  2021-04-18           619.0                0.0   \n",
       "11161  2021-04-19           619.0                0.0   \n",
       "11164  2021-04-22           620.0                0.0   \n",
       "11167  2021-04-25           628.0                0.0   \n",
       "11168  2021-04-26           633.0                0.0   \n",
       "11169  2021-04-27           633.0                0.0   \n",
       "11170  2021-04-28           636.0                0.0   \n",
       "11171  2021-04-29           632.0                0.0   \n",
       "11172  2021-04-30           630.0                0.0   \n",
       "11176  2021-05-04           637.0                0.0   \n",
       "\n",
       "       population_linear_interpolated        date State-County  \n",
       "11140                      588.275862  2021-03-29   AL-Baldwin  \n",
       "11141                      589.551724  2021-03-30   AL-Baldwin  \n",
       "11142                      590.827586  2021-03-31   AL-Baldwin  \n",
       "11143                      592.103448  2021-04-01   AL-Baldwin  \n",
       "11147                      597.206897  2021-04-05   AL-Baldwin  \n",
       "11148                      598.482759  2021-04-06   AL-Baldwin  \n",
       "11153                      604.862069  2021-04-11   AL-Baldwin  \n",
       "11154                      606.137931  2021-04-12   AL-Baldwin  \n",
       "11155                      607.413793  2021-04-13   AL-Baldwin  \n",
       "11160                      613.793103  2021-04-18   AL-Baldwin  \n",
       "11161                      615.068966  2021-04-19   AL-Baldwin  \n",
       "11164                      618.896552  2021-04-22   AL-Baldwin  \n",
       "11167                      622.724138  2021-04-25   AL-Baldwin  \n",
       "11168                      624.000000  2021-04-26   AL-Baldwin  \n",
       "11169                      625.275862  2021-04-27   AL-Baldwin  \n",
       "11170                      626.551724  2021-04-28   AL-Baldwin  \n",
       "11171                      627.827586  2021-04-29   AL-Baldwin  \n",
       "11172                      629.103448  2021-04-30   AL-Baldwin  \n",
       "11176                      634.206897  2021-05-04   AL-Baldwin  "
      ]
     },
     "execution_count": 43,
     "metadata": {},
     "output_type": "execute_result"
    }
   ],
   "source": [
    "new[new.population_raw > new.population_linear_interpolated]"
   ]
  },
  {
   "cell_type": "code",
   "execution_count": 41,
   "metadata": {},
   "outputs": [
    {
     "data": {
      "text/plain": [
       "<matplotlib.collections.PathCollection at 0x7fab878edb50>"
      ]
     },
     "execution_count": 41,
     "metadata": {},
     "output_type": "execute_result"
    },
    {
     "data": {
      "image/png": "[encoded data removed]",
      "text/plain": [
       "<Figure size 432x288 with 1 Axes>"
      ]
     },
     "metadata": {
      "needs_background": "light"
     },
     "output_type": "display_data"
    }
   ],
   "source": [
    "plt.scatter(new.population_raw, new.population_linear_interpolated)"
   ]
  },
  {
   "cell_type": "code",
   "execution_count": null,
   "metadata": {},
   "outputs": [],
   "source": []
  }
 ],
 "metadata": {
  "kernelspec": {
   "display_name": "Python 3",
   "language": "python",
   "name": "python3"
  },
  "language_info": {
   "codemirror_mode": {
    "name": "ipython",
    "version": 3
   },
   "file_extension": ".py",
   "mimetype": "text/x-python",
   "name": "python",
   "nbconvert_exporter": "python",
   "pygments_lexer": "ipython3",
   "version": "3.7.4"
  }
 },
 "nbformat": 4,
 "nbformat_minor": 2
}
